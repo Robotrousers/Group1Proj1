{
 "cells": [
  {
   "cell_type": "code",
   "execution_count": 17,
   "id": "4e6c21f9-901f-4687-a462-80c6ce669b36",
   "metadata": {},
   "outputs": [],
   "source": [
    "\n",
    "import pandas as pd\n",
    "from pathlib import Path\n",
    "import matplotlib.pyplot as plt\n",
    "import numpy as np\n",
    "\n"
   ]
  },
  {
   "cell_type": "code",
   "execution_count": 18,
   "id": "a621b62b-888b-4667-afb4-3408a22660d0",
   "metadata": {},
   "outputs": [
    {
     "data": {
      "text/html": [
       "<div>\n",
       "<style scoped>\n",
       "    .dataframe tbody tr th:only-of-type {\n",
       "        vertical-align: middle;\n",
       "    }\n",
       "\n",
       "    .dataframe tbody tr th {\n",
       "        vertical-align: top;\n",
       "    }\n",
       "\n",
       "    .dataframe thead th {\n",
       "        text-align: right;\n",
       "    }\n",
       "</style>\n",
       "<table border=\"1\" class=\"dataframe\">\n",
       "  <thead>\n",
       "    <tr style=\"text-align: right;\">\n",
       "      <th></th>\n",
       "      <th>Title</th>\n",
       "      <th>Year</th>\n",
       "      <th>IMDB Rating</th>\n",
       "      <th>IMDB Votes</th>\n",
       "      <th>Genre</th>\n",
       "      <th>Box Office</th>\n",
       "      <th>IMDB ID</th>\n",
       "      <th>Budget</th>\n",
       "      <th>Revenue</th>\n",
       "    </tr>\n",
       "  </thead>\n",
       "  <tbody>\n",
       "    <tr>\n",
       "      <th>0</th>\n",
       "      <td>Camille Claudel 1915</td>\n",
       "      <td>2013</td>\n",
       "      <td>6.5</td>\n",
       "      <td>3,889</td>\n",
       "      <td>Biography, Drama</td>\n",
       "      <td>$35,296</td>\n",
       "      <td>tt2018086</td>\n",
       "      <td>3512454.0</td>\n",
       "      <td>115860.0</td>\n",
       "    </tr>\n",
       "    <tr>\n",
       "      <th>1</th>\n",
       "      <td>Camille Claudel 1915</td>\n",
       "      <td>2013</td>\n",
       "      <td>6.5</td>\n",
       "      <td>3,889</td>\n",
       "      <td>Biography, Drama</td>\n",
       "      <td>$35,296</td>\n",
       "      <td>tt2018086</td>\n",
       "      <td>3512454.0</td>\n",
       "      <td>115860.0</td>\n",
       "    </tr>\n",
       "    <tr>\n",
       "      <th>2</th>\n",
       "      <td>Camille Claudel 1915</td>\n",
       "      <td>2013</td>\n",
       "      <td>6.5</td>\n",
       "      <td>3,889</td>\n",
       "      <td>Biography, Drama</td>\n",
       "      <td>$35,296</td>\n",
       "      <td>tt2018086</td>\n",
       "      <td>3512454.0</td>\n",
       "      <td>115860.0</td>\n",
       "    </tr>\n",
       "    <tr>\n",
       "      <th>3</th>\n",
       "      <td>Camille Claudel 1915</td>\n",
       "      <td>2013</td>\n",
       "      <td>6.5</td>\n",
       "      <td>3,889</td>\n",
       "      <td>Biography, Drama</td>\n",
       "      <td>$35,296</td>\n",
       "      <td>tt2018086</td>\n",
       "      <td>3512454.0</td>\n",
       "      <td>115860.0</td>\n",
       "    </tr>\n",
       "    <tr>\n",
       "      <th>4</th>\n",
       "      <td>A Sound of Thunder</td>\n",
       "      <td>2005</td>\n",
       "      <td>4.2</td>\n",
       "      <td>20,549</td>\n",
       "      <td>Action, Adventure, Horror</td>\n",
       "      <td>$1,900,451</td>\n",
       "      <td>tt0318081</td>\n",
       "      <td>80000000.0</td>\n",
       "      <td>5989640.0</td>\n",
       "    </tr>\n",
       "  </tbody>\n",
       "</table>\n",
       "</div>"
      ],
      "text/plain": [
       "                  Title  Year IMDB Rating IMDB Votes  \\\n",
       "0  Camille Claudel 1915  2013         6.5      3,889   \n",
       "1  Camille Claudel 1915  2013         6.5      3,889   \n",
       "2  Camille Claudel 1915  2013         6.5      3,889   \n",
       "3  Camille Claudel 1915  2013         6.5      3,889   \n",
       "4    A Sound of Thunder  2005         4.2     20,549   \n",
       "\n",
       "                       Genre  Box Office    IMDB ID      Budget    Revenue  \n",
       "0           Biography, Drama     $35,296  tt2018086   3512454.0   115860.0  \n",
       "1           Biography, Drama     $35,296  tt2018086   3512454.0   115860.0  \n",
       "2           Biography, Drama     $35,296  tt2018086   3512454.0   115860.0  \n",
       "3           Biography, Drama     $35,296  tt2018086   3512454.0   115860.0  \n",
       "4  Action, Adventure, Horror  $1,900,451  tt0318081  80000000.0  5989640.0  "
      ]
     },
     "execution_count": 18,
     "metadata": {},
     "output_type": "execute_result"
    }
   ],
   "source": [
    "movie_data = Path(\"Resources/mo_movies_data.parquet\")\n",
    "movie_data_df = pd.read_parquet(movie_data)\n",
    "movie_data_df.head()"
   ]
  },
  {
   "cell_type": "code",
   "execution_count": 19,
   "id": "e9ffcb0a-f0da-4b0d-8bd0-38500943b338",
   "metadata": {},
   "outputs": [
    {
     "data": {
      "text/plain": [
       "Title           object\n",
       "Year            object\n",
       "IMDB Rating     object\n",
       "IMDB Votes      object\n",
       "Genre           object\n",
       "Box Office      object\n",
       "IMDB ID         object\n",
       "Budget         float64\n",
       "Revenue        float64\n",
       "dtype: object"
      ]
     },
     "execution_count": 19,
     "metadata": {},
     "output_type": "execute_result"
    }
   ],
   "source": [
    "movie_data_df.dtypes"
   ]
  },
  {
   "cell_type": "code",
   "execution_count": 20,
   "id": "92a021c9-1470-4ace-b648-7d7e36c4ec19",
   "metadata": {},
   "outputs": [],
   "source": [
    "movie_data_df[\"IMDB Votes\"] = movie_data_df[\"IMDB Votes\"].str.replace(',', '').astype(float)\n",
    "movie_data_df[\"IMDB Rating\"] = movie_data_df[\"IMDB Rating\"].astype(float)"
   ]
  },
  {
   "cell_type": "code",
   "execution_count": 21,
   "id": "6cf67c23-1904-4128-9591-1524088e0fa5",
   "metadata": {},
   "outputs": [
    {
     "data": {
      "text/plain": [
       "Title           object\n",
       "Year            object\n",
       "IMDB Rating    float64\n",
       "IMDB Votes     float64\n",
       "Genre           object\n",
       "Box Office      object\n",
       "IMDB ID         object\n",
       "Budget         float64\n",
       "Revenue        float64\n",
       "dtype: object"
      ]
     },
     "execution_count": 21,
     "metadata": {},
     "output_type": "execute_result"
    }
   ],
   "source": [
    "movie_data_df.dtypes"
   ]
  },
  {
   "cell_type": "code",
   "execution_count": 23,
   "id": "54ec9745-3287-4e8c-aeeb-2c4699df5fef",
   "metadata": {},
   "outputs": [],
   "source": [
    "movie_data_df.to_parquet(\"Resources/mo_movies_data.parquet\")"
   ]
  },
  {
   "cell_type": "code",
   "execution_count": null,
   "id": "8659572e-cabb-4d37-9c72-887355b1267f",
   "metadata": {},
   "outputs": [],
   "source": []
  }
 ],
 "metadata": {
  "kernelspec": {
   "display_name": "Python 3 (ipykernel)",
   "language": "python",
   "name": "python3"
  },
  "language_info": {
   "codemirror_mode": {
    "name": "ipython",
    "version": 3
   },
   "file_extension": ".py",
   "mimetype": "text/x-python",
   "name": "python",
   "nbconvert_exporter": "python",
   "pygments_lexer": "ipython3",
   "version": "3.10.14"
  }
 },
 "nbformat": 4,
 "nbformat_minor": 5
}

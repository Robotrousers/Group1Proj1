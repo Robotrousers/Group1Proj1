{
 "cells": [
  {
   "cell_type": "code",
   "execution_count": 1,
   "id": "d097153c-f9ae-4ced-9d5c-e7d02012ef73",
   "metadata": {},
   "outputs": [],
   "source": [
    "import pandas as pd\n",
    "from pathlib import Path\n",
    "import matplotlib.pyplot as plt\n",
    "import numpy as np\n",
    "from scipy.stats import linregress"
   ]
  },
  {
   "cell_type": "code",
   "execution_count": 2,
   "id": "365e85f1-8b5e-4d81-b438-34feca372c8a",
   "metadata": {},
   "outputs": [
    {
     "data": {
      "text/html": [
       "<div>\n",
       "<style scoped>\n",
       "    .dataframe tbody tr th:only-of-type {\n",
       "        vertical-align: middle;\n",
       "    }\n",
       "\n",
       "    .dataframe tbody tr th {\n",
       "        vertical-align: top;\n",
       "    }\n",
       "\n",
       "    .dataframe thead th {\n",
       "        text-align: right;\n",
       "    }\n",
       "</style>\n",
       "<table border=\"1\" class=\"dataframe\">\n",
       "  <thead>\n",
       "    <tr style=\"text-align: right;\">\n",
       "      <th></th>\n",
       "      <th>Title</th>\n",
       "      <th>Year</th>\n",
       "      <th>IMDB Rating</th>\n",
       "      <th>IMDB Votes</th>\n",
       "      <th>Genre</th>\n",
       "      <th>Box Office</th>\n",
       "      <th>IMDB ID</th>\n",
       "      <th>Budget</th>\n",
       "      <th>Revenue</th>\n",
       "    </tr>\n",
       "  </thead>\n",
       "  <tbody>\n",
       "    <tr>\n",
       "      <th>0</th>\n",
       "      <td>Camille Claudel 1915</td>\n",
       "      <td>2013</td>\n",
       "      <td>6.5</td>\n",
       "      <td>3889.0</td>\n",
       "      <td>Biography, Drama</td>\n",
       "      <td>$35,296</td>\n",
       "      <td>tt2018086</td>\n",
       "      <td>3512454</td>\n",
       "      <td>115860.0</td>\n",
       "    </tr>\n",
       "    <tr>\n",
       "      <th>1</th>\n",
       "      <td>A Sound of Thunder</td>\n",
       "      <td>2005</td>\n",
       "      <td>4.2</td>\n",
       "      <td>20549.0</td>\n",
       "      <td>Action, Adventure, Horror</td>\n",
       "      <td>$1,900,451</td>\n",
       "      <td>tt0318081</td>\n",
       "      <td>80000000</td>\n",
       "      <td>5989640.0</td>\n",
       "    </tr>\n",
       "    <tr>\n",
       "      <th>2</th>\n",
       "      <td>The Jacket</td>\n",
       "      <td>2005</td>\n",
       "      <td>7.1</td>\n",
       "      <td>119641.0</td>\n",
       "      <td>Drama, Fantasy, Mystery</td>\n",
       "      <td>$6,303,762</td>\n",
       "      <td>tt0366627</td>\n",
       "      <td>29000000</td>\n",
       "      <td>21126225.0</td>\n",
       "    </tr>\n",
       "    <tr>\n",
       "      <th>3</th>\n",
       "      <td>The Interpreter</td>\n",
       "      <td>2005</td>\n",
       "      <td>6.4</td>\n",
       "      <td>111280.0</td>\n",
       "      <td>Crime, Mystery, Thriller</td>\n",
       "      <td>$72,708,161</td>\n",
       "      <td>tt0373926</td>\n",
       "      <td>80000000</td>\n",
       "      <td>162944923.0</td>\n",
       "    </tr>\n",
       "    <tr>\n",
       "      <th>4</th>\n",
       "      <td>The Ring Two</td>\n",
       "      <td>2005</td>\n",
       "      <td>5.4</td>\n",
       "      <td>101457.0</td>\n",
       "      <td>Horror, Mystery</td>\n",
       "      <td>$76,231,249</td>\n",
       "      <td>tt0377109</td>\n",
       "      <td>50000000</td>\n",
       "      <td>161451538.0</td>\n",
       "    </tr>\n",
       "  </tbody>\n",
       "</table>\n",
       "</div>"
      ],
      "text/plain": [
       "                  Title  Year  IMDB Rating  IMDB Votes  \\\n",
       "0  Camille Claudel 1915  2013          6.5      3889.0   \n",
       "1    A Sound of Thunder  2005          4.2     20549.0   \n",
       "2            The Jacket  2005          7.1    119641.0   \n",
       "3       The Interpreter  2005          6.4    111280.0   \n",
       "4          The Ring Two  2005          5.4    101457.0   \n",
       "\n",
       "                       Genre   Box Office    IMDB ID    Budget      Revenue  \n",
       "0           Biography, Drama      $35,296  tt2018086   3512454     115860.0  \n",
       "1  Action, Adventure, Horror   $1,900,451  tt0318081  80000000    5989640.0  \n",
       "2    Drama, Fantasy, Mystery   $6,303,762  tt0366627  29000000   21126225.0  \n",
       "3   Crime, Mystery, Thriller  $72,708,161  tt0373926  80000000  162944923.0  \n",
       "4            Horror, Mystery  $76,231,249  tt0377109  50000000  161451538.0  "
      ]
     },
     "execution_count": 2,
     "metadata": {},
     "output_type": "execute_result"
    }
   ],
   "source": [
<<<<<<< HEAD
    "movie_data = Path(\"Resources/mo_movies_data.csv\")\n",
    "movie_data_df = pd.read_csv(movie_data)\n",
=======
    "movie_data = Path(\"Resources/mo_movies_data.parquet\")\n",
    "movie_data_df = pd.read_parquet(movie_data)\n",
>>>>>>> sarah_b
    "movie_data_df.head()"
   ]
  },
  {
   "cell_type": "code",
   "execution_count": 3,
<<<<<<< HEAD
=======
   "id": "8a215d8c-48e4-4c7a-a836-843fc38b9239",
   "metadata": {},
   "outputs": [
    {
     "data": {
      "text/html": [
       "<div>\n",
       "<style scoped>\n",
       "    .dataframe tbody tr th:only-of-type {\n",
       "        vertical-align: middle;\n",
       "    }\n",
       "\n",
       "    .dataframe tbody tr th {\n",
       "        vertical-align: top;\n",
       "    }\n",
       "\n",
       "    .dataframe thead th {\n",
       "        text-align: right;\n",
       "    }\n",
       "</style>\n",
       "<table border=\"1\" class=\"dataframe\">\n",
       "  <thead>\n",
       "    <tr style=\"text-align: right;\">\n",
       "      <th></th>\n",
       "      <th>Title</th>\n",
       "      <th>Year</th>\n",
       "      <th>IMDB Rating</th>\n",
       "      <th>IMDB Votes</th>\n",
       "      <th>Genre</th>\n",
       "      <th>Box Office</th>\n",
       "      <th>IMDB ID</th>\n",
       "      <th>Budget</th>\n",
       "      <th>Revenue</th>\n",
       "      <th>ROI$</th>\n",
       "    </tr>\n",
       "  </thead>\n",
       "  <tbody>\n",
       "    <tr>\n",
       "      <th>0</th>\n",
       "      <td>Camille Claudel 1915</td>\n",
       "      <td>2013</td>\n",
       "      <td>6.5</td>\n",
       "      <td>3889.0</td>\n",
       "      <td>Biography, Drama</td>\n",
       "      <td>$35,296</td>\n",
       "      <td>tt2018086</td>\n",
       "      <td>3512454</td>\n",
       "      <td>115860.0</td>\n",
       "      <td>-3396594.0</td>\n",
       "    </tr>\n",
       "    <tr>\n",
       "      <th>1</th>\n",
       "      <td>A Sound of Thunder</td>\n",
       "      <td>2005</td>\n",
       "      <td>4.2</td>\n",
       "      <td>20549.0</td>\n",
       "      <td>Action, Adventure, Horror</td>\n",
       "      <td>$1,900,451</td>\n",
       "      <td>tt0318081</td>\n",
       "      <td>80000000</td>\n",
       "      <td>5989640.0</td>\n",
       "      <td>-74010360.0</td>\n",
       "    </tr>\n",
       "    <tr>\n",
       "      <th>2</th>\n",
       "      <td>The Jacket</td>\n",
       "      <td>2005</td>\n",
       "      <td>7.1</td>\n",
       "      <td>119641.0</td>\n",
       "      <td>Drama, Fantasy, Mystery</td>\n",
       "      <td>$6,303,762</td>\n",
       "      <td>tt0366627</td>\n",
       "      <td>29000000</td>\n",
       "      <td>21126225.0</td>\n",
       "      <td>-7873775.0</td>\n",
       "    </tr>\n",
       "    <tr>\n",
       "      <th>3</th>\n",
       "      <td>The Interpreter</td>\n",
       "      <td>2005</td>\n",
       "      <td>6.4</td>\n",
       "      <td>111280.0</td>\n",
       "      <td>Crime, Mystery, Thriller</td>\n",
       "      <td>$72,708,161</td>\n",
       "      <td>tt0373926</td>\n",
       "      <td>80000000</td>\n",
       "      <td>162944923.0</td>\n",
       "      <td>82944923.0</td>\n",
       "    </tr>\n",
       "    <tr>\n",
       "      <th>4</th>\n",
       "      <td>The Ring Two</td>\n",
       "      <td>2005</td>\n",
       "      <td>5.4</td>\n",
       "      <td>101457.0</td>\n",
       "      <td>Horror, Mystery</td>\n",
       "      <td>$76,231,249</td>\n",
       "      <td>tt0377109</td>\n",
       "      <td>50000000</td>\n",
       "      <td>161451538.0</td>\n",
       "      <td>111451538.0</td>\n",
       "    </tr>\n",
       "    <tr>\n",
       "      <th>...</th>\n",
       "      <td>...</td>\n",
       "      <td>...</td>\n",
       "      <td>...</td>\n",
       "      <td>...</td>\n",
       "      <td>...</td>\n",
       "      <td>...</td>\n",
       "      <td>...</td>\n",
       "      <td>...</td>\n",
       "      <td>...</td>\n",
       "      <td>...</td>\n",
       "    </tr>\n",
       "    <tr>\n",
       "      <th>2311</th>\n",
       "      <td>FC Venus</td>\n",
       "      <td>2005</td>\n",
       "      <td>5.5</td>\n",
       "      <td>2325.0</td>\n",
       "      <td>Comedy, Romance, Sport</td>\n",
       "      <td>N/A</td>\n",
       "      <td>tt0453365</td>\n",
       "      <td>2196531</td>\n",
       "      <td>2411594.0</td>\n",
       "      <td>215063.0</td>\n",
       "    </tr>\n",
       "    <tr>\n",
       "      <th>2312</th>\n",
       "      <td>Sivaji</td>\n",
       "      <td>2007</td>\n",
       "      <td>7.5</td>\n",
       "      <td>21484.0</td>\n",
       "      <td>Action, Crime, Drama</td>\n",
       "      <td>N/A</td>\n",
       "      <td>tt0479751</td>\n",
       "      <td>12000000</td>\n",
       "      <td>19000000.0</td>\n",
       "      <td>7000000.0</td>\n",
       "    </tr>\n",
       "    <tr>\n",
       "      <th>2313</th>\n",
       "      <td>Dikari</td>\n",
       "      <td>2006</td>\n",
       "      <td>6.5</td>\n",
       "      <td>693.0</td>\n",
       "      <td>Comedy</td>\n",
       "      <td>N/A</td>\n",
       "      <td>tt0933361</td>\n",
       "      <td>800000</td>\n",
       "      <td>1328612.0</td>\n",
       "      <td>528612.0</td>\n",
       "    </tr>\n",
       "    <tr>\n",
       "      <th>2314</th>\n",
       "      <td>Pro lyuboff</td>\n",
       "      <td>2010</td>\n",
       "      <td>5.8</td>\n",
       "      <td>297.0</td>\n",
       "      <td>Drama</td>\n",
       "      <td>N/A</td>\n",
       "      <td>tt1718881</td>\n",
       "      <td>2000000</td>\n",
       "      <td>1268793.0</td>\n",
       "      <td>-731207.0</td>\n",
       "    </tr>\n",
       "    <tr>\n",
       "      <th>2315</th>\n",
       "      <td>Antidur</td>\n",
       "      <td>2007</td>\n",
       "      <td>3.4</td>\n",
       "      <td>232.0</td>\n",
       "      <td>Action, Comedy, Crime</td>\n",
       "      <td>N/A</td>\n",
       "      <td>tt1110037</td>\n",
       "      <td>5000000</td>\n",
       "      <td>1413000.0</td>\n",
       "      <td>-3587000.0</td>\n",
       "    </tr>\n",
       "  </tbody>\n",
       "</table>\n",
       "<p>2316 rows × 10 columns</p>\n",
       "</div>"
      ],
      "text/plain": [
       "                     Title  Year  IMDB Rating  IMDB Votes  \\\n",
       "0     Camille Claudel 1915  2013          6.5      3889.0   \n",
       "1       A Sound of Thunder  2005          4.2     20549.0   \n",
       "2               The Jacket  2005          7.1    119641.0   \n",
       "3          The Interpreter  2005          6.4    111280.0   \n",
       "4             The Ring Two  2005          5.4    101457.0   \n",
       "...                    ...   ...          ...         ...   \n",
       "2311              FC Venus  2005          5.5      2325.0   \n",
       "2312                Sivaji  2007          7.5     21484.0   \n",
       "2313                Dikari  2006          6.5       693.0   \n",
       "2314           Pro lyuboff  2010          5.8       297.0   \n",
       "2315               Antidur  2007          3.4       232.0   \n",
       "\n",
       "                          Genre   Box Office    IMDB ID    Budget  \\\n",
       "0              Biography, Drama      $35,296  tt2018086   3512454   \n",
       "1     Action, Adventure, Horror   $1,900,451  tt0318081  80000000   \n",
       "2       Drama, Fantasy, Mystery   $6,303,762  tt0366627  29000000   \n",
       "3      Crime, Mystery, Thriller  $72,708,161  tt0373926  80000000   \n",
       "4               Horror, Mystery  $76,231,249  tt0377109  50000000   \n",
       "...                         ...          ...        ...       ...   \n",
       "2311     Comedy, Romance, Sport          N/A  tt0453365   2196531   \n",
       "2312       Action, Crime, Drama          N/A  tt0479751  12000000   \n",
       "2313                     Comedy          N/A  tt0933361    800000   \n",
       "2314                      Drama          N/A  tt1718881   2000000   \n",
       "2315      Action, Comedy, Crime          N/A  tt1110037   5000000   \n",
       "\n",
       "          Revenue         ROI$  \n",
       "0        115860.0   -3396594.0  \n",
       "1       5989640.0  -74010360.0  \n",
       "2      21126225.0   -7873775.0  \n",
       "3     162944923.0   82944923.0  \n",
       "4     161451538.0  111451538.0  \n",
       "...           ...          ...  \n",
       "2311    2411594.0     215063.0  \n",
       "2312   19000000.0    7000000.0  \n",
       "2313    1328612.0     528612.0  \n",
       "2314    1268793.0    -731207.0  \n",
       "2315    1413000.0   -3587000.0  \n",
       "\n",
       "[2316 rows x 10 columns]"
      ]
     },
     "execution_count": 3,
     "metadata": {},
     "output_type": "execute_result"
    }
   ],
   "source": [
    "movie_data_df[\"ROI$\"] = (movie_data_df['Revenue'] - movie_data_df['Budget'])\n",
    "movie_data_df"
   ]
  },
  {
   "cell_type": "code",
   "execution_count": 4,
>>>>>>> sarah_b
   "id": "c5bd714f-1d98-4b76-8ca4-8519cd90ec09",
   "metadata": {},
   "outputs": [
    {
     "data": {
      "text/html": [
       "<div>\n",
       "<style scoped>\n",
       "    .dataframe tbody tr th:only-of-type {\n",
       "        vertical-align: middle;\n",
       "    }\n",
       "\n",
       "    .dataframe tbody tr th {\n",
       "        vertical-align: top;\n",
       "    }\n",
       "\n",
       "    .dataframe thead tr th {\n",
       "        text-align: left;\n",
       "    }\n",
       "\n",
       "    .dataframe thead tr:last-of-type th {\n",
       "        text-align: right;\n",
       "    }\n",
       "</style>\n",
       "<table border=\"1\" class=\"dataframe\">\n",
       "  <thead>\n",
       "    <tr>\n",
       "      <th></th>\n",
       "      <th colspan=\"5\" halign=\"left\">IMDB Rating</th>\n",
       "    </tr>\n",
       "    <tr>\n",
       "      <th></th>\n",
       "      <th>mean</th>\n",
       "      <th>median</th>\n",
       "      <th>var</th>\n",
       "      <th>std</th>\n",
       "      <th>sem</th>\n",
       "    </tr>\n",
       "    <tr>\n",
       "      <th>Year</th>\n",
       "      <th></th>\n",
       "      <th></th>\n",
       "      <th></th>\n",
       "      <th></th>\n",
       "      <th></th>\n",
       "    </tr>\n",
       "  </thead>\n",
       "  <tbody>\n",
       "    <tr>\n",
       "      <th>2005</th>\n",
       "      <td>6.354450</td>\n",
       "      <td>6.50</td>\n",
       "      <td>1.025020</td>\n",
       "      <td>1.012432</td>\n",
       "      <td>0.073257</td>\n",
       "    </tr>\n",
       "    <tr>\n",
       "      <th>2006</th>\n",
       "      <td>6.386321</td>\n",
       "      <td>6.50</td>\n",
       "      <td>1.058817</td>\n",
       "      <td>1.028988</td>\n",
       "      <td>0.070671</td>\n",
       "    </tr>\n",
       "    <tr>\n",
       "      <th>2007</th>\n",
       "      <td>6.506771</td>\n",
       "      <td>6.60</td>\n",
       "      <td>1.033933</td>\n",
       "      <td>1.016825</td>\n",
       "      <td>0.073383</td>\n",
       "    </tr>\n",
       "    <tr>\n",
       "      <th>2008</th>\n",
       "      <td>6.301932</td>\n",
       "      <td>6.40</td>\n",
       "      <td>1.204948</td>\n",
       "      <td>1.097701</td>\n",
       "      <td>0.076296</td>\n",
       "    </tr>\n",
       "    <tr>\n",
       "      <th>2009</th>\n",
       "      <td>6.417972</td>\n",
       "      <td>6.50</td>\n",
       "      <td>0.891296</td>\n",
       "      <td>0.944085</td>\n",
       "      <td>0.064089</td>\n",
       "    </tr>\n",
       "    <tr>\n",
       "      <th>2010</th>\n",
       "      <td>6.368996</td>\n",
       "      <td>6.40</td>\n",
       "      <td>0.887061</td>\n",
       "      <td>0.941839</td>\n",
       "      <td>0.062238</td>\n",
       "    </tr>\n",
       "    <tr>\n",
       "      <th>2011</th>\n",
       "      <td>6.327039</td>\n",
       "      <td>6.40</td>\n",
       "      <td>0.999654</td>\n",
       "      <td>0.999827</td>\n",
       "      <td>0.065501</td>\n",
       "    </tr>\n",
       "    <tr>\n",
       "      <th>2012</th>\n",
       "      <td>6.402913</td>\n",
       "      <td>6.45</td>\n",
       "      <td>1.011894</td>\n",
       "      <td>1.005929</td>\n",
       "      <td>0.070086</td>\n",
       "    </tr>\n",
       "    <tr>\n",
       "      <th>2013</th>\n",
       "      <td>6.512500</td>\n",
       "      <td>6.50</td>\n",
       "      <td>0.876345</td>\n",
       "      <td>0.936133</td>\n",
       "      <td>0.062548</td>\n",
       "    </tr>\n",
       "    <tr>\n",
       "      <th>2014</th>\n",
       "      <td>6.375962</td>\n",
       "      <td>6.40</td>\n",
       "      <td>1.111690</td>\n",
       "      <td>1.054367</td>\n",
       "      <td>0.073107</td>\n",
       "    </tr>\n",
       "    <tr>\n",
       "      <th>2015</th>\n",
       "      <td>6.491878</td>\n",
       "      <td>6.60</td>\n",
       "      <td>0.842179</td>\n",
       "      <td>0.917703</td>\n",
       "      <td>0.065384</td>\n",
       "    </tr>\n",
       "  </tbody>\n",
       "</table>\n",
       "</div>"
      ],
      "text/plain": [
       "     IMDB Rating                                     \n",
       "            mean median       var       std       sem\n",
       "Year                                                 \n",
       "2005    6.354450   6.50  1.025020  1.012432  0.073257\n",
       "2006    6.386321   6.50  1.058817  1.028988  0.070671\n",
       "2007    6.506771   6.60  1.033933  1.016825  0.073383\n",
       "2008    6.301932   6.40  1.204948  1.097701  0.076296\n",
       "2009    6.417972   6.50  0.891296  0.944085  0.064089\n",
       "2010    6.368996   6.40  0.887061  0.941839  0.062238\n",
       "2011    6.327039   6.40  0.999654  0.999827  0.065501\n",
       "2012    6.402913   6.45  1.011894  1.005929  0.070086\n",
       "2013    6.512500   6.50  0.876345  0.936133  0.062548\n",
       "2014    6.375962   6.40  1.111690  1.054367  0.073107\n",
       "2015    6.491878   6.60  0.842179  0.917703  0.065384"
      ]
     },
<<<<<<< HEAD
     "execution_count": 3,
=======
     "execution_count": 4,
>>>>>>> sarah_b
     "metadata": {},
     "output_type": "execute_result"
    }
   ],
   "source": [
    "year_agg = movie_data_df.groupby(['Year']).agg({'IMDB Rating': ['mean', 'median', 'var', 'std', 'sem']})\n",
    "year_agg"
   ]
  },
  {
   "cell_type": "code",
<<<<<<< HEAD
   "execution_count": 4,
=======
   "execution_count": 5,
>>>>>>> sarah_b
   "id": "497a1697-0aa7-4243-a861-ac6bdad94a43",
   "metadata": {},
   "outputs": [],
   "source": [
    "#pd.set_option('display.float_format', '{:.0f}'.format)"
   ]
  },
  {
   "cell_type": "code",
<<<<<<< HEAD
   "execution_count": 5,
=======
   "execution_count": 6,
>>>>>>> sarah_b
   "id": "d496f0fd-de33-4392-b2ff-c052ef963ae4",
   "metadata": {},
   "outputs": [
    {
     "data": {
      "text/plain": [
       "Title           object\n",
<<<<<<< HEAD
       "Year             int64\n",
=======
       "Year            object\n",
>>>>>>> sarah_b
       "IMDB Rating    float64\n",
       "IMDB Votes     float64\n",
       "Genre           object\n",
       "Box Office      object\n",
       "IMDB ID         object\n",
       "Budget           int64\n",
       "Revenue        float64\n",
<<<<<<< HEAD
       "dtype: object"
      ]
     },
     "execution_count": 5,
=======
       "ROI$           float64\n",
       "dtype: object"
      ]
     },
     "execution_count": 6,
>>>>>>> sarah_b
     "metadata": {},
     "output_type": "execute_result"
    }
   ],
   "source": [
    "movie_data_df.dtypes"
   ]
  },
  {
   "cell_type": "code",
<<<<<<< HEAD
   "execution_count": 6,
=======
   "execution_count": 7,
>>>>>>> sarah_b
   "id": "c5dabb5f-90eb-4f18-8a05-7f262c353268",
   "metadata": {},
   "outputs": [
    {
     "data": {
      "text/plain": [
       "9.0"
      ]
     },
<<<<<<< HEAD
     "execution_count": 6,
=======
     "execution_count": 7,
>>>>>>> sarah_b
     "metadata": {},
     "output_type": "execute_result"
    }
   ],
   "source": [
    "movie_data_df['IMDB Rating'].max()\n"
   ]
  },
  {
   "cell_type": "code",
<<<<<<< HEAD
   "execution_count": 7,
=======
   "execution_count": 8,
>>>>>>> sarah_b
   "id": "f2d9379e-5f1a-473a-af3f-b8f601d4c33f",
   "metadata": {},
   "outputs": [
    {
     "data": {
      "text/html": [
       "<div>\n",
       "<style scoped>\n",
       "    .dataframe tbody tr th:only-of-type {\n",
       "        vertical-align: middle;\n",
       "    }\n",
       "\n",
       "    .dataframe tbody tr th {\n",
       "        vertical-align: top;\n",
       "    }\n",
       "\n",
       "    .dataframe thead th {\n",
       "        text-align: right;\n",
       "    }\n",
       "</style>\n",
       "<table border=\"1\" class=\"dataframe\">\n",
       "  <thead>\n",
       "    <tr style=\"text-align: right;\">\n",
       "      <th></th>\n",
       "      <th>Title</th>\n",
       "      <th>Year</th>\n",
       "      <th>IMDB Rating</th>\n",
       "      <th>IMDB Votes</th>\n",
       "      <th>Genre</th>\n",
       "      <th>Box Office</th>\n",
       "      <th>IMDB ID</th>\n",
       "      <th>Budget</th>\n",
       "      <th>Revenue</th>\n",
<<<<<<< HEAD
=======
       "      <th>ROI$</th>\n",
>>>>>>> sarah_b
       "    </tr>\n",
       "  </thead>\n",
       "  <tbody>\n",
       "    <tr>\n",
       "      <th>555</th>\n",
       "      <td>The Dark Knight</td>\n",
       "      <td>2008</td>\n",
       "      <td>9.0</td>\n",
       "      <td>2896249.0</td>\n",
       "      <td>Action, Crime, Drama</td>\n",
       "      <td>$534,987,076</td>\n",
       "      <td>tt0468569</td>\n",
       "      <td>185000000</td>\n",
       "      <td>1.004558e+09</td>\n",
<<<<<<< HEAD
=======
       "      <td>819558444.0</td>\n",
>>>>>>> sarah_b
       "    </tr>\n",
       "  </tbody>\n",
       "</table>\n",
       "</div>"
      ],
      "text/plain": [
       "               Title  Year  IMDB Rating  IMDB Votes                 Genre  \\\n",
       "555  The Dark Knight  2008          9.0   2896249.0  Action, Crime, Drama   \n",
       "\n",
<<<<<<< HEAD
       "       Box Office    IMDB ID     Budget       Revenue  \n",
       "555  $534,987,076  tt0468569  185000000  1.004558e+09  "
      ]
     },
     "execution_count": 7,
=======
       "       Box Office    IMDB ID     Budget       Revenue         ROI$  \n",
       "555  $534,987,076  tt0468569  185000000  1.004558e+09  819558444.0  "
      ]
     },
     "execution_count": 8,
>>>>>>> sarah_b
     "metadata": {},
     "output_type": "execute_result"
    }
   ],
   "source": [
    "max_movie = movie_data_df.loc[movie_data_df['IMDB Rating'] == 9.0]\n",
    "max_movie"
   ]
  },
  {
   "cell_type": "code",
<<<<<<< HEAD
   "execution_count": 8,
=======
   "execution_count": 9,
>>>>>>> sarah_b
   "id": "216392a9-f23b-4049-9613-0c12ee3f5a77",
   "metadata": {},
   "outputs": [
    {
     "data": {
      "text/plain": [
       "1.2"
      ]
     },
<<<<<<< HEAD
     "execution_count": 8,
=======
     "execution_count": 9,
>>>>>>> sarah_b
     "metadata": {},
     "output_type": "execute_result"
    }
   ],
   "source": [
    "movie_data_df['IMDB Rating'].min()\n"
   ]
  },
  {
   "cell_type": "code",
<<<<<<< HEAD
   "execution_count": 9,
=======
   "execution_count": 10,
>>>>>>> sarah_b
   "id": "fedec0dd-44c9-4c25-8a0b-58333c7a0816",
   "metadata": {},
   "outputs": [
    {
     "data": {
      "text/html": [
       "<div>\n",
       "<style scoped>\n",
       "    .dataframe tbody tr th:only-of-type {\n",
       "        vertical-align: middle;\n",
       "    }\n",
       "\n",
       "    .dataframe tbody tr th {\n",
       "        vertical-align: top;\n",
       "    }\n",
       "\n",
       "    .dataframe thead th {\n",
       "        text-align: right;\n",
       "    }\n",
       "</style>\n",
       "<table border=\"1\" class=\"dataframe\">\n",
       "  <thead>\n",
       "    <tr style=\"text-align: right;\">\n",
       "      <th></th>\n",
       "      <th>Title</th>\n",
       "      <th>Year</th>\n",
       "      <th>IMDB Rating</th>\n",
       "      <th>IMDB Votes</th>\n",
       "      <th>Genre</th>\n",
       "      <th>Box Office</th>\n",
       "      <th>IMDB ID</th>\n",
       "      <th>Budget</th>\n",
       "      <th>Revenue</th>\n",
<<<<<<< HEAD
=======
       "      <th>ROI$</th>\n",
>>>>>>> sarah_b
       "    </tr>\n",
       "  </thead>\n",
       "  <tbody>\n",
       "    <tr>\n",
       "      <th>2282</th>\n",
       "      <td>Kidnapping, Caucasian Style</td>\n",
       "      <td>2014</td>\n",
       "      <td>1.2</td>\n",
       "      <td>604.0</td>\n",
       "      <td>Comedy</td>\n",
<<<<<<< HEAD
       "      <td>NaN</td>\n",
       "      <td>tt4537362</td>\n",
       "      <td>3500000</td>\n",
       "      <td>179000.0</td>\n",
=======
       "      <td>N/A</td>\n",
       "      <td>tt4537362</td>\n",
       "      <td>3500000</td>\n",
       "      <td>179000.0</td>\n",
       "      <td>-3321000.0</td>\n",
>>>>>>> sarah_b
       "    </tr>\n",
       "  </tbody>\n",
       "</table>\n",
       "</div>"
      ],
      "text/plain": [
       "                            Title  Year  IMDB Rating  IMDB Votes   Genre  \\\n",
       "2282  Kidnapping, Caucasian Style  2014          1.2       604.0  Comedy   \n",
       "\n",
<<<<<<< HEAD
       "     Box Office    IMDB ID   Budget   Revenue  \n",
       "2282        NaN  tt4537362  3500000  179000.0  "
      ]
     },
     "execution_count": 9,
=======
       "     Box Office    IMDB ID   Budget   Revenue       ROI$  \n",
       "2282        N/A  tt4537362  3500000  179000.0 -3321000.0  "
      ]
     },
     "execution_count": 10,
>>>>>>> sarah_b
     "metadata": {},
     "output_type": "execute_result"
    }
   ],
   "source": [
    "min_movie = movie_data_df.loc[movie_data_df['IMDB Rating'] == 1.2]\n",
    "min_movie"
   ]
  },
  {
   "cell_type": "code",
<<<<<<< HEAD
   "execution_count": 10,
=======
   "execution_count": 11,
>>>>>>> sarah_b
   "id": "d45baab1-0388-4c5e-a2b6-da7269b30ab6",
   "metadata": {},
   "outputs": [
    {
     "data": {
      "text/plain": [
       "2316"
      ]
     },
<<<<<<< HEAD
     "execution_count": 10,
=======
     "execution_count": 11,
>>>>>>> sarah_b
     "metadata": {},
     "output_type": "execute_result"
    }
   ],
   "source": [
    "movie_data_count = len(movie_data_df['Title'].unique())\n",
    "movie_data_count"
   ]
  },
  {
   "cell_type": "code",
<<<<<<< HEAD
   "execution_count": 11,
=======
   "execution_count": 12,
>>>>>>> sarah_b
   "id": "4cf82b5f-3b75-4fb4-afbf-f0f9a925900a",
   "metadata": {},
   "outputs": [
    {
     "data": {
      "text/plain": [
       "6.403151986183075"
      ]
     },
<<<<<<< HEAD
     "execution_count": 11,
=======
     "execution_count": 12,
>>>>>>> sarah_b
     "metadata": {},
     "output_type": "execute_result"
    }
   ],
   "source": [
    "average_rating = movie_data_df['IMDB Rating'].mean()\n",
    "average_rating"
   ]
  },
  {
   "cell_type": "code",
<<<<<<< HEAD
   "execution_count": 12,
=======
   "execution_count": 13,
>>>>>>> sarah_b
   "id": "d3798daf-8a29-4d85-ae92-c479dacf9043",
   "metadata": {},
   "outputs": [
    {
     "name": "stdout",
     "output_type": "stream",
     "text": [
      "5.2\n",
      "7.6\n"
     ]
    }
   ],
   "source": [
    "ratings_percentiles = movie_data_df['IMDB Rating'].quantile([.1,.9])\n",
    "lowerq = ratings_percentiles[.1]\n",
    "upperq = ratings_percentiles[.9]\n",
    "\n",
    "print(lowerq)\n",
    "print(upperq)"
   ]
  },
  {
   "cell_type": "code",
<<<<<<< HEAD
   "execution_count": 13,
=======
   "execution_count": 14,
>>>>>>> sarah_b
   "id": "5387342b-25d0-4037-b90a-7b895e7c19d7",
   "metadata": {
    "scrolled": true
   },
   "outputs": [
    {
     "data": {
      "text/plain": [
       "(array([  4.,   5.,  19.,  46., 154., 366., 756., 650., 290.,  26.]),\n",
       " array([1.2 , 1.98, 2.76, 3.54, 4.32, 5.1 , 5.88, 6.66, 7.44, 8.22, 9.  ]),\n",
       " <BarContainer object of 10 artists>)"
      ]
     },
<<<<<<< HEAD
     "execution_count": 13,
=======
     "execution_count": 14,
>>>>>>> sarah_b
     "metadata": {},
     "output_type": "execute_result"
    },
    {
     "data": {
      "image/png": "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",
      "text/plain": [
       "<Figure size 640x480 with 1 Axes>"
      ]
     },
     "metadata": {},
     "output_type": "display_data"
    }
   ],
   "source": [
    "plt.hist(movie_data_df['IMDB Rating'])"
   ]
  },
  {
   "cell_type": "code",
<<<<<<< HEAD
   "execution_count": 14,
=======
   "execution_count": 15,
>>>>>>> sarah_b
   "id": "86bf29c9-d06a-45dd-9b42-f83ad716042e",
   "metadata": {},
   "outputs": [],
   "source": [
    "def line_reg(x_values, y_values, xlabel, ylabel):\n",
    "    slope, intercept, rvalue, pvalue, stderr = linregress(x_values, y_values)\n",
    "    regress_values = x_values * slope + intercept\n",
    "    line_eq = \"y = \" + str(round(slope,2)) + \"x + \" + str(round(intercept,2))\n",
    "    plt.scatter(x_values,y_values)\n",
    "    plt.xlabel(xlabel)\n",
    "    plt.ylabel(ylabel)\n",
    "    plt.plot(x_values,regress_values,\"r-\")\n",
    "    plt.ticklabel_format(useOffset = False, style='plain')\n",
    "    plt.xticks(rotation = 45)\n",
    "    print(f\"The r-squared is: {rvalue**2}\")"
   ]
  },
  {
   "cell_type": "code",
<<<<<<< HEAD
   "execution_count": 15,
=======
   "execution_count": 16,
>>>>>>> sarah_b
   "id": "c03d7095-dbd4-4817-a67d-b0e615612f6e",
   "metadata": {},
   "outputs": [
    {
     "name": "stdout",
     "output_type": "stream",
     "text": [
      "The r-squared is: 0.007212228236935369\n"
     ]
    },
    {
     "data": {
      "image/png": "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",
      "text/plain": [
       "<Figure size 1500x500 with 1 Axes>"
      ]
     },
     "metadata": {},
     "output_type": "display_data"
    }
   ],
   "source": [
    "\n",
    "x_values = movie_data_df['Budget']\n",
    "y_values = movie_data_df['IMDB Rating']\n",
    "plt.figure(figsize=(15,5))\n",
    "line_reg(x_values, y_values, 'Budget', 'IMDB Rating')\n",
    "plt.xlim(1000000)\n",
    "plt.title(\"Overall Rating and Total Budget\")\n",
    "plt.show()"
   ]
  },
  {
   "cell_type": "code",
<<<<<<< HEAD
   "execution_count": 16,
=======
   "execution_count": 17,
>>>>>>> sarah_b
   "id": "2aa120f3-9b60-4893-b369-fa531ea28155",
   "metadata": {},
   "outputs": [
    {
     "name": "stdout",
     "output_type": "stream",
     "text": [
<<<<<<< HEAD
=======
      "The r-squared is: 0.03925924432280283\n"
     ]
    },
    {
     "data": {
      "text/plain": [
       "(0.0, 3000000000.0)"
      ]
     },
     "execution_count": 17,
     "metadata": {},
     "output_type": "execute_result"
    },
    {
     "data": {
      "image/png": "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",
      "text/plain": [
       "<Figure size 1500x500 with 1 Axes>"
      ]
     },
     "metadata": {},
     "output_type": "display_data"
    }
   ],
   "source": [
    "x_values = movie_data_df['ROI$']\n",
    "y_values = movie_data_df['IMDB Rating']\n",
    "plt.figure(figsize=(15,5))\n",
    "line_reg(x_values, y_values, 'ROI', 'IMDB Rating')\n",
    "plt.title(\"Overall Rating and Total ROI\")\n",
    "plt.xlim(0, 3000000000)\n"
   ]
  },
  {
   "cell_type": "code",
   "execution_count": 22,
   "id": "607a5137-92bd-4295-8487-cb546a9a9bdb",
   "metadata": {},
   "outputs": [
    {
     "name": "stdout",
     "output_type": "stream",
     "text": [
>>>>>>> sarah_b
      "The r-squared is: 0.03398518604361464\n"
     ]
    },
    {
     "data": {
      "text/plain": [
       "(0.0, 3000000000.0)"
      ]
     },
<<<<<<< HEAD
     "execution_count": 16,
=======
     "execution_count": 22,
>>>>>>> sarah_b
     "metadata": {},
     "output_type": "execute_result"
    },
    {
     "data": {
      "image/png": "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",
      "text/plain": [
       "<Figure size 1500x500 with 1 Axes>"
      ]
     },
     "metadata": {},
     "output_type": "display_data"
    }
   ],
   "source": [
    "x_values = movie_data_df['Revenue']\n",
    "y_values = movie_data_df['IMDB Rating']\n",
    "plt.figure(figsize=(15,5))\n",
    "line_reg(x_values, y_values, 'Revenue', 'IMDB Rating')\n",
    "plt.title(\"Overall Rating and Total Revenue\")\n",
    "plt.xlim(0, 3000000000)\n"
   ]
  },
  {
   "cell_type": "code",
<<<<<<< HEAD
   "execution_count": 17,
=======
   "execution_count": 19,
>>>>>>> sarah_b
   "id": "0f66f234-5547-49d9-bc91-5986faf28725",
   "metadata": {},
   "outputs": [
    {
     "data": {
      "text/html": [
       "<div>\n",
       "<style scoped>\n",
       "    .dataframe tbody tr th:only-of-type {\n",
       "        vertical-align: middle;\n",
       "    }\n",
       "\n",
       "    .dataframe tbody tr th {\n",
       "        vertical-align: top;\n",
       "    }\n",
       "\n",
       "    .dataframe thead th {\n",
       "        text-align: right;\n",
       "    }\n",
       "</style>\n",
       "<table border=\"1\" class=\"dataframe\">\n",
       "  <thead>\n",
       "    <tr style=\"text-align: right;\">\n",
       "      <th></th>\n",
       "      <th>count</th>\n",
       "      <th>Genre Rating</th>\n",
       "      <th>Genre Votes</th>\n",
       "    </tr>\n",
       "  </thead>\n",
       "  <tbody>\n",
       "    <tr>\n",
<<<<<<< HEAD
       "      <th>Romance</th>\n",
       "      <td>395.0</td>\n",
       "      <td>6.400506</td>\n",
       "      <td>37600416.0</td>\n",
       "    </tr>\n",
       "    <tr>\n",
       "      <th>Sci-Fi</th>\n",
       "      <td>191.0</td>\n",
       "      <td>6.354974</td>\n",
       "      <td>61118846.0</td>\n",
       "    </tr>\n",
       "    <tr>\n",
       "      <th>Action</th>\n",
       "      <td>675.0</td>\n",
       "      <td>6.359407</td>\n",
       "      <td>142350453.0</td>\n",
=======
       "      <th>Horror</th>\n",
       "      <td>224.0</td>\n",
       "      <td>5.670982</td>\n",
       "      <td>23211040.0</td>\n",
>>>>>>> sarah_b
       "    </tr>\n",
       "    <tr>\n",
       "      <th>Thriller</th>\n",
       "      <td>387.0</td>\n",
       "      <td>6.323773</td>\n",
       "      <td>62828996.0</td>\n",
       "    </tr>\n",
       "    <tr>\n",
<<<<<<< HEAD
       "      <th>Western</th>\n",
       "      <td>9.0</td>\n",
       "      <td>6.844444</td>\n",
       "      <td>2252130.0</td>\n",
       "    </tr>\n",
       "    <tr>\n",
       "      <th>Biography</th>\n",
       "      <td>165.0</td>\n",
       "      <td>7.022424</td>\n",
       "      <td>24281916.0</td>\n",
       "    </tr>\n",
       "    <tr>\n",
       "      <th>Drama</th>\n",
       "      <td>1225.0</td>\n",
       "      <td>6.688735</td>\n",
       "      <td>155484897.0</td>\n",
=======
       "      <th>Action</th>\n",
       "      <td>675.0</td>\n",
       "      <td>6.359407</td>\n",
       "      <td>142350453.0</td>\n",
>>>>>>> sarah_b
       "    </tr>\n",
       "    <tr>\n",
       "      <th>Sport</th>\n",
       "      <td>45.0</td>\n",
       "      <td>6.548889</td>\n",
       "      <td>4658356.0</td>\n",
       "    </tr>\n",
       "    <tr>\n",
<<<<<<< HEAD
       "      <th>Documentary</th>\n",
       "      <td>33.0</td>\n",
       "      <td>6.960606</td>\n",
       "      <td>897367.0</td>\n",
       "    </tr>\n",
       "    <tr>\n",
       "      <th>Musical</th>\n",
       "      <td>20.0</td>\n",
       "      <td>6.745000</td>\n",
       "      <td>1723656.0</td>\n",
=======
       "      <th>Adventure</th>\n",
       "      <td>486.0</td>\n",
       "      <td>6.365638</td>\n",
       "      <td>112160872.0</td>\n",
>>>>>>> sarah_b
       "    </tr>\n",
       "    <tr>\n",
       "      <th>Fantasy</th>\n",
       "      <td>185.0</td>\n",
       "      <td>6.082162</td>\n",
       "      <td>32832156.0</td>\n",
       "    </tr>\n",
       "    <tr>\n",
<<<<<<< HEAD
=======
       "      <th>Western</th>\n",
       "      <td>9.0</td>\n",
       "      <td>6.844444</td>\n",
       "      <td>2252130.0</td>\n",
       "    </tr>\n",
       "    <tr>\n",
>>>>>>> sarah_b
       "      <th>Music</th>\n",
       "      <td>85.0</td>\n",
       "      <td>6.548235</td>\n",
       "      <td>6819152.0</td>\n",
       "    </tr>\n",
       "    <tr>\n",
<<<<<<< HEAD
       "      <th>Comedy</th>\n",
       "      <td>859.0</td>\n",
       "      <td>6.210477</td>\n",
       "      <td>98746160.0</td>\n",
       "    </tr>\n",
       "    <tr>\n",
=======
>>>>>>> sarah_b
       "      <th>Animation</th>\n",
       "      <td>141.0</td>\n",
       "      <td>6.612766</td>\n",
       "      <td>24866380.0</td>\n",
       "    </tr>\n",
       "    <tr>\n",
<<<<<<< HEAD
       "      <th>Crime</th>\n",
       "      <td>427.0</td>\n",
       "      <td>6.524356</td>\n",
       "      <td>60101355.0</td>\n",
       "    </tr>\n",
       "    <tr>\n",
=======
>>>>>>> sarah_b
       "      <th>History</th>\n",
       "      <td>86.0</td>\n",
       "      <td>6.839535</td>\n",
       "      <td>7486626.0</td>\n",
       "    </tr>\n",
       "    <tr>\n",
<<<<<<< HEAD
       "      <th>Adventure</th>\n",
       "      <td>486.0</td>\n",
       "      <td>6.365638</td>\n",
       "      <td>112160872.0</td>\n",
       "    </tr>\n",
       "    <tr>\n",
       "      <th>Mystery</th>\n",
       "      <td>249.0</td>\n",
       "      <td>6.260643</td>\n",
       "      <td>37134978.0</td>\n",
       "    </tr>\n",
       "    <tr>\n",
       "      <th>War</th>\n",
       "      <td>46.0</td>\n",
       "      <td>6.863043</td>\n",
       "      <td>6089730.0</td>\n",
=======
       "      <th>Comedy</th>\n",
       "      <td>859.0</td>\n",
       "      <td>6.210477</td>\n",
       "      <td>98746160.0</td>\n",
>>>>>>> sarah_b
       "    </tr>\n",
       "    <tr>\n",
       "      <th>Family</th>\n",
       "      <td>136.0</td>\n",
       "      <td>6.015441</td>\n",
       "      <td>15538751.0</td>\n",
       "    </tr>\n",
       "    <tr>\n",
<<<<<<< HEAD
       "      <th>Horror</th>\n",
       "      <td>224.0</td>\n",
       "      <td>5.670982</td>\n",
       "      <td>23211040.0</td>\n",
=======
       "      <th>Sci-Fi</th>\n",
       "      <td>191.0</td>\n",
       "      <td>6.354974</td>\n",
       "      <td>61118846.0</td>\n",
       "    </tr>\n",
       "    <tr>\n",
       "      <th>Drama</th>\n",
       "      <td>1225.0</td>\n",
       "      <td>6.688735</td>\n",
       "      <td>155484897.0</td>\n",
       "    </tr>\n",
       "    <tr>\n",
       "      <th>War</th>\n",
       "      <td>46.0</td>\n",
       "      <td>6.863043</td>\n",
       "      <td>6089730.0</td>\n",
       "    </tr>\n",
       "    <tr>\n",
       "      <th>Crime</th>\n",
       "      <td>427.0</td>\n",
       "      <td>6.524356</td>\n",
       "      <td>60101355.0</td>\n",
       "    </tr>\n",
       "    <tr>\n",
       "      <th>Mystery</th>\n",
       "      <td>249.0</td>\n",
       "      <td>6.260643</td>\n",
       "      <td>37134978.0</td>\n",
       "    </tr>\n",
       "    <tr>\n",
       "      <th>Biography</th>\n",
       "      <td>165.0</td>\n",
       "      <td>7.022424</td>\n",
       "      <td>24281916.0</td>\n",
       "    </tr>\n",
       "    <tr>\n",
       "      <th>Musical</th>\n",
       "      <td>20.0</td>\n",
       "      <td>6.745000</td>\n",
       "      <td>1723656.0</td>\n",
       "    </tr>\n",
       "    <tr>\n",
       "      <th>Documentary</th>\n",
       "      <td>33.0</td>\n",
       "      <td>6.960606</td>\n",
       "      <td>897367.0</td>\n",
       "    </tr>\n",
       "    <tr>\n",
       "      <th>Romance</th>\n",
       "      <td>395.0</td>\n",
       "      <td>6.400506</td>\n",
       "      <td>37600416.0</td>\n",
>>>>>>> sarah_b
       "    </tr>\n",
       "  </tbody>\n",
       "</table>\n",
       "</div>"
      ],
      "text/plain": [
       "              count  Genre Rating  Genre Votes\n",
<<<<<<< HEAD
       "Romance       395.0      6.400506   37600416.0\n",
       "Sci-Fi        191.0      6.354974   61118846.0\n",
       "Action        675.0      6.359407  142350453.0\n",
       "Thriller      387.0      6.323773   62828996.0\n",
       "Western         9.0      6.844444    2252130.0\n",
       "Biography     165.0      7.022424   24281916.0\n",
       "Drama        1225.0      6.688735  155484897.0\n",
       "Sport          45.0      6.548889    4658356.0\n",
       "Documentary    33.0      6.960606     897367.0\n",
       "Musical        20.0      6.745000    1723656.0\n",
       "Fantasy       185.0      6.082162   32832156.0\n",
       "Music          85.0      6.548235    6819152.0\n",
       "Comedy        859.0      6.210477   98746160.0\n",
       "Animation     141.0      6.612766   24866380.0\n",
       "Crime         427.0      6.524356   60101355.0\n",
       "History        86.0      6.839535    7486626.0\n",
       "Adventure     486.0      6.365638  112160872.0\n",
       "Mystery       249.0      6.260643   37134978.0\n",
       "War            46.0      6.863043    6089730.0\n",
       "Family        136.0      6.015441   15538751.0\n",
       "Horror        224.0      5.670982   23211040.0"
      ]
     },
     "execution_count": 17,
=======
       "Horror        224.0      5.670982   23211040.0\n",
       "Thriller      387.0      6.323773   62828996.0\n",
       "Action        675.0      6.359407  142350453.0\n",
       "Sport          45.0      6.548889    4658356.0\n",
       "Adventure     486.0      6.365638  112160872.0\n",
       "Fantasy       185.0      6.082162   32832156.0\n",
       "Western         9.0      6.844444    2252130.0\n",
       "Music          85.0      6.548235    6819152.0\n",
       "Animation     141.0      6.612766   24866380.0\n",
       "History        86.0      6.839535    7486626.0\n",
       "Comedy        859.0      6.210477   98746160.0\n",
       "Family        136.0      6.015441   15538751.0\n",
       "Sci-Fi        191.0      6.354974   61118846.0\n",
       "Drama        1225.0      6.688735  155484897.0\n",
       "War            46.0      6.863043    6089730.0\n",
       "Crime         427.0      6.524356   60101355.0\n",
       "Mystery       249.0      6.260643   37134978.0\n",
       "Biography     165.0      7.022424   24281916.0\n",
       "Musical        20.0      6.745000    1723656.0\n",
       "Documentary    33.0      6.960606     897367.0\n",
       "Romance       395.0      6.400506   37600416.0"
      ]
     },
     "execution_count": 19,
>>>>>>> sarah_b
     "metadata": {},
     "output_type": "execute_result"
    }
   ],
   "source": [
    "unique = list(movie_data_df[\"Genre\"].unique())\n",
    "\n",
    "genre_set = set()\n",
    "for genres in unique:\n",
    "    split = genres.replace(\" \", \"\").split(\",\")\n",
    "    genre_set.update(split)\n",
    "\n",
    "\n",
    "genre_count = {k:[movie_data_df[movie_data_df[\"Genre\"].str.contains(k)][\"Title\"].count(),\\\n",
    "                 movie_data_df[movie_data_df[\"Genre\"].str.contains(k)][\"IMDB Rating\"].mean(),\\\n",
    "                 movie_data_df[movie_data_df[\"Genre\"].str.contains(k)][\"IMDB Votes\"].sum()] for k in genre_set}\n",
    "genre_count_df = pd.DataFrame(genre_count).T.rename(columns ={0:\"count\", 1:\"Genre Rating\", 2:\"Genre Votes\"})\n",
    "genre_count_df"
   ]
  },
  {
   "cell_type": "code",
<<<<<<< HEAD
   "execution_count": 22,
=======
   "execution_count": 20,
>>>>>>> sarah_b
   "id": "9fda729f-0dba-4b91-a213-3d592672b87b",
   "metadata": {},
   "outputs": [
    {
     "ename": "NameError",
     "evalue": "name 'tick_locations' is not defined",
     "output_type": "error",
     "traceback": [
      "\u001b[1;31m---------------------------------------------------------------------------\u001b[0m",
      "\u001b[1;31mNameError\u001b[0m                                 Traceback (most recent call last)",
<<<<<<< HEAD
      "Cell \u001b[1;32mIn[22], line 7\u001b[0m\n\u001b[0;32m      5\u001b[0m plt\u001b[38;5;241m.\u001b[39mtitle(\u001b[38;5;124m\"\u001b[39m\u001b[38;5;124mAverage Rating by Title\u001b[39m\u001b[38;5;124m\"\u001b[39m)\n\u001b[0;32m      6\u001b[0m plt\u001b[38;5;241m.\u001b[39mbar(genre_count_df\u001b[38;5;241m.\u001b[39mindex, genre_count_df[\u001b[38;5;124m\"\u001b[39m\u001b[38;5;124mGenre Rating\u001b[39m\u001b[38;5;124m\"\u001b[39m], color\u001b[38;5;241m=\u001b[39m\u001b[38;5;124m'\u001b[39m\u001b[38;5;124mpurple\u001b[39m\u001b[38;5;124m'\u001b[39m, align\u001b[38;5;241m=\u001b[39m\u001b[38;5;124m\"\u001b[39m\u001b[38;5;124mcenter\u001b[39m\u001b[38;5;124m\"\u001b[39m)\n\u001b[1;32m----> 7\u001b[0m plt\u001b[38;5;241m.\u001b[39mxticks(tick_locations, genre_count_df[\u001b[38;5;124m\"\u001b[39m\u001b[38;5;124mGenre Rating\u001b[39m\u001b[38;5;124m\"\u001b[39m], rotation\u001b[38;5;241m=\u001b[39m\u001b[38;5;124m\"\u001b[39m\u001b[38;5;124mvertical\u001b[39m\u001b[38;5;124m\"\u001b[39m)\n\u001b[0;32m      8\u001b[0m plt\u001b[38;5;241m.\u001b[39mshow()\n",
=======
      "Cell \u001b[1;32mIn[20], line 7\u001b[0m\n\u001b[0;32m      5\u001b[0m plt\u001b[38;5;241m.\u001b[39mtitle(\u001b[38;5;124m\"\u001b[39m\u001b[38;5;124mAverage Rating by Title\u001b[39m\u001b[38;5;124m\"\u001b[39m)\n\u001b[0;32m      6\u001b[0m plt\u001b[38;5;241m.\u001b[39mbar(genre_count_df\u001b[38;5;241m.\u001b[39mindex, genre_count_df[\u001b[38;5;124m\"\u001b[39m\u001b[38;5;124mGenre Rating\u001b[39m\u001b[38;5;124m\"\u001b[39m], color\u001b[38;5;241m=\u001b[39m\u001b[38;5;124m'\u001b[39m\u001b[38;5;124mpurple\u001b[39m\u001b[38;5;124m'\u001b[39m, align\u001b[38;5;241m=\u001b[39m\u001b[38;5;124m\"\u001b[39m\u001b[38;5;124mcenter\u001b[39m\u001b[38;5;124m\"\u001b[39m)\n\u001b[1;32m----> 7\u001b[0m plt\u001b[38;5;241m.\u001b[39mxticks(tick_locations, genre_count_df[\u001b[38;5;124m\"\u001b[39m\u001b[38;5;124mGenre Rating\u001b[39m\u001b[38;5;124m\"\u001b[39m], rotation\u001b[38;5;241m=\u001b[39m\u001b[38;5;124m\"\u001b[39m\u001b[38;5;124mvertical\u001b[39m\u001b[38;5;124m\"\u001b[39m)\n\u001b[0;32m      8\u001b[0m plt\u001b[38;5;241m.\u001b[39mshow()\n",
>>>>>>> sarah_b
      "\u001b[1;31mNameError\u001b[0m: name 'tick_locations' is not defined"
     ]
    },
    {
     "data": {
<<<<<<< HEAD
      "image/png": "iVBORw0KGgoAAAANSUhEUgAABkgAAAJuCAYAAAD7Mo4GAAAAOXRFWHRTb2Z0d2FyZQBNYXRwbG90bGliIHZlcnNpb24zLjguMCwgaHR0cHM6Ly9tYXRwbG90bGliLm9yZy81sbWrAAAACXBIWXMAAA9hAAAPYQGoP6dpAAB2kElEQVR4nOzdd5QUZdo34HtIQx4VJEgGFQHFhLpgICgihgXDmhUDrhFzflcRE64RXV1dlaSrGNaEGDGgmEFFERAwggpmSSoKPN8ffvTSMMAMzDAsfV3nzDnT1VXVdz9d9VRV/7qq8lJKKQAAAAAAAHJIubIuAAAAAAAAYE0TkAAAAAAAADlHQAIAAAAAAOQcAQkAAAAAAJBzBCQAAAAAAEDOEZAAAAAAAAA5R0ACAAAAAADkHAEJAAAAAACQcwQkAAAAAABAzhGQAABAKbjpppsiLy8vNt9887IuZa3TqVOnyMvLy/xVrlw5WrduHZdffnn89ttvqzTPiRMnxiWXXBKfffbZMs8dddRR0bRp09UrehV16tSpVJeBSy65JKstl/fXqVOn+OyzzyIvLy+GDBmSmf61116LSy65JH766adCa+/UqVOp1Q4AAGWtQlkXAAAA66JBgwZFRMSECRPizTffjB122KGMK1q7NG/ePO65556IiPj222/jzjvvjIsuuiimTZsWt99+e7HnN3HixOjXr1906tRpmTDkoosuitNOO60kyl7r9O7dO/bYY4/M4xkzZsR+++0Xffr0iUMPPTQzvGbNmlG/fv14/fXXo0WLFpnhr732WvTr1y+OOuqoWG+99dZk6QAAUOYEJAAAUMLGjh0b7733Xuy1117xxBNPxMCBA9d4QJJSil9//TWqVKmyRl+3qKpUqRJ/+tOfMo+7d+8erVu3jqFDh8ZNN90UlStXLrHXWjIQWNc0bNgwGjZsmHm8+Ayaxo0bZ7XvYoUNAwCAXOUSWwAAUMIGDhwYERFXXXVVdOjQIe677774+eefIyLi999/jzp16sQRRxyxzHQ//fRTVKlSJc4888zMsNmzZ8fZZ58dzZo1i0qVKkWDBg3i9NNPj3nz5mVNm5eXF6ecckrcdttt0apVq8jPz4+hQ4dGRES/fv1ihx12iA022CBq1qwZ22yzTQwcODBSSlnzmD9/fpx11llRr169qFq1auyyyy7x9ttvR9OmTeOoo47KGnfmzJlx/PHHR8OGDaNSpUrRrFmz6NevXyxYsGCV2qxChQqx1VZbxW+//ZZ1uaexY8fGwQcfHE2bNo0qVapE06ZN45BDDonPP/88M86QIUPiL3/5S0REdO7cOXNZqcWXkirsEluL2+vuu++OVq1aRdWqVWPLLbeMESNGLFPbY489Fm3bto38/Pxo3rx53HjjjZlLWxXV6NGj409/+lNUqVIlGjRoEBdddFEsXLgwIv4IszbZZJPo1q3bMtPNnTs3CgoK4uSTTy7yay3P0pfYuuSSS+Kcc86JiIhmzZpl2m3UqFHLncdvv/0Wl19+eWy22WaRn58fG264YRx99NHx7bffrnZ9AACwpjmDBAAAStAvv/wSw4YNi+222y4233zzOOaYY6J3797x4IMPRq9evaJixYpx+OGHx2233Ra33HJL1KxZMzPtsGHD4tdff42jjz46IiJ+/vnn6NixY3zxxRdx4YUXRtu2bWPChAlx8cUXx/jx4+O5557L+pL+0UcfjdGjR8fFF18c9erVizp16kTEH1+MH3/88dG4ceOIiHjjjTeiT58+8eWXX8bFF1+cmf7oo4+O+++/P84999zo0qVLTJw4Mfbdd9+YPXt21nucOXNmbL/99lGuXLm4+OKLo0WLFvH666/H5ZdfHp999lkMHjx4ldru008/jfXWWy823HDDzLDPPvssWrZsGQcffHBssMEGMWPGjLj11ltju+22i4kTJ0bt2rVjr732iiuvvDIuvPDCuOWWW2KbbbaJiJWfOfLEE0/EmDFj4tJLL43q1avH1VdfHfvuu29Mnjw5mjdvHhERTz/9dOy3336xyy67xP333x8LFiyIa6+9Nr7++usiv6+ZM2fGwQcfHOeff35ceuml8cQTT8Tll18eP/74Y9x8882Rl5cXffr0idNPPz2mTp0am2yySWbau+66K2bPnl0iAcnSevfuHT/88EP84x//iIcffjjq168fERGtW7cudPxFixZFjx49YvTo0XHuuedGhw4d4vPPP4++fftGp06dYuzYsWvtGUsAAFCoBAAAlJi77rorRUS67bbbUkopzZkzJ1WvXj3tvPPOmXHef//9FBHp9ttvz5p2++23T9tuu23mcf/+/VO5cuXSmDFjssb7z3/+kyIiPfnkk5lhEZEKCgrSDz/8sML6Fi5cmH7//fd06aWXplq1aqVFixallFKaMGFCioh03nnnZY0/bNiwFBGpV69emWHHH398ql69evr888+zxr322mtTRKQJEyassIaOHTumNm3apN9//z39/vvvacaMGeniiy/OarflWbBgQZo7d26qVq1auvHGGzPDH3zwwRQR6cUXX1xmml69eqUmTZpkDYuIVLdu3TR79uzMsJkzZ6Zy5cql/v37Z4Ztt912qVGjRmn+/PmZYXPmzEm1atVKRTmc6tixY4qI9Nhjj2UNP+6441K5cuUybTh79uxUo0aNdNppp2WN17p169S5c+eVvs5in376aYqIdM011yz3ucGDB2eGXXPNNSki0qefflpo7R07dsw8XrwsPPTQQ1njjRkzJkVE+uc//1nkOgEAYG3gElsAAFCCBg4cGFWqVImDDz44IiKqV68ef/nLX2L06NExderUiIjYYostYtttt80602LSpEnx1ltvxTHHHJMZNmLEiNh8881jq622igULFmT+unXrVuilkLp06RLrr7/+MjW98MILsdtuu0VBQUGUL18+KlasGBdffHF8//338c0330RExEsvvRQREQceeGDWtAcccEBUqJB94vmIESOic+fOsdFGG2XV1b1796x5rciECROiYsWKUbFixahfv35ceumlccEFF8Txxx+fNd7cuXPjvPPOi4033jgqVKgQFSpUiOrVq8e8efNi0qRJK32dFencuXPUqFEj87hu3bpRp06dzOW75s2bF2PHjo2ePXtGpUqVMuNVr1499tlnnyK/To0aNeLPf/5z1rBDDz00Fi1aFC+//HJmnKOPPjqGDBmSuXzaCy+8EBMnToxTTjllld9jSRoxYkSst956sc8++2R97ltttVXUq1dvhZfmAgCAtZGABAAASshHH30UL7/8cuy1116RUoqffvopfvrppzjggAMiImLQoEGZcY855ph4/fXX48MPP4yIiMGDB0d+fn4ccsghmXG+/vrreP/99zNBwuK/GjVqREopvvvuu6zXX3yJpCW99dZbsfvuu0dExB133BGvvvpqjBkzJv7v//4vIv64JFhExPfffx8Rf4QES6pQoULUqlUra9jXX38djz/++DJ1tWnTJiJimboK06JFixgzZky89dZb8eCDD8aWW24Z/fv3j/vuuy9rvEMPPTRuvvnm6N27dzzzzDPx1ltvxZgxY2LDDTfM1L6qln5fERH5+fmZ+f7444+RUlqmTSKWbacVKWzcevXqRcR/2z0iok+fPjFnzpy45557IiLi5ptvjoYNG0aPHj2K/Fql6euvv46ffvopKlWqtMxnP3PmzCJ97gAAsDZxDxIAACghgwYNipRS/Oc//4n//Oc/yzw/dOjQuPzyy6N8+fJxyCGHxJlnnhlDhgyJK664Iu6+++7o2bNn1hkgtWvXjipVqmQFK0uqXbt21uPCbhp+3333RcWKFWPEiBFRuXLlzPBHH300a7zFYcHXX38dDRo0yAxfsGBB1pf4i1+3bdu2ccUVVxRa10YbbVTo8CVVrlw52rVrFxER2223XXTu3DnatGkTp59+euy9995RvXr1mDVrVowYMSL69u0b559/fmba+fPnxw8//LDS11hd66+/fuTl5RV6v5GZM2cWeT4rmn7JkGbjjTeO7t27xy233BLdu3eP4cOHR79+/aJ8+fKrUH3Jq127dtSqVSuefvrpQp9f8mwcAAD4XyAgAQCAErBw4cIYOnRotGjRIu68885lnh8xYkRcd9118dRTT8Xee+8d66+/fvTs2TPuuuuuaN++fcycOTPr8loREXvvvXdceeWVUatWrWjWrNkq1ZWXlxcVKlTI+pL9l19+ibvvvjtrvF122SUiIu6///7MTc4jIv7zn//EggULlqnrySefjBYtWhR6Sa9VUatWrbjqqqvi6KOPjn/84x9xwQUXRF5eXqSUIj8/P2vcO++8MxYuXJg1bPE4q3tWyZKqVasW7dq1i0cffTSuvfbazGW25s6dGyNGjCjyfObMmRPDhw/PuszWvffeG+XKlcu0+2KnnXZa7L777tGrV68oX758HHfccSXzZpajOO229957x3333RcLFy6MHXbYoVTrAgCANUFAAgAAJeCpp56Kr776Kv7+979Hp06dlnl+8803j5tvvjkGDhwYe++9d0T8cZmt+++/P0455ZRo2LBh7LbbblnTnH766fHQQw/FLrvsEmeccUa0bds2Fi1aFNOmTYtnn302zjrrrJV+Ub3XXnvF9ddfH4ceemj89a9/je+//z6uvfbaZUKHNm3axCGHHBLXXXddlC9fPrp06RITJkyI6667LgoKCqJcuf9enffSSy+NkSNHRocOHeLUU0+Nli1bxq+//hqfffZZPPnkk3HbbbdFw4YNi92GRx55ZFx//fVx7bXXxsknnxw1a9aMXXbZJa655pqoXbt2NG3aNF566aUYOHBgrLfeesu0b0TE7bffHjVq1IjKlStHs2bNCr2MVnFceumlsddee0W3bt3itNNOi4ULF8Y111wT1atXL/JZLLVq1YoTTzwxpk2bFptuumk8+eSTcccdd8SJJ54YjRs3zhq3a9eu0bp163jxxRfj8MMPjzp16qxW/SuzxRZbRETEjTfeGL169YqKFStGy5YtCz0b5OCDD4577rkn9txzzzjttNNi++23j4oVK8YXX3wRL774YvTo0SP23XffUq0XAABKknuQAABACRg4cGBUqlQpjj766EKfr127duy7774xYsSIzCWXdtttt2jUqFF88cUX0atXr6wQIuKPMxhGjx4dRx11VNx+++2x1157xYEHHhg33XRTNGzYMJo2bbrSurp06RKDBg2K8ePHxz777BP/93//FwcccEDWJasWGzx4cJx22mkxcODA2GeffeK+++6LBx54ICIiK5CoX79+jB07Nnbfffe45pprYo899ogjjjgiBg0aFFtttdUqn1VSrly5uOqqq+KHH36IAQMGRMQfZ1p07tw5zj333Nhvv/1i7NixMXLkyCgoKMiatlmzZjFgwIB47733olOnTrHddtvF448/vkp1LGmPPfaIhx56KL7//vs46KCD4swzz4x99903evTosUxIszz16tWLe++9N4YOHRp//vOf44EHHogLL7wwbrrppkLHP/DAAyMi1sjN2Tt16hQXXHBBPP7447HTTjvFdtttF2+//Xah45YvXz6GDx8eF154YTz88MOx7777Rs+ePeOqq66KypUrZ8IWAAD4X5GXUkplXQQAALB2eu2112LHHXeMe+65Jw499NCyLmet8Pvvv8dWW20VDRo0iGeffbbE59+uXbvIy8uLMWPGlPi8AQCA/3KJLQAAICIiRo4cGa+//npsu+22UaVKlXjvvffiqquuik022ST222+/si6vzBx77LHRtWvXqF+/fsycOTNuu+22mDRpUtx4440l9hqzZ8+ODz74IEaMGBFvv/12PPLIIyU2bwAAoHACEgAAICIiatasGc8++2wMGDAg5syZE7Vr147u3btH//79o3LlymVdXpmZM2dOnH322fHtt99GxYoVY5tttoknn3xymXvGrI533nknOnfuHLVq1Yq+fftGz549S2zeAABA4VxiCwAAAAAAyDllepP2OXPmxOmnnx5NmjSJKlWqRIcOHVxnFwAAAAAAKHVlGpD07t07Ro4cGXfffXeMHz8+dt9999htt93iyy+/LMuyAAAAAACAdVyZXWLrl19+iRo1asRjjz0We+21V2b4VlttFXvvvXdcfvnlZVEWAAAAAACQA8rsJu0LFiyIhQsXLnOzxypVqsQrr7xS6DTz58+P+fPnZx4vWrQofvjhh6hVq1bk5eWVar0AAAAAAMDaLaUUc+bMiY022ijKlVvxRbTKLCCpUaNGtG/fPi677LJo1apV1K1bN4YNGxZvvvlmbLLJJoVO079//+jXr98arhQAAAAAAPhfMn369GjYsOEKxymzS2xFRHz88cdxzDHHxMsvvxzly5ePbbbZJjbddNN45513YuLEicuMv/QZJLNmzYrGjRvH9OnTo2bNmmuydAAAAAAAYC0ze/bsaNSoUfz0009RUFCwwnHL7AySiIgWLVrESy+9FPPmzYvZs2dH/fr146CDDopmzZoVOn5+fn7k5+cvM7xmzZoCEgAAAAAAICKiSLflWPEFuNaQatWqRf369ePHH3+MZ555Jnr06FHWJQEAAAAAAOuwMj2D5JlnnomUUrRs2TI++uijOOecc6Jly5Zx9NFHl2VZAAAAAADAOq5MzyCZNWtWnHzyybHZZpvFkUceGTvttFM8++yzUbFixbIsCwAAAAAAWMeV6U3aV9fs2bOjoKAgZs2a5R4kAAAAAACQ44qTG6wV9yABAAAAAABYkwQkAAAAAABAzhGQAAAAAAAAOUdAAgAAAAAA5BwBCQAAAAAAkHMEJAAAAAAAQM4RkAAAAAAAADlHQAIAAAAAAOQcAQkAAAAAAJBzBCQAAAAAAEDOEZAAAAAAAAA5R0ACAAAAAADkHAEJAAAAAACQcwQkAAAAAABAzhGQAAAAAAAAOUdAAgAAAAAA5BwBCQAAAAAAkHMEJAAAAAAAQM4RkAAAAAAAADlHQAIAAAAAAOQcAQkAAAAAAJBzBCQAAAAAAEDOEZAAAAAAAAA5R0ACAAAAAADkHAEJAAAAAACQcwQkAAAAAABAzhGQAAAAAAAAOUdAAgAAAAAA5BwBCQAAAAAAkHMEJAAAAAAAQM4RkAAAAAAAADlHQAIAAAAAAOQcAQkAAAAAAJBzBCQAAAAAAEDOEZAAAAAAAAA5R0ACAAAAAADkHAEJAAAAAACQcwQkAAAAAABAzhGQAAAAAAAAOUdAAgAAAAAA5BwBCQAAAAAAkHMEJAAAAAAAQM4RkAAAAAAAADlHQAIAAAAAAOQcAQkAAAAAAJBzBCQAAAAAAEDOEZAAAAAAAAA5R0ACAAAAAADkHAEJAAAAAACQc8o0IFmwYEH87W9/i2bNmkWVKlWiefPmcemll8aiRYvKsiwAAAAAAGAdV6EsX/zvf/973HbbbTF06NBo06ZNjB07No4++ugoKCiI0047rSxLAwAAAAAA1mFlGpC8/vrr0aNHj9hrr70iIqJp06YxbNiwGDt2bFmWBQAAAAAArOPK9BJbO+20Uzz//PMxZcqUiIh477334pVXXok999yz0PHnz58fs2fPzvoDAAAAAAAorjI9g+S8886LWbNmxWabbRbly5ePhQsXxhVXXBGHHHJIoeP3798/+vXrt4arBAAAAAAA1jVlegbJ/fffH//+97/j3nvvjXfeeSeGDh0a1157bQwdOrTQ8S+44IKYNWtW5m/69OlruGIAAAAAAGBdkJdSSmX14o0aNYrzzz8/Tj755Mywyy+/PP7973/Hhx9+uNLpZ8+eHQUFBTFr1qyoWbNmaZYKAAAAAACs5YqTG5TpGSQ///xzlCuXXUL58uVj0aJFZVQRAAAAAACQC8r0HiT77LNPXHHFFdG4ceNo06ZNvPvuu3H99dfHMcccU5ZlAQAAAAAA67gyvcTWnDlz4qKLLopHHnkkvvnmm9hoo43ikEMOiYsvvjgqVaq00uldYgsAAAAAAFisOLlBmQYkq0tAAgAAAAAALPY/cw8SAAAAAACAsiAgAQAAAAAAco6ABAAAAAAAyDkCEgAAAAAAIOcISAAAAAAAgJwjIAEAAAAAAHKOgAQAAAAAAMg5AhIAAAAAACDnCEgAAAAAAICcIyABAAAAAAByjoAEAAAAAADIOQISAAAAAAAg5whIAAAAAACAnCMgAQAAAAAAco6ABAAAAAAAyDkCEgAAAAAAIOcISAAAAAAAgJwjIAEAAAAAAHKOgAQAAAAAAMg5AhIAAAAAACDnCEgAAAAAAICcIyABAAAAAAByjoAEAAAAAADIOQISAAAAAAAg5whIAAAAAACAnCMgAQAAAAAAco6ABAAAAAAAyDkCEgAAAAAAIOcISAAAAAAAgJwjIAEAAAAAAHKOgAQAAAAAAMg5AhIAAAAAACDnCEgAAAAAAICcIyABAAAAAAByjoAEAAAAAADIOQISAAAAAAAg5whIAAAAAACAnCMgAQAAAAAAco6ABAAAAAAAyDkCEgAAAAAAIOcISAAAAAAAgJwjIAEAAAAAAHKOgAQAAAAAAMg5AhIAAAAAACDnCEgAAAAAAICcIyABAAAAAAByjoAEAAAAAADIOQISAAAAAAAg5whIAAAAAACAnFOmAUnTpk0jLy9vmb+TTz65LMsCAAAAAADWcRXK8sXHjBkTCxcuzDz+4IMPomvXrvGXv/ylDKsCAAAAAADWdWUakGy44YZZj6+66qpo0aJFdOzYsYwqAoD/6pfXr6xLKDV9U9+yLgEAAACgTJVpQLKk3377Lf7973/HmWeeGXl5eYWOM3/+/Jg/f37m8ezZs9dUeQAAAAAAwDpkrblJ+6OPPho//fRTHHXUUcsdp3///lFQUJD5a9So0ZorEAAAAAAAWGesNQHJwIEDo3v37rHRRhstd5wLLrggZs2alfmbPn36GqwQAAAAAABYV6wVl9j6/PPP47nnnouHH354hePl5+dHfn7+GqoKAICiWlfv2eN+PQAAAOuuteIMksGDB0edOnVir732KutSAAAAAACAHFDmAcmiRYti8ODB0atXr6hQYa04oQUAAAAAAFjHlXlA8txzz8W0adPimGOOKetSAAAAAACAHFHmp2zsvvvukVIq6zIAAAAAAIAcUuZnkAAAAAAAAKxpZX4GCQAAAADA6uqX16+sSygVfVPfsi4B1lkCEgCy2KEEAIC1i310ACgdLrEFAAAAAADkHAEJAAAAAACQcwQkAAAAAABAzhGQAAAAAAAAOUdAAgAAAAAA5JwKZV0AAACsS/rl9SvrEkpN39S3rEsAAAAoMc4gAQAAAAAAco6ABAAAAAAAyDkusQUAFMm6etkglwwCAACA3OQMEgAAAAAAIOcISAAAAAAAgJwjIAEAAAAAAHKOgAQAAAAAAMg5btIOAAAAZaxfXr+yLqFU9E19y7oEAIDlcgYJAAAAAACQcwQkAAAAAABAzhGQAAAAAAAAOcc9SAAAVoFrxQOrQt8BAABrDwEJAAAAsFYRJgIAa4JLbAEAAAAAADlHQAIAAAAAAOQcAQkAAAAAAJBzBCQAAAAAAEDOEZAAAAAAAAA5R0ACAAAAAADknAplXQClp19ev7IuoVT0TX3LugQAAAAAAP7HOYMEAAAAAADIOc4gAQAAAOB/hitmAFBSBCTkhHV15yli1Xag1tX2sDMJAAAAABSVS2wBAAAAAAA5xxkkQM5zRg0AAAAA5B5nkAAAAAAAADlHQAIAAAAAAOQcAQkAAAAAAJBz3IMEAAAAAP4HuacmwOpxBgkAAAAAAJBzBCQAAAAAAEDOcYktAAAAyoRLwwAAUJacQQIAAAAAAOQcAQkAAAAAAJBzBCQAAAAAAEDOEZAAAAAAAAA5R0ACAAAAAADkHAEJAAAAAACQcyqUdQEAAMC6q19ev7IuoVT0TX3LugQAAGA1lfkZJF9++WUcfvjhUatWrahatWpstdVW8fbbb5d1WQAAAAAAwDqsTM8g+fHHH2PHHXeMzp07x1NPPRV16tSJjz/+ONZbb72yLAsAAAAAAFjHlWlA8ve//z0aNWoUgwcPzgxr2rRp2RUEAAAAAADkhDINSIYPHx7dunWLv/zlL/HSSy9FgwYN4qSTTorjjjuu0PHnz58f8+fPzzyePXv2mioVAAAAAOB/hnvBwcqV6T1IPvnkk7j11ltjk002iWeeeSZOOOGEOPXUU+Ouu+4qdPz+/ftHQUFB5q9Ro0ZruGIAAAAAAGBdUKYByaJFi2KbbbaJK6+8Mrbeeus4/vjj47jjjotbb7210PEvuOCCmDVrVuZv+vTpa7hiAAAAAABgXVCmAUn9+vWjdevWWcNatWoV06ZNK3T8/Pz8qFmzZtYfAAAAAABAcZVpQLLjjjvG5MmTs4ZNmTIlmjRpUkYVAQAAAAAAuaBMA5Izzjgj3njjjbjyyivjo48+invvvTduv/32OPnkk8uyLAAAAAAAYB1XpgHJdtttF4888kgMGzYsNt9887jssstiwIABcdhhh5VlWQAAAAAAwDquQlkXsPfee8fee+9d1mUAAAAAAAA5pEzPIAEAAAAAACgLAhIAAAAAACDnCEgAAAAAAICcIyABAAAAAAByjoAEAAAAAADIOQISAAAAAAAg5whIAAAAAACAnCMgAQAAAAAAco6ABAAAAAAAyDkCEgAAAAAAIOcISAAAAAAAgJwjIAEAAAAAAHKOgAQAAAAAAMg5Fcq6AAAAAAAAKE398vqVdQmlom/qW9Yl/E9zBgkAAAAAAJBzBCQAAAAAAEDOEZAAAAAAAAA5R0ACAAAAAADkHAEJAAAAAACQcwQkAAAAAABAzhGQAAAAAAAAOUdAAgAAAAAA5BwBCQAAAAAAkHMEJAAAAAAAQM4RkAAAAAAAADlHQAIAAAAAAOQcAQkAAAAAAJBzBCQAAAAAAEDOEZAAAAAAAAA5R0ACAAAAAADkHAEJAAAAAACQcwQkAAAAAABAzqlQ3AmGDx9e6PC8vLyoXLlybLzxxtGsWbPVLgwAAAAAAKC0FDsg6dmzZ+Tl5UVKKWv44mF5eXmx0047xaOPPhrrr79+iRUKAAAAAABQUop9ia2RI0fGdtttFyNHjoxZs2bFrFmzYuTIkbH99tvHiBEj4uWXX47vv/8+zj777NKoFwAAAAAAYLUV+wyS0047LW6//fbo0KFDZtiuu+4alStXjr/+9a8xYcKEGDBgQBxzzDElWigAAAAAAEBJKfYZJB9//HHUrFlzmeE1a9aMTz75JCIiNtlkk/juu+9WvzoAAAAAAIBSUOyAZNttt41zzjknvv3228ywb7/9Ns4999zYbrvtIiJi6tSp0bBhw5KrEgAAAAAAoAQV+xJbAwcOjB49ekTDhg2jUaNGkZeXF9OmTYvmzZvHY489FhERc+fOjYsuuqjEiwUAAAAAACgJxQ5IWrZsGZMmTYpnnnkmpkyZEiml2GyzzaJr165RrtwfJ6T07NmzpOsEAAAAAAAoMcUOSCIi8vLyYo899og99tijpOsBAAAAAAAodasUkDz//PPx/PPPxzfffBOLFi3Kem7QoEElUhgAAAAAAEBpKXZA0q9fv7j00kujXbt2Ub9+/cjLyyuNugAAAAAAAEpNsQOS2267LYYMGRJHHHFEadQDAAAAAABQ6soVd4LffvstOnToUBq1AAAAAAAArBHFDkh69+4d9957b2nUAgAAAAAAsEYU+xJbv/76a9x+++3x3HPPRdu2baNixYpZz19//fUlVhwAAAAAAEBpKHZA8v7778dWW20VEREffPBB1nNu2A4AAAAAAPwvKHZA8uKLL5ZGHQAAAAAAAGtMse9BUpIuueSSyMvLy/qrV69eWZYEAAAAAADkgCKdQbLffvvFkCFDombNmrHffvutcNyHH364WAW0adMmnnvuuczj8uXLF2t6AAAAAACA4ipSQFJQUJC5v0jNmjVL9F4jFSpUcNYIAAAAAACwRhUpIBk8eHDm/yFDhpRoAVOnTo2NNtoo8vPzY4cddogrr7wymjdvXui48+fPj/nz52cez549u0RrAQAAAAAAckOx70HSpUuX+Omnn5YZPnv27OjSpUux5rXDDjvEXXfdFc8880zccccdMXPmzOjQoUN8//33hY7fv3//KCgoyPw1atSouOUDAAAAAAAUPyAZNWpU/Pbbb8sM//XXX2P06NHFmlf37t1j//33jy222CJ22223eOKJJyIiYujQoYWOf8EFF8SsWbMyf9OnTy9u+QAAAAAAAEW7xFZExPvvv5/5f+LEiTFz5szM44ULF8bTTz8dDRo0WK1iqlWrFltssUVMnTq10Ofz8/MjPz9/tV4DAAAAAACgyAHJVlttFXl5eZGXl1fopbSqVKkS//jHP1armPnz58ekSZNi5513Xq35AAAAAAAArEiRA5JPP/00UkrRvHnzeOutt2LDDTfMPFepUqWoU6dOlC9fvlgvfvbZZ8c+++wTjRs3jm+++SYuv/zymD17dvTq1atY8wEAAAAAACiOIgckTZo0iYiIRYsWldiLf/HFF3HIIYfEd999FxtuuGH86U9/ijfeeCPzWgAAAAAAAKWhyAHJ0iZOnBjTpk1b5obtf/7zn4s8j/vuu29VXx4AAAAAAGCVFTsg+eSTT2LfffeN8ePHR15eXqSUIiIiLy8vIv64YTsAAAAAAMDarFxxJzjttNOiWbNm8fXXX0fVqlVjwoQJ8fLLL0e7du1i1KhRpVAiAAAAAABAySr2GSSvv/56vPDCC7HhhhtGuXLloly5crHTTjtF//7949RTT4133323NOoEAAAAAAAoMcU+g2ThwoVRvXr1iIioXbt2fPXVVxHxx03cJ0+eXLLVAQAAAAAAlIJin0Gy+eabx/vvvx/NmzePHXbYIa6++uqoVKlS3H777dG8efPSqBEAAAAAAKBEFTsg+dvf/hbz5s2LiIjLL7889t5779h5552jVq1acd9995V4gQAAAAAAACWt2AFJt27dMv83b948Jk6cGD/88EOsv/76kZeXV6LFAQAAAAAAlIZi34OkMBtssEHMnDkzTjnllJKYHQAAAAAAQKkq1hkkEydOjBdffDEqVqwYBx54YKy33nrx3XffxRVXXBG33XZbNGvWrLTqBAAAAAAAKDFFPoNkxIgRsfXWW0efPn3ihBNOiHbt2sWLL74YrVq1inHjxsWDDz4YEydOLM1aAQAAAAAASkSRA5IrrrgiTjjhhJg9e3Zce+218cknn8QJJ5wQDz30ULz44oux9957l2adAAAAAAAAJabIAcmkSZPi5JNPjurVq8epp54a5cqViwEDBsQuu+xSmvUBAAAAAACUuCIHJLNnz4711lsvIiIqVKgQVapUiU033bS06gIAAAAAACg1xb5J+8yZMyMiIqUUkydPjnnz5mWN07Zt25KrDgAAAAAAoBQUKyDZddddI6WUebz4viN5eXmRUoq8vLxYuHBhyVYIAAAAAABQwoockHz66aelWQcAAAAAAMAaU+SApEmTJqVZBwAAAAAAwBpT5Ju0AwAAAAAArCsEJAAAAAAAQM4RkAAAAAAAADlHQAIAAAAAAOScVQpIFixYEM8991z861//ijlz5kRExFdffRVz584t0eIAAAAAAABKQ4XiTvD555/HHnvsEdOmTYv58+dH165do0aNGnH11VfHr7/+Grfddltp1AkAAAAAAFBiin0GyWmnnRbt2rWLH3/8MapUqZIZvu+++8bzzz9fosUBAAAAAACUhmKfQfLKK6/Eq6++GpUqVcoa3qRJk/jyyy9LrDAAAAAAAIDSUuwzSBYtWhQLFy5cZvgXX3wRNWrUKJGiAAAAAAAASlOxA5KuXbvGgAEDMo/z8vJi7ty50bdv39hzzz1LsjYAAAAAAIBSUexLbN1www3RuXPnaN26dfz6669x6KGHxtSpU6N27doxbNiw0qgRAAAAAACgRBU7INloo41i3LhxMWzYsHjnnXdi0aJFceyxx8Zhhx2WddN2AAAAAACAtVWxA5KIiCpVqsQxxxwTxxxzTEnXAwAAAAAAUOqKHZAMHz680OF5eXlRuXLl2HjjjaNZs2arXRgAAAAAAEBpKXZA0rNnz8jLy4uUUtbwxcPy8vJip512ikcffTTWX3/9EisUAAAAAACgpJQr7gQjR46M7bbbLkaOHBmzZs2KWbNmxciRI2P77bePESNGxMsvvxzff/99nH322aVRLwAAAAAAwGor9hkkp512Wtx+++3RoUOHzLBdd901KleuHH/9619jwoQJMWDAAPcnAQAAAAAA1lrFPoPk448/jpo1ay4zvGbNmvHJJ59ERMQmm2wS33333epXBwAAAAAAUAqKHZBsu+22cc4558S3336bGfbtt9/GueeeG9ttt11EREydOjUaNmxYclUCAAAAAACUoGJfYmvgwIHRo0ePaNiwYTRq1Cjy8vJi2rRp0bx583jsscciImLu3Llx0UUXlXixAAAAAAAAJaHYAUnLli1j0qRJ8cwzz8SUKVMipRSbbbZZdO3aNcqV++OElJ49e5Z0nQAAAAAAACWm2AFJREReXl7ssccesccee5R0PQAAAAAAAKVulQKSefPmxUsvvRTTpk2L3377Leu5U089tUQKAwAAAAAAKC3FDkjefffd2HPPPePnn3+OefPmxQYbbBDfffddVK1aNerUqSMgAQAAAAAA1nrlijvBGWecEfvss0/88MMPUaVKlXjjjTfi888/j2233Tauvfba0qgRAAAAAACgRBU7IBk3blycddZZUb58+ShfvnzMnz8/GjVqFFdffXVceOGFpVEjAAAAAABAiSp2QFKxYsXIy8uLiIi6devGtGnTIiKioKAg8z8AAAAAAMDarNj3INl6661j7Nixsemmm0bnzp3j4osvju+++y7uvvvu2GKLLUqjRgAAAAAAgBJV7DNIrrzyyqhfv35ERFx22WVRq1atOPHEE+Obb76J22+/vcQLBAAAAAAAKGnFOoMkpRQbbrhhtGnTJiIiNtxww3jyySdLpTAAAAAAAIDSUqwzSFJKsckmm8QXX3xRWvUAAAAAAACUumIFJOXKlYtNNtkkvv/++9KqBwAAAAAAoNQV+x4kV199dZxzzjnxwQcflGgh/fv3j7y8vDj99NNLdL4AAAAAAABLK9Y9SCIiDj/88Pj5559jyy23jEqVKkWVKlWynv/hhx+KXcSYMWPi9ttvj7Zt2xZ7WgAAAAAAgOIqdkAyYMCAEi1g7ty5cdhhh8Udd9wRl19+eYnOGwAAAAAAoDDFDkh69epVogWcfPLJsddee8Vuu+220oBk/vz5MX/+/Mzj2bNnl2gtAAAAAABAbij2PUgiIj7++OP429/+Foccckh88803ERHx9NNPx4QJE4o1n/vuuy/eeeed6N+/f5HG79+/fxQUFGT+GjVqVOzaAQAAAAAAih2QvPTSS7HFFlvEm2++GQ8//HDMnTs3IiLef//96Nu3b5HnM3369DjttNPi3//+d1SuXLlI01xwwQUxa9aszN/06dOLWz4AAAAAAEDxA5Lzzz8/Lr/88hg5cmRUqlQpM7xz587x+uuvF3k+b7/9dnzzzTex7bbbRoUKFaJChQrx0ksvxU033RQVKlSIhQsXLjNNfn5+1KxZM+sPAAAAAACguIp9D5Lx48fHvffeu8zwDTfcML7//vsiz2fXXXeN8ePHZw07+uijY7PNNovzzjsvypcvX9zSAAAAAAAAiqTYAcl6660XM2bMiGbNmmUNf/fdd6NBgwZFnk+NGjVi8803zxpWrVq1qFWr1jLDAQAAAAAASlKxL7F16KGHxnnnnRczZ86MvLy8WLRoUbz66qtx9tlnx5FHHlkaNQIAAAAAAJSoYp9BcsUVV8RRRx0VDRo0iJRStG7dOhYuXBiHHnpo/O1vf1utYkaNGrVa0wMAAAAAABRFsQOSihUrxj333BOXXnppvPvuu7Fo0aLYeuutY5NNNimN+gAAAAAAAEpcsQOSl156KTp27BgtWrSIFi1alEZNAAAAAAAAparY9yDp2rVrNG7cOM4///z44IMPSqMmAAAAAACAUlXsgOSrr76Kc889N0aPHh1t27aNtm3bxtVXXx1ffPFFadQHAAAAAABQ4oodkNSuXTtOOeWUePXVV+Pjjz+Ogw46KO66665o2rRpdOnSpTRqBAAAAAAAKFHFDkiW1KxZszj//PPjqquuii222CJeeumlkqoLAAAAAACg1KxyQPLqq6/GSSedFPXr149DDz002rRpEyNGjCjJ2gAAAAAAAEpFheJOcOGFF8awYcPiq6++it122y0GDBgQPXv2jKpVq5ZGfQAAAAAAACWu2AHJqFGj4uyzz46DDjooateunfXcuHHjYquttiqp2gAAAAAAAEpFsQOS1157LevxrFmz4p577ok777wz3nvvvVi4cGGJFQcAAAAAAFAaVvkeJC+88EIcfvjhUb9+/fjHP/4Re+65Z4wdO7YkawMAAAAAACgVxTqD5IsvvoghQ4bEoEGDYt68eXHggQfG77//Hg899FC0bt26tGoEAAAAAAAoUUU+g2TPPfeM1q1bx8SJE+Mf//hHfPXVV/GPf/yjNGsDAAAAAAAoFUU+g+TZZ5+NU089NU488cTYZJNNSrMmAAAAAACAUlXkM0hGjx4dc+bMiXbt2sUOO+wQN998c3z77belWRsAAAAAAECpKHJA0r59+7jjjjtixowZcfzxx8d9990XDRo0iEWLFsXIkSNjzpw5pVknAAAAAABAiSlyQLJY1apV45hjjolXXnklxo8fH2eddVZcddVVUadOnfjzn/9cGjUCAAAAAACUqGIHJEtq2bJlXH311fHFF1/EsGHDSqomAAAAAACAUrVaAcli5cuXj549e8bw4cNLYnYAAAAAAAClqkQCEgAAAAAAgP8lAhIAAAAAACDnCEgAAAAAAICcIyABAAAAAAByjoAEAAAAAADIOQISAAAAAAAg5whIAAAAAACAnCMgAQAAAAAAco6ABAAAAAAAyDkCEgAAAAAAIOcISAAAAAAAgJwjIAEAAAAAAHKOgAQAAAAAAMg5AhIAAAAAACDnCEgAAAAAAICcIyABAAAAAAByjoAEAAAAAADIOQISAAAAAAAg5whIAAAAAACAnCMgAQAAAAAAco6ABAAAAAAAyDkCEgAAAAAAIOcISAAAAAAAgJwjIAEAAAAAAHKOgAQAAAAAAMg5AhIAAAAAACDnCEgAAAAAAICcIyABAAAAAAByjoAEAAAAAADIOQISAAAAAAAg55RpQHLrrbdG27Zto2bNmlGzZs1o3759PPXUU2VZEgAAAAAAkAPKNCBp2LBhXHXVVTF27NgYO3ZsdOnSJXr06BETJkwoy7IAAAAAAIB1XIWyfPF99tkn6/EVV1wRt956a7zxxhvRpk2bMqoKAAAAAABY15VpQLKkhQsXxoMPPhjz5s2L9u3bFzrO/PnzY/78+ZnHs2fPXlPlAQAAAAAA65Ayv0n7+PHjo3r16pGfnx8nnHBCPPLII9G6detCx+3fv38UFBRk/ho1arSGqwUAAAAAANYFZR6QtGzZMsaNGxdvvPFGnHjiidGrV6+YOHFioeNecMEFMWvWrMzf9OnT13C1AAAAAADAuqDML7FVqVKl2HjjjSMiol27djFmzJi48cYb41//+tcy4+bn50d+fv6aLhEAAAAAAFjHlPkZJEtLKWXdZwQAAAAAAKCklekZJBdeeGF07949GjVqFHPmzIn77rsvRo0aFU8//XRZlgUAAAAAAKzjyjQg+frrr+OII46IGTNmREFBQbRt2zaefvrp6Nq1a1mWBQAAAAAArOPKNCAZOHBgWb48AAAAAACQo9a6e5AAAAAAAACUNgEJAAAAAACQcwQkAAAAAABAzhGQAAAAAAAAOUdAAgAAAAAA5BwBCQAAAAAAkHMEJAAAAAAAQM4RkAAAAAAAADlHQAIAAAAAAOQcAQkAAAAAAJBzBCQAAAAAAEDOEZAAAAAAAAA5R0ACAAAAAADkHAEJAAAAAACQcwQkAAAAAABAzhGQAAAAAAAAOUdAAgAAAAAA5BwBCQAAAAAAkHMEJAAAAAAAQM4RkAAAAAAAADlHQAIAAAAAAOQcAQkAAAAAAJBzBCQAAAAAAEDOEZAAAAAAAAA5R0ACAAAAAADkHAEJAAAAAACQcwQkAAAAAABAzhGQAAAAAAAAOUdAAgAAAAAA5BwBCQAAAAAAkHMEJAAAAAAAQM4RkAAAAAAAADlHQAIAAAAAAOQcAQkAAAAAAJBzBCQAAAAAAEDOEZAAAAAAAAA5R0ACAAAAAADkHAEJAAAAAACQcwQkAAAAAABAzhGQAAAAAAAAOUdAAgAAAAAA5BwBCQAAAAAAkHMEJAAAAAAAQM4RkAAAAAAAADlHQAIAAAAAAOQcAQkAAAAAAJBzBCQAAAAAAEDOEZAAAAAAAAA5R0ACAAAAAADknDINSPr37x/bbbdd1KhRI+rUqRM9e/aMyZMnl2VJAAAAAABADijTgOSll16Kk08+Od54440YOXJkLFiwIHbfffeYN29eWZYFAAAAAACs4yqU5Ys//fTTWY8HDx4cderUibfffjt22WWXMqoKAAAAAABY15VpQLK0WbNmRUTEBhtsUOjz8+fPj/nz52cez549e43UBQAAAAAArFvWmpu0p5TizDPPjJ122ik233zzQsfp379/FBQUZP4aNWq0hqsEAAAAAADWBWtNQHLKKafE+++/H8OGDVvuOBdccEHMmjUr8zd9+vQ1WCEAAAAAALCuWCsusdWnT58YPnx4vPzyy9GwYcPljpefnx/5+flrsDIAAAAAAGBdVKYBSUop+vTpE4888kiMGjUqmjVrVpblAAAAAAAAOaJMA5KTTz457r333njssceiRo0aMXPmzIiIKCgoiCpVqpRlaQAAAAAAwDqsTO9Bcuutt8asWbOiU6dOUb9+/czf/fffX5ZlAQAAAAAA67gyv8QWAAAAAADAmlamZ5AAAAAAAACUBQEJAAAAAACQcwQkAAAAAABAzhGQAAAAAAAAOUdAAgAAAAAA5BwBCQAAAAAAkHMEJAAAAAAAQM4RkAAAAAAAADlHQAIAAAAAAOQcAQkAAAAAAJBzBCQAAAAAAEDOEZAAAAAAAAA5R0ACAAAAAADkHAEJAAAAAACQcwQkAAAAAABAzhGQAAAAAAAAOUdAAgAAAAAA5BwBCQAAAAAAkHMEJAAAAAAAQM4RkAAAAAAAADlHQAIAAAAAAOQcAQkAAAAAAJBzBCQAAAAAAEDOEZAAAAAAAAA5R0ACAAAAAADkHAEJAAAAAACQcwQkAAAAAABAzhGQAAAAAAAAOUdAAgAAAAAA5BwBCQAAAAAAkHMEJAAAAAAAQM4RkAAAAAAAADlHQAIAAAAAAOQcAQkAAAAAAJBzBCQAAAAAAEDOEZAAAAAAAAA5R0ACAAAAAADkHAEJAAAAAACQcwQkAAAAAABAzhGQAAAAAAAAOUdAAgAAAAAA5BwBCQAAAAAAkHMEJAAAAAAAQM4RkAAAAAAAADlHQAIAAAAAAOQcAQkAAAAAAJBzBCQAAAAAAEDOEZAAAAAAAAA5R0ACAAAAAADknDINSF5++eXYZ599YqONNoq8vLx49NFHy7IcAAAAAAAgR5RpQDJv3rzYcsst4+abby7LMgAAAAAAgBxToSxfvHv37tG9e/eyLAEAAAAAAMhBZRqQFNf8+fNj/vz5mcezZ88uw2oAAAAAAID/Vf9TN2nv379/FBQUZP4aNWpU1iUBAAAAAAD/g/6nApILLrggZs2alfmbPn16WZcEAAAAAAD8D/qfusRWfn5+5Ofnl3UZAAAAAADA/7j/qTNIAAAAAAAASkKZnkEyd+7c+OijjzKPP/300xg3blxssMEG0bhx4zKsDAAAAAAAWJeVaUAyduzY6Ny5c+bxmWeeGRERvXr1iiFDhpRRVQAAAAAAwLquTAOSTp06RUqpLEsAAAAAAABykHuQAAAAAAAAOUdAAgAAAAAA5BwBCQAAAAAAkHMEJAAAAAAAQM4RkAAAAAAAADlHQAIAAAAAAOQcAQkAAAAAAJBzBCQAAAAAAEDOEZAAAAAAAAA5R0ACAAAAAADkHAEJAAAAAACQcwQkAAAAAABAzhGQAAAAAAAAOUdAAgAAAAAA5BwBCQAAAAAAkHMEJAAAAAAAQM4RkAAAAAAAADlHQAIAAAAAAOQcAQkAAAAAAJBzBCQAAAAAAEDOEZAAAAAAAAA5R0ACAAAAAADkHAEJAAAAAACQcwQkAAAAAABAzhGQAAAAAAAAOUdAAgAAAAAA5BwBCQAAAAAAkHMEJAAAAAAAQM4RkAAAAAAAADlHQAIAAAAAAOQcAQkAAAAAAJBzBCQAAAAAAEDOEZAAAAAAAAA5R0ACAAAAAADkHAEJAAAAAACQcwQkAAAAAABAzhGQAAAAAAAAOUdAAgAAAAAA5BwBCQAAAAAAkHMEJAAAAAAAQM4RkAAAAAAAADlHQAIAAAAAAOQcAQkAAAAAAJBzBCQAAAAAAEDOEZAAAAAAAAA5R0ACAAAAAADkHAEJAAAAAACQcwQkAAAAAABAzhGQAAAAAAAAOafMA5J//vOf0axZs6hcuXJsu+22MXr06LIuCQAAAAAAWMeVaUBy//33x+mnnx7/93//F++++27svPPO0b1795g2bVpZlgUAAAAAAKzjyjQguf766+PYY4+N3r17R6tWrWLAgAHRqFGjuPXWW8uyLAAAAAAAYB1Xoaxe+Lfffou33347zj///Kzhu+++e7z22muFTjN//vyYP39+5vGsWbMiImL27NmlV+j/sF/j17IuoVSsyue9rrZFhPZY0qr2Bdojm/b4r3W1LSK0x5KsK9m0RzbrSjbt8V/WlWzaI5t15b8sG9m0RzbtkU3f8V+WjWzaI5v2yOa78WUtbpOU0krHzUtFGasUfPXVV9GgQYN49dVXo0OHDpnhV155ZQwdOjQmT568zDSXXHJJ9OvXb02WCQAAAAAA/I+ZPn16NGzYcIXjlNkZJIvl5eVlPU4pLTNssQsuuCDOPPPMzONFixbFDz/8ELVq1VruNJS+2bNnR6NGjWL69OlRs2bNsi6nTGmLbNojm/bIpj3+S1tk0x7ZtEc27fFf2iKb9simPbJpj//SFtm0RzbtkU17/Je2yKY9smmPbNqj7KWUYs6cObHRRhutdNwyC0hq164d5cuXj5kzZ2YN/+abb6Ju3bqFTpOfnx/5+flZw9Zbb73SKpFiqlmzppX+/9MW2bRHNu2RTXv8l7bIpj2yaY9s2uO/tEU27ZFNe2TTHv+lLbJpj2zaI5v2+C9tkU17ZNMe2bRH2SooKCjSeGV2k/ZKlSrFtttuGyNHjswaPnLkyKxLbgEAAAAAAJS0Mr3E1plnnhlHHHFEtGvXLtq3bx+33357TJs2LU444YSyLAsAAAAAAFjHlWlActBBB8X3338fl156acyYMSM233zzePLJJ6NJkyZlWRbFlJ+fH3379l3m8me5SFtk0x7ZtEc27fFf2iKb9simPbJpj//SFtm0RzbtkU17/Je2yKY9smmPbNrjv7RFNu2RTXtk0x7/W/JSSqmsiwAAAAAAAFiTyuweJAAAAAAAAGVFQAIAAAAAAOQcAQkAAAAAAJBzBCRQgoYMGRLrrbfeKk9/1FFHRc+ePUusnrXF6rbL2uSzzz6LvLy8GDduXLGnXfrz7dSpU5x++umZx02bNo0BAwasdo2UrNX5zMvKutqXACtW0tuRpbdTrJvsfxTPJZdcEltttVVO15CXlxePPvpomb3+6ho1alTk5eXFTz/9VNallLp16TisKMp63QCWb+n9jf/1bQnrFgHJOuSoo46KvLy8yMvLiwoVKkTjxo3jxBNPjB9//LGsS/uf8s0338Txxx8fjRs3jvz8/KhXr15069YtXn/99ZVOe9BBB8WUKVNWOM4ll1yS+ZyW/HvuuefixhtvjCFDhpTQO1k9r732WpQvXz722GOPYk1X2EF2UdplbVDY57Lk31FHHbVa81+bPt/lue2226JGjRqxYMGCzLC5c+dGxYoVY+edd84ad/To0ZGXl7dan+3acIC6ZN+Zl5cXtWrVij322CPef//9iIho1KhRzJgxIzbffPMyq3FttmT7VaxYMerWrRtdu3aNQYMGxaJFi8q6vLXC6mxXVtfKvvj0+ZX+l0eL2/iEE05Y5rmTTjqpRLYvi40ZMyb++te/lsi8SsPS/e3iv48++qhE5r0uBcO5ttzMnDkz+vTpE82bN4/8/Pxo1KhR7LPPPvH888+XaV2laVX3tSMizj777DXSNsv7snnGjBnRvXv3Un/9oliVZadDhw4xY8aMKCgoWIOVlrzl9XtL7l8X5zhsbQ1TVmddWRPWlh9Trantxtq6nJSENX0sXNZKc7+sMGvD/saKFKVPZd0lIFnH7LHHHjFjxoz47LPP4s4774zHH388TjrppLIu63/K/vvvH++9914MHTo0pkyZEsOHD49OnTrFDz/8sNJpq1SpEnXq1FnpeG3atIkZM2Zk/e2yyy5RUFCw1uxsDBo0KPr06ROvvPJKTJs2bbXmVdR2KWtLfh4DBgyImjVrZg278cYbV2m+CxcujEWLFpX65/v777+v9jw6d+4cc+fOjbFjx2aGjR49OurVqxdjxoyJn3/+OTN81KhRsdFGG8Wmm2662q+7ulJKWTuyxbW475wxY0Y8//zzUaFChdh7770jIqJ8+fJRr169qFChQkmVW6jffvutVOdfmpbc9jz11FPRuXPnOO2002Lvvfde7udSEsvr/4rV2a6squIsT6vy+bGsFfVDjRo1ivvuuy9++eWXzLBff/01hg0bFo0bNy6xGjbccMOoWrVqic2vNCzZ3y7+a9asWVmXtVbKleXms88+i2233TZeeOGFuPrqq2P8+PHx9NNPR+fOnePkk08us7pK2+rsa1evXj1q1apVSpWtXL169SI/P7/MXn+xVVl2fv/996hUqVLUq1cv8vLy1nDFa15ZHIctPvYpKSV5XLq2W93jgTW13SgJJb2clIQ1cSy8usetJW1N7peV9f5GWSlsvV7V5X9tXG/WFQKSdcziX6Y2bNgwdt999zjooIPi2WefjYiIRYsWxaWXXhoNGzaM/Pz82GqrreLpp5/OTLv4lw8PPPBA7LzzzlGlSpXYbrvtYsqUKTFmzJho165dVK9ePfbYY4/49ttvM9ONGTMmunbtGrVr146CgoLo2LFjvPPOO1l15eXlxZ133hn77rtvVK1aNTbZZJMYPnx41jgTJkyIvfbaK2rWrBk1atSInXfeOT7++OPM84MHD45WrVpF5cqVY7PNNot//vOfJd5+P/30U7zyyivx97//PTp37hxNmjSJ7bffPi644ILYa6+9MuP89a9/jbp160blypVj8803jxEjRkRE0X9NUaFChahXr17WX6VKldaaXz/OmzcvHnjggTjxxBNj7733Xuash+HDh0e7du2icuXKUbt27dhvv/0i4o9LcXz++edxxhlnZH59EFF4u9x6663RokWLqFSpUrRs2TLuvvvurOeLssyUtCU/j4KCgsjLy1tm2GKffPJJdO7cOapWrRpbbrll1i/BF7/fESNGROvWrSM/Pz8+//zzYn++s2bNir/+9a9Rp06dqFmzZnTp0iXee++9zPOLf9U3aNCgzK/mUkqr1QYtW7aMjTbaKEaNGpUZNmrUqOjRo0e0aNEiXnvttazhnTt3jt9++y3OPffcaNCgQVSrVi122GGHrOk///zz2GeffWL99dePatWqRZs2beLJJ5+Mzz77LDp37hwREeuvv37Wr5pSSnH11VdH8+bNo0qVKrHlllvGf/7zn6zXzsvLi2eeeSbatWsX+fn5MXr06OjUqVOceuqpce6558YGG2wQ9erVi0suuWSl73tx31mvXr3Yaqut4rzzzovp06fHt99+W+ivwl566aXYfvvtIz8/P+rXrx/nn39+1o7unDlz4rDDDotq1apF/fr144Ybbij0kmqXX355HHXUUVFQUBDHHXdcREScd955semmm0bVqlWjefPmcdFFF2WFCYs/93/961/RqFGjqFq1avzlL38p9Bct1157bdSvXz9q1aoVJ598cmY+l156aWyxxRbLjL/tttvGxRdfvNL2Wl77NWjQILbZZpu48MIL47HHHounnnoq03/k5eXFbbfdFj169Ihq1arF5ZdfHgsXLoxjjz02mjVrFlWqVImWLVsuE0QuXm+uvPLKqFu3bqy33nrRr1+/WLBgQZxzzjmxwQYbRMOGDWPQoEFZ062sHdeUomxX8vLy4tZbb43u3btHlSpVolmzZvHggw9mzWf8+PHRpUuXqFKlStSqVSv++te/xty5czPPL26n/v37Zw7WltcnL60on9+0adOiR48eUb169ahZs2YceOCB8fXXX2fNZ3nbhsXvcelT6Ndbb73M/Fd1HyRixfsHi+f78MMPF9pnjxo1Ko4++uiYNWtWpo0W9xn//ve/o127dlGjRo2oV69eHHroofHNN99k5l1YP3T33XdHuXLlsg6sF7/Xn3/+OR566KHMsIcffjgaNWoUW2+9dWZYYWf8bLXVVln92CWXXJI5G2mjjTaKU089dbnTr2if5fvvv49DDjkkGjZsGFWrVo0tttgihg0bFqVtyf528d+NN94YW2yxRVSrVi0aNWoUJ510UtbyvXi7+swzz0SrVq0yy8KMGTMybTJ06NB47LHHMp/j4u3QyvqC9957Lzp37hw1atSImjVrxrbbbhtjx46NefPmRc2aNbO2PRERjz/+eFSrVi3mzJlT6m21zTbbROPGjePhhx/ODCvr5aY0LP5l81tvvRUHHHBAbLrpptGmTZs488wz44033oiIlfdBS+4TNW7cOKpXrx4nnnhiLFy4MK6++uqoV69e1KlTJ6644oqs117ZvlZExFVXXRV169aNGjVqxLHHHhu//vpr5rmXX345KlasGDNnzsya5qyzzopddtllue95Rfvai/uW559/Ptq1axdVq1aNDh06xOTJk5d5v4uVxrZyyJAh0a9fv3jvvfcy69WS2/Ql+/SibqOWt1+yqoqy7BS2/7H0r4GX3Hdv2bJlVK1aNQ444ICYN29eDB06NJo2bRrrr79+9OnTJxYuXJh5/ZXtA68Nlj4OW16ft6Lt4Y8//hhHHnlkrL/++lG1atXo3r17TJ06dZnXWPLYZ/To0au0bixtZcelK1o/n3nmmahcufIy+8innnpqdOzYMfP4tddei1122SWqVKkSjRo1ilNPPTXmzZuXeb5p06Zx5ZVXxjHHHBM1atSIxo0bx+233555fvGXyVtvvXXk5eVFp06dIqLwy1T27Nkz6yyO5R0PrKym5SnKduOuu+6KWrVqxfz587Om3X///ePII4+MiFVbTla2PpTmclJSVuVYeFX2F0ePHr0m39YKrc5+WXH7zBWd2d6lS5c45ZRTsoZ9//33kZ+fHy+88EKpvPdV9dBDD0WbNm0iPz8/mjZtGtddd13W84Wt18v7jmhV+tfPP/98Tb/l3JBYZ/Tq1Sv16NEj8/jjjz9OrVu3TnXr1k0ppXT99denmjVrpmHDhqUPP/wwnXvuualixYppypQpKaWUPv300xQRabPNNktPP/10mjhxYvrTn/6Uttlmm9SpU6f0yiuvpHfeeSdtvPHG6YQTTsi8zvPPP5/uvvvuNHHixDRx4sR07LHHprp166bZs2dnxomI1LBhw3TvvfemqVOnplNPPTVVr149ff/99ymllL744ou0wQYbpP322y+NGTMmTZ48OQ0aNCh9+OGHKaWUbr/99lS/fv300EMPpU8++SQ99NBDaYMNNkhDhgwp0Tb8/fffU/Xq1dPpp5+efv3112WeX7hwYfrTn/6U2rRpk5599tn08ccfp8cffzw9+eSTKaWUBg8enAoKClb4Gn379k1bbrlloc8t/RmWlYEDB6Z27dqllFJ6/PHHU9OmTdOiRYtSSimNGDEilS9fPl188cVp4sSJady4cemKK65IKaX0/fffp4YNG6ZLL700zZgxI82YMSOltGy7PPzww6lixYrplltuSZMnT07XXXddKl++fHrhhRcy46xsmSlty/ssl1xPRowYkSZPnpwOOOCA1KRJk/T7779npq1YsWLq0KFDevXVV9OHH36Y5s6du8zn27Fjx3TaaadlHjdp0iTdcMMNKaWUFi1alHbccce0zz77pDFjxqQpU6aks846K9WqVSvTBn379k3VqlVL3bp1S++880567733Mp/T6jj00EPT7rvvnnm83XbbpQcffDCdeOKJ6cILL0wppTR//vxUpUqVdOedd6ZDDz00dejQIb388svpo48+Stdcc03Kz8/P9C177bVX6tq1a3r//fcz68xLL72UFixYkB566KEUEWny5MlpxowZ6aeffkoppXThhRdm+qKPP/44DR48OOXn56dRo0allFJ68cUXU0Sktm3bpmeffTZ99NFH6bvvvksdO3ZMNWvWTJdcckmaMmVKGjp0aMrLy0vPPvvsct/v0p/LnDlz0vHHH5823njjtHDhwsxn/u6776aU/uivqlatmk466aQ0adKk9Mgjj6TatWunvn37ZubRu3fv1KRJk/Tcc8+l8ePHp3333TfVqFFjmc+7Zs2a6ZprrklTp05NU6dOTSmldNlll6VXX301ffrpp2n48OGpbt266e9//3tmusWfe5cuXdK7776bXnrppbTxxhunQw89NOs91axZM51wwglp0qRJ6fHHH09Vq1ZNt99+e0oppenTp6dy5cqlt956KzPNe++9l/Ly8tLHH3+80mVkRe23pC233DJ17949pfTHOl2nTp00cODA9PHHH6fPPvss/fbbb+niiy9Ob731Vvrkk0/Sv//971S1atV0//33Z82/Ro0a6eSTT04ffvhhGjhwYIqI1K1bt3TFFVekKVOmpMsuuyxVrFgxTZs2LTPdytpxTVnZdiWlP9qmVq1a6Y477kiTJ09Of/vb31L58uXTxIkTU0opzZs3L2200UZpv/32S+PHj0/PP/98atasWerVq1dmHr169UrVq1dPRxxxRPrggw/S+PHjl9snL6kon9+iRYvS1ltvnXbaaac0duzY9MYbb6RtttkmdezYMTPuirYNi9/jI488kjX/goKCNHjw4JTSqu+DrGz/YGV99vz589OAAQNSzZo1M200Z86clNIf28Inn3wyffzxx+n1119Pf/rTnzLLc0rL74e6du2aTjrppKw2LigoSLvvvnvaddddM8N33XXXdMMNN6QePXpkPssltwNLfg6L+5cHH3ww1axZMz355JPp888/T2+++WZmvV56+pXts3zxxRfpmmuuSe+++276+OOP00033ZTKly+f3njjjcz8lt5Ora7lLW833HBDeuGFF9Inn3ySnn/++dSyZct04oknZp5fvF3dbbfd0pgxY9Lbb7+dWrVqlen35syZkw488MC0xx57ZD7H+fPnp5RW3he0adMmHX744WnSpElpypQp6YEHHkjjxo1LKaV03HHHpT333DOr1n333TcdeeSRJdYmy7O4ra6//vq1arkpad9//33Ky8tLV1555XLHKUof1Ldv31S9evV0wAEHpAkTJqThw4enSpUqpW7duqU+ffqkDz/8MA0aNChFRHr99dcz813Zvtb999+fKlWqlO6444704Ycfpv/7v/9LNWrUyNqX33TTTdPVV1+defz777+nOnXqpEGDBi33Pa1oX3tx37LDDjukUaNGpQkTJqSdd945dejQIev9LllDaWwrf/7553TWWWelNm3aZNarn3/+OaWU3acXdRu1ov2SVVGUZWdxrUvvfyxu4x9//DGl9N8+pmvXrumdd95JL730UqpVq1bafffd04EHHpgmTJiQHn/88VSpUqV03333Zea9sn3g0ra8PnXJ97f0Mc3y+rwVbQ///Oc/p1atWqWXX345jRs3LnXr1i1tvPHG6bfffkspLf/YZ1XWjaWtaF1Z2fq5YMGCVLdu3XTnnXdm5rd42L/+9a+UUkrvv/9+ql69errhhhvSlClT0quvvpq23nrrdNRRR2WmadKkSdpggw3SLbfckqZOnZr69++fypUrlyZNmpRSSumtt95KEZGee+65NGPGjEz/Udg2dMm+e/G8lz4eKEpNhSnqduPnn39OBQUF6YEHHsiM8+2336ZKlSpljsdXZTlZ2fpQmstJSSrusfCq7i+uDVZ3v6y4febS+ytLbkvuueeetP7662cdL914441Z63xpK0qfOnbs2FSuXLl06aWXpsmTJ6fBgwenKlWqZI5pUip8vV7e8r+q/SslT0CyDunVq1cqX758qlatWqpcuXKKiBQR6frrr08ppbTRRhtlfVmR0h+d/eKD+MVfIiy5AzFs2LAUEen555/PDOvfv39q2bLlcutYsGBBqlGjRnr88cczwyIi/e1vf8s8njt3bsrLy0tPPfVUSimlCy64IDVr1izTCSytUaNG6d57780adtlll6X27duvsE1WxX/+85+0/vrrp8qVK6cOHTqkCy64IL333nsppZSeeeaZVK5cuTR58uRCpy1qQFKuXLlUrVq1zN92222XUlp7ApIOHTqkAQMGpJT+2EGpXbt2GjlyZEoppfbt26fDDjtsudMWdpC+dLt06NAhHXfccVnj/OUvf8n6EmJly0xpW1lAsuR6MmHChBQRmZ3kwYMHp4jIfMGyWHECkueffz7VrFlzmS9UW7Rokdmh79u3b6pYsWL65ptvVuOdLuv2229P1apVS7///nuaPXt2qlChQvr666/Tfffdlzk4f+mll1JEpI8++ijl5eWlL7/8Mmseu+66a7rgggtSSiltscUW6ZJLLin0tZY+QE3pj8+6cuXK6bXXXssa99hjj02HHHJI1nSPPvpo1jgdO3ZMO+20U9aw7bbbLp133nnLfb9L9p3VqlVLEZHq16+f3n777ZRSWiYgufDCC1PLli2zdtRuueWWVL169bRw4cI0e/bsVLFixfTggw9mnv/pp59S1apVl/m8e/bsudy6Frv66qvTtttum3nct2/fVL58+TR9+vTMsKeeeiqVK1cu8wV4r169UpMmTdKCBQsy4/zlL39JBx10UOZx9+7ds3Z0Tz/99NSpU6eV1rO0FfVbBx10UGrVqlVK6Y91+vTTT1/p/E466aS0//77Z82/SZMmaeHChZlhLVu2TDvvvHPm8YIFC1K1atXSsGHDljvfpdtxTVrRdiWlP9pmyS/9U0pphx12yHw+t99+e1p//fWzdoafeOKJVK5cuTRz5syU0h/tVLdu3cyXwosV1icvqSif37PPPpvKly+f9aXa4n5vcci2sm1DUQOS4u6DrGz/oKh99sq23Sn99wuQxV8ELK8fuv/++7MO8PbZZ58UEentt99O+fn56dNPP02fffZZqly5cvr222+L9UX3ddddlzbddNPl7i8tOf3K9lkKs+eee6azzjor87g0ApIl+9tq1aqlAw44YJnxHnjggVSrVq3M48Xb1Y8++igz7JZbbsn8CGjxvIuyD7V0X1CjRo3l/uDmzTffTOXLl89s47799ttUsWLFTFhfmha/n2+//XatX25Wx5tvvpkiIj388MPLHacofVDfvn1T1apVs36g1a1bt9S0adNlth/9+/dPKRVtX6t9+/aF9s9LhhN///vfM9u6lFJ69NFHU/Xq1Vf4BcaK9rUX9y3PPfdcZvwnnngiRUT65ZdfMu936YCkNLaVy/th15J9elG3USvbLymuoiw7i2tdev+jsIBk6T7m+OOPT1WrVs30+Sn9sUwdf/zxKaVUpH3g0lZYn7rkdwGFBSQr6vMK2x5OmTIlRUR69dVXM8O+++67VKVKlcwX7Ms79lmVdWNpKzsuXdn6eeqpp6YuXbpkHj/zzDOpUqVK6YcffkgppXTEEUekv/71r1nzGD16dCpXrlxmfWvSpEk6/PDDM88vWrQo1alTJ916660ppWWPFRYrakCy9PFAUWoqTHG2GyeeeGLWl/gDBgxIzZs3zxzfFHc5Kcr6UJrLSUkqzrFwYT8sK+r+4tqgJPfLVtZnprTigOTXX39NG2ywQdYP5bbaaqvlfo9QGorSpx566KGpa9euWdOdc845qXXr1pnHha3XhS3/q9O/UvJcYmsd07lz5xg3bly8+eab0adPn+jWrVv06dMnZs+eHV999VXsuOOOWePvuOOOMWnSpKxhbdu2zfxft27diIisS7HUrVs365TBb775Jk444YTYdNNNo6CgIAoKCmLu3LnLXB90yflWq1YtatSokZnPuHHjYuedd46KFSsu856+/fbbmD59ehx77LFRvXr1zN/ll1+edQmukrL//vvHV199FcOHD49u3brFqFGjYptttokhQ4bEuHHjomHDhkW6zuS0adOy6r3yyiszz7Vs2TLGjRuX+VvykhtlbfLkyfHWW2/FwQcfHBF/XA7soIMOypySP27cuNh1111X6zUmTZpU7GVx6WWmrC1ZW/369SMismqrVKlS1jjF9fbbb8fcuXOjVq1aWcvRp59+mrXcN2nSJDbccMNVfp3CdO7cOebNmxdjxoyJ0aNHx6abbhp16tSJjh07xpgxY2LevHkxatSoaNy4cbzzzjuRUopNN900q86XXnopU+epp54al19+eey4447Rt2/fzM3Pl2fixInx66+/RteuXbPmeddddy2zzrdr126Z6Zdu9/r16690uVncdy7uP3fffffo3r17oaevTpo0Kdq3b591uaIdd9wx5s6dG1988UV88skn8fvvv8f222+feb6goCBatmy5zLwKq/8///lP7LTTTlGvXr2oXr16XHTRRcv0p40bN46GDRtmHrdv3z4WLVqUdfmNNm3aRPny5ZfbDscdd1wMGzYsfv311/j999/jnnvuiWOOOWaF7VRcKaWsdirs/d52223Rrl272HDDDaN69epxxx13LPN+27RpE+XK/XeXpW7dulnbpfLly0etWrWy3l9R2nFNWdF2ZbH27dtnTdO+fftMnzhp0qTYcssto1q1apnnd9xxx2U+8y222CIqVapUYnUv/vwmTZoUjRo1ikaNGmWea926day33nqZGkti2xBRvH2Q4uwfrKzPLsy7774bPXr0iCZNmkSNGjUyl8xYejlaernu2bNnVKhQIR555JGIiPjoo4+idu3asc0228Ree+0VQ4cOjcGDB8dee+0VtWvXXmmbLOkvf/lL/PLLL9G8efM47rjj4pFHHlnudaxXts+ycOHCuOKKK6Jt27aZbc2zzz5b6uvJkv3tuHHj4qabbooXX3wxunbtGg0aNIgaNWrEkUceGd9//33W5USqVq0aLVq0yDwuSt8esfK+4Mwzz4zevXvHbrvtFldddVXWsrP99ttHmzZt4q677oqIiLvvvjsaN268Ri/7Ubt27bVquSlp6f9fGnRF94IoSh8U8cclLWrUqJF5XLdu3WjduvUy24/Fy01R9rUWb/OXtPTjo446Kj766KPMJZ0GDRoUBx54YFafvaSV7WsvVtx+q6y2lUXdRq1sv6S4irLsLFbY/sfSlu5j6tatG02bNo3q1atnDVtcc1H2gdeEpfvUcePGxZ133rnc8VfU5xVm0qRJUaFChdhhhx0yw2rVqhUtW7bMWv8KO/Yp7rqxtJWtK0VZPw877LAYNWpUfPXVVxERcc8998See+4Z66+/fkT80Q8MGTIk6zPs1q1bLFq0KD799NPMfJZ8b4svw1xSx6VLL59FrWl5irLdOO644+LZZ5+NL7/8MiL+uFzp4ht2RxR/OSnq+lAay0lJK86xcPPmzVd5f3FtUVL7ZSvrM1cmPz8/Dj/88Kzvnd57772sS9KtCSvrU5f3XdbUqVOzLidW2Oe99PK/Ov0rJa907zjLGletWrXYeOONIyLipptuis6dO0e/fv3inHPOiYhldyCX/vIqIrJCisXPLT1syZsCHXXUUfHtt9/GgAEDokmTJpGfnx/t27df5kZES4cfS86nSpUqy31Pi8e54447sjqOiMjayS5JlStXjq5du0bXrl3j4osvjt69e0ffvn3j7LPPLvI8Ntpoo6x7FmywwQaZ/ytVqpT5nNY2AwcOjAULFkSDBg0yw1JKUbFixfjxxx9X+FkVR3GXxcXTrC03pCpsPVmytipVqqzWjR8XLVoU9evXL/Q6xkteR7g0dhw33njjaNiwYbz44ovx448/Zq7RW69evWjWrFm8+uqr8eKLL0aXLl1i0aJFUb58+Xj77beXWR8X7xz17t07unXrFk888UQ8++yz0b9//7juuuuiT58+hb7+4nZ84oknspbDiFjmhqCFvf9VWW6W7Dsj/rgXR0FBQdxxxx3Ru3fvrHELW1aXPEhf3gH74uErqv+NN96Igw8+OPr16xfdunWLgoKCuO+++5a5runSFr/Wkq+5snbYZ599Ij8/Px555JHIz8+P+fPnx/7777/C1ymuSZMmZd3kb+n3+8ADD8QZZ5wR1113XbRv3z5q1KgR11xzTbz55ptZ4xX2Xlb0/la1HUvT8rYrK9rpX/x5FrbMLT1ORMn3B4s/v+W9/pLDV7ZtWHLdWKywa88XZx+kOPsHK+uzlzZv3rzYfffdY/fdd49///vfseGGG8a0adOiW7duy+zfLN3ulSpViiOOOCIGDx4c++23X3zyySex+eabR0TEMccck7m+8i233LLM65YrV26F7dSoUaOYPHlyjBw5Mp577rk46aST4pprromXXnppmXViZZ/JddddFzfccEMMGDAgc53p008/fbVvELsyS/e3n3/+eey5555xwgknxGWXXRYbbLBBvPLKK3HsscdmvffC1vnC+tUlFaUvuOSSS+LQQw+NJ554Ip566qno27dv3HfffbHvvvtGxB/bsJtvvjnOP//8GDx4cBx99NFr/MbOa9NyU9I22WSTTBC7vPu0FaUPiij+tqKo+1orU6dOndhnn31i8ODB0bx583jyySdXeB+Kle1rF/Z+itJvldW2sqjbqJLery/KsrNYUbaPq7L8rGwfeE1Yuk+NiPjiiy+WO/7K+rylLa+fXfpzL+zYp7jrxtKKuq6syPbbbx8tWrSI++67L0488cR45JFHYvDgwZnnFy1aFMcff3zWfZkWW/Km5quy/K6sb15s6eWzqDWtyMq2G1tvvXVsueWWcdddd0W3bt1i/Pjx8fjjj2eeL+5yUtT1oTSWk5JWnGPh1dlfXFuU5H7Z6vbzvXv3jq222iq++OKLGDRoUOy6667RpEmTVXxnq2ZlfeqKvgtYej5LW3r5X53+lZInIFnH9e3bN7p37x4nnnhibLTRRvHKK69k/erttddey/qV86oYPXp0/POf/4w999wzIiKmT58e3333XbHm0bZt2xg6dGj8/vvvy3SqdevWjQYNGsQnn3wShx122GrVuqpat24djz76aLRt2za++OKLmDJlykp/WVehQoW1NgRZngULFsRdd90V1113Xey+++5Zz+2///5xzz33RNu2beP555+Po48+utB5VKpUKSs5L0yrVq3ilVdeydwELuKPZbFVq1ar/ybWEdtss03MnDkzKlSoEE2bNl3jr9+5c+cYNWpU/Pjjj5mANSKiY8eO8cwzz8Qbb7wRRx99dGy99daxcOHC+Oabb2LnnXde7vwaNWoUJ5xwQpxwwglxwQUXxB133BF9+vTJ/Np9yWVm8c3Hpk2blnUDxTUpLy8vypUrF7/88ssyz7Vu3ToeeuihrB2X1157LWrUqBENGjSI9dZbLypWrBhvvfVW5teus2fPjqlTp670/bz66qvRpEmT+L//+7/MsMLOYpk2bVp89dVXsdFGG0VExOuvvx7lypUr1i9+K1SoEL169YrBgwdHfn5+HHzwwVG1atUiT78yL7zwQowfPz7OOOOM5Y4zevTo6NChQ5x00kmZYSXxq8uitmNZWrxdWeyNN97I6hPfeOONzM00W7duHUOHDo158+ZldrZfffXVIn3mRemTC7Pk59ewYcOYNm1aTJ8+PbNMT5w4MWbNmpXpt1e2bdhwww0zN9SOiJg6dWr8/PPPxa5rSSW1f1BYG3344Yfx3XffxVVXXZV5z0vfeH1FevfuHZtvvnn885//zHwJGxGxxx57ZA6Yu3Xrtsx0S7fT7Nmzl/m1aJUqVeLPf/5z/PnPf46TTz45Nttssxg/fnxss802WeOtbJ9l9OjR0aNHjzj88MMj4o8vN6ZOnbrGt8Vjx46NBQsWxHXXXZf59fsDDzxQ7PkU9jkWtS/YdNNNY9NNN40zzjgjDjnkkBg8eHDmS6DDDz88zj333LjppptiwoQJ0atXr2LXtrrWpuWmpG2wwQbRrVu3uOWWW+LUU09d5guFn376KVq3br3SPmhVFGVfq1WrVoX2z0vr3bt3HHzwwdGwYcNo0aLFMr8uXawo+9qLA9XSVpT1oyjbkNXZRq2Ooiw7xQm6iquo+8Bro+X1eYV93q1bt44FCxbEm2++GR06dIiIP26cPGXKlCKtf0VdN5ZWlHWlqOvnoYceGvfcc080bNgwypUrF3vttVfmuW222SYmTJiwWsfthR3PRCzbNy9cuDA++OCD6Ny58wrnVxI1rWy7EfHHZ3PDDTfEl19+GbvttlvWWXoRxVtOVnd9WNXlpLQU9Vh4dfcX10YltV+2KrbYYoto165d3HHHHXHvvffGP/7xjzXyusXRunXreOWVV7KGvfbaa7HpppsW+wfcq9u/UrJcYmsd16lTp2jTpk1ceeWVcc4558Tf//73uP/++2Py5Mlx/vnnx7hx4+K0005brdfYeOON4+67745JkybFm2++GYcddlixf312yimnxOzZs+Pggw+OsWPHxtSpU+Puu+/OnJZ9ySWXRP/+/ePGG2+MKVOmxPjx42Pw4MFx/fXXr1btS/v++++jS5cu8e9//zvef//9+PTTT+PBBx+Mq6++Onr06BEdO3aMXXbZJfbff/8YOXJkfPrpp/HUU0/F008/XaJ1lJURI0bEjz/+GMcee2xsvvnmWX8HHHBADBw4MPr27RvDhg2Lvn37xqRJk2L8+PFx9dVXZ+bRtGnTePnll+PLL79cblB2zjnnxJAhQ+K2226LqVOnxvXXXx8PP/xwsc7QWdfttttu0b59++jZs2c888wz8dlnn8Vrr70Wf/vb39bITlfnzp3jlVdeiXHjxmV9qd+xY8e444474tdff43OnTvHpptuGocddlgceeSR8fDDD8enn34aY8aMib///e/x5JNPRkTE6aefHs8880x8+umn8c4778QLL7yQ2eA3adIk8vLyYsSIEfHtt9/G3Llzo0aNGnH22WfHGWecEUOHDo2PP/443n333bjlllti6NChpfJ+58+fHzNnzoyZM2fGpEmTok+fPjF37tzYZ599lhn3pJNOiunTp0efPn3iww8/jMceeyz69u0bZ555ZpQrVy5q1KgRvXr1inPOOSdefPHFmDBhQhxzzDFRrly5lf7yY+ONN45p06bFfffdFx9//HHcdNNNmcv0LKly5crRq1eveO+992L06NFx6qmnxoEHHhj16tUr1vvu3bt3vPDCC/HUU0+t1uW1Frffl19+Ge+8805ceeWV0aNHj9h7772zDlqXtvHGG8fYsWPjmWeeiSlTpsRFF10UY8aMWeU6lpxvUdpxTVjZdmWxBx98MAYNGhRTpkyJvn37xltvvZX55d9hhx2W+cw/+OCDePHFF6NPnz5xxBFHZC5DtTxF6ZNX9vnttttu0bZt2zjssMPinXfeibfeeiuOPPLI6NixY+b08ZVtG7p06RI333xzvPPOOzF27Ng44YQTCr2sZnGVxP5B06ZNY+7cufH888/Hd999Fz///HM0btw4KlWqFP/4xz/ik08+ieHDh8dll11W5Hm2atUq/vSnP8V5550XzZo1yxwwlS9fPiZNmhSTJk0q9CCqS5cucffdd8fo0aPjgw8+iF69emWNN2TIkBg4cGB88MEH8cknn8Tdd98dVapUKfTXdSvbZ9l4441j5MiR8dprr8WkSZPi+OOPj5kzZxb5PZaUFi1axIIFCzJtfffdd8dtt91W7Pk0bdo03n///Zg8eXJ899138fvvv6+0L/jll1/ilFNOiVGjRsXnn38er776aowZMybroHT99deP/fbbL84555zYfffdsy5vuKasTctNafjnP/8ZCxcujO233z4eeuihmDp1akyaNCluuummaN++fZH6oFVRlH2t0047LQYNGpTVP0+YMGGZeS0+A+Pyyy9fblAcUbR97TWlKNvKpk2bxqeffhrjxo2L7777LubPn7/MfFZnG7W6VrbslKai7AOvbVbW5xW2Pdxkk02iR48ecdxxx8Urr7wS7733Xhx++OHRoEGDrP2Y5SnqurG0oqwrRV0/F/cdV1xxRRxwwAFRuXLlzHPnnXdevP7663HyySfHuHHjYurUqTF8+PDlnulemDp16kSVKlXi6aefjq+//jpmzZoVEX/0zU888UQ88cQT8eGHH8ZJJ50UP/3000rnVxI1rWy7EfFHu3z55Zdxxx13ZB0HrMpysrrrw6ouJ6WlqMfCq7u/uDYqqf2yVdW7d++46qqrYuHChcs9Y6ksnXXWWfH888/HZZddFlOmTImhQ4fGzTffvErfZa1u/0rJEpDkgDPPPDPuuOOO2HfffeOss86Ks846K7bYYot4+umnY/jw4bHJJpus1vwHDRoUP/74Y2y99dZxxBFHxKmnnhp16tQp1jxq1aoVL7zwQsydOzc6duwY2267bdxxxx2ZL0969+4dd955ZwwZMiS22GKL6NixYwwZMiTr0i0loXr16rHDDjvEDTfcELvssktsvvnmcdFFF8Vxxx0XN998c0REPPTQQ7HddtvFIYccEq1bt45zzz13lX6duzYaOHBg7LbbblFQULDMc/vvv3+MGzcuatasGQ8++GAMHz48ttpqq+jSpUvW5XAuvfTS+Oyzz6JFixbLvTdGz54948Ybb4xrrrkm2rRpE//6179i8ODBmet18scZDE8++WTssssuccwxx8Smm24aBx98cHz22WelfrAZ8cdO4S+//BIbb7xx1ut17Ngx5syZEy1atMj8Smbw4MFx5JFHxllnnRUtW7aMP//5z/Hmm29mnl+4cGGcfPLJ0apVq9hjjz2iZcuW8c9//jMiIho0aBD9+vWL888/P+rWrZv5Qviyyy6Liy++OPr37x+tWrWKbt26xeOPP17i6/xiTz/9dNSvXz/q168fO+ywQ4wZMyYefPDBQpfJBg0axJNPPhlvvfVWbLnllnHCCSfEscceG3/7298y41x//fXRvn372HvvvWO33XaLHXfcMVq1apV1QFaYHj16xBlnnPH/2rvXmKbOOI7jv2rVLSLDAENYjFVBlKBhxbuz4rSCeBmRBbxEt2AUJxgTNXFkg6gJKAT3Ao2KJkajRLxFvIwoiXPG4AsEjZooXnBbsk3EwUK83+hemDWpOKlcPJ39fl71nJ4+/Z/2nPM87f88z6P09HRFRUXp7NmzyszMbLZdaGioZsyYofj4eE2aNMl5p/rbCgsL0+jRoxUeHt5siKK38e/nZ7FYFBcXp1OnTqmgoECHDx9+4500ixYt0owZM5ScnKwRI0aovr7epTdJa7n7Ob4L7tQrkrR69WoVFxc7e1QWFRUpIiJC0ssxfk+cOKGGhgYNGzZMX375pSZMmODy+v/izjW5pe/PZDKppKREPXv2lM1m08SJE9WvXz/t3bvXWUZMTMwb64b169erd+/estlsmj17tlasWNEuPZbao30wevRoLVq0SMnJyQoMDFReXp4CAwO1Y8cO7d+/XxEREVq3bp3y8/PfKrb58+fr6dOnzdpZvr6+8vX1fe1rMjIyZLPZNHXqVMXHxyshIcFlfGc/Pz9t27ZNY8aMcfbaOXr0qPz9/V9b3pvaLJmZmbJarYqNjVVMTIx69erV4jA1HSEqKko//PCDcnNzFRkZqaKiIq1du/aty1mwYIHCw8OdcxqVl5e3eC3o3Lmz6uvrNW/ePA0YMEBJSUmaPHmyVq9e7VL2v99le8/T9DY85bjpCH379tX58+c1fvx4LV++XJGRkbLb7Tp58qQ2b97s1jWoNdxpayUnJysrK0srV65UdHS0fvvtN33zzTfNyurUqZO+/vprvXjx4o03BrjT1j5//nyb9std7tSViYmJiouL0/jx4xUYGKg9e/Y0K6ctdVRbtXTsdLSW2sCepqVr3uvqQ+nlfkZHR2vq1KkaNWqUHA6HSktL3brRwd1z41XunCthYWFunZ9hYWEaNmyYLl261KzH6ZAhQ3T69GnduHFDY8eO1aeffqrMzExnz093mM1mFRQUqLCwUCEhIc4/NlNSUvTVV185E7p9+/ZtsfdIe8Ukvbne+Pf5xMRE+fj4uNT/bTlOWns+tPY46Sju/hZuj/aip2mvdllrzZo1S2azWbNnz27xt7MRrFar9u3bp+LiYkVGRiorK0tr1qxp9Vwpbbm+on2ZHC0N3gsAANrkwYMH+uSTT7R+/XrNnz+/TWWtWrVKJSUlLnMctZbD4dDAgQOVmpqqZcuWtbk8tI7JZNKhQ4cM+XMaHSc7O1vFxcW6fPmy0aGgjYqKirR06VL9+eefzqFUgFctWLBAd+7c0ZEjR4wOBfAonBuey263a9CgQSooKDA6FI4TSHo5ZL/FYtG5c+eaDQMKdCTmIAEAoJ1duHBB1dXVGj58uBobG7VmzRpJ8qiusnV1ddq1a5f++OMPj+jKDrwv7t+/r6tXr2rDhg3/+2EWvN3Dhw/1yy+/aO3atUpNTSU5gtdqbGzUuXPnVFRUpMOHDxsdDuAxODc8V0NDg8rKyvTTTz+9k95eb8JxAkl69uyZbt++rW+//VYjR44kOYJ3jgQJAAAdID8/X9euXVPXrl0VHR2tM2fOKCAgwOiwnIKCghQQEKCtW7eqZ8+eRocDvDfS09O1Z88eJSQkGDokE9ouLy9P2dnZstlsysjIMDoceKgvvvhCFRUVSk1Nld1uNzocwGNwbnguq9Wqv//+W7m5uQoPDzc0Fo4TSFJ5eblzjtMDBw4YHQ68EENsAQAAAAAAAAAAr8Mk7QAAAAAAAAAAwOuQIAEAAAAAAAAAAF6HBAkAAAAAAAAAAPA6JEgAAAAAAAAAAIDXIUECAAAAAAAAAAC8DgkSAAAAAAAAAADgdUiQAAAAADBUbW2tli5dqtDQUH3wwQcKCgrSZ599pi1btujhw4dGhwcAAADgPWU2OgAAAAAA3uvWrVsaM2aM/Pz8lJOTo8GDB+v58+e6fv26tm/frpCQEE2fPr1D3vvp06fq2rVrh5QNAAAAwPPRgwQAAACAYRYvXiyz2azKykolJSVp0KBBGjx4sBITE/Xjjz9q2rRpkqTGxkYtXLhQH3/8sXx9ffX555/r4sWLznJWrVqlqKgo7dq1SxaLRR999JFmzpype/fuObeJiYlRenq6li1bpoCAANntdknSlStXFB8fLx8fHwUFBWnu3Ln666+/3u0HAQAAAOCdI0ECAAAAwBD19fUqKytTWlqaunfv/tptTCaTHA6HpkyZotraWpWWlqqqqkpWq1UTJkxQQ0ODc9uamhqVlJTo2LFjOnbsmE6fPq1169a5lLdz506ZzWaVl5ersLBQt2/f1rhx4xQVFaXKykodP35cd+7cUVJSUofuOwAAAADjMcQWAAAAAEPcvHlTDodD4eHhLusDAgL0+PFjSVJaWppiY2N1+fJl1dXVqVu3bpKk/Px8lZSU6MCBA1q4cKEkqampSTt27FCPHj0kSXPnztXJkyeVnZ3tLDs0NFR5eXnO5aysLFmtVuXk5DjXbd++Xb1799b169c1YMCAjtl5AAAAAIYjQQIAAADAUCaTyWW5oqJCTU1NmjNnjp48eaKqqirdv39f/v7+Lts9evRINTU1zmWLxeJMjkhScHCw6urqXF4zdOhQl+WqqiqdOnVKPj4+zeKqqakhQQIAAAC8x0iQAAAAADBEaGioTCaTqqurXdb369dPkvThhx9KetkzJDg4WD///HOzMvz8/JyPu3Tp4vKcyWRSU1OTy7pXh/JqamrStGnTlJub26zs4OBgt/cFAAAAwP8PCRIAAAAAhvD395fdbtfGjRu1ZMmS/5yHxGq1qra2VmazWRaLpV1jsFqtOnjwoCwWi8xmfh4BAAAA3oRJ2gEAAAAYZtOmTXr+/LmGDh2qvXv36urVq7p27Zp2796t6upqde7cWRMnTtSoUaOUkJCgEydO6Ndff9XZs2f1/fffq7Kysk3vn5aWpoaGBs2aNUsVFRW6deuWysrKlJKSohcvXrTTXgIAAADwRNwiBQAAAMAw/fv314ULF5STk6OMjAz9/vvv6tatmyIiIrRixQotXrxYJpNJpaWl+u6775SSkqK7d++qV69estlsCgoKatP7h4SEqLy8XCtXrlRsbKyePHmiPn36KC4uTp06cT8ZAAAA8D4zORwOh9FBAAAAAAAAAAAAvEvcEgUAAAAAAAAAALwOCRIAAAAAAAAAAOB1SJAAAAAAAAAAAACvQ4IEAAAAAAAAAAB4HRIkAAAAAAAAAADA65AgAQAAAAAAAAAAXocECQAAAAAAAAAA8DokSAAAAAAAAAAAgNchQQIAAAAAAAAAALwOCRIAAAAAAAAAAOB1SJAAAAAAAAAAAACv8w8B+jPozFFKpAAAAABJRU5ErkJggg==",
=======
      "image/png": "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",
>>>>>>> sarah_b
      "text/plain": [
       "<Figure size 2000x700 with 1 Axes>"
      ]
     },
     "metadata": {},
     "output_type": "display_data"
    }
   ],
   "source": [
    "plt.figure(figsize=(20,7))\n",
    "plt.ylim(0, 9)\n",
    "plt.xlabel(\"Genre\")\n",
    "plt.ylabel(\"Average Rating\")\n",
    "plt.title(\"Average Rating by Title\")\n",
    "plt.bar(genre_count_df.index, genre_count_df[\"Genre Rating\"], color='purple', align=\"center\")\n",
    "plt.xticks(tick_locations, genre_count_df[\"Genre Rating\"], rotation=\"vertical\")\n",
    "plt.show()"
   ]
  },
  {
   "cell_type": "code",
<<<<<<< HEAD
   "execution_count": 20,
=======
   "execution_count": 23,
>>>>>>> sarah_b
   "id": "d690d156-0c9d-406b-8394-ba120a5e4890",
   "metadata": {},
   "outputs": [
    {
     "ename": "NameError",
     "evalue": "name 'tick_locations' is not defined",
     "output_type": "error",
     "traceback": [
      "\u001b[1;31m---------------------------------------------------------------------------\u001b[0m",
      "\u001b[1;31mNameError\u001b[0m                                 Traceback (most recent call last)",
<<<<<<< HEAD
      "Cell \u001b[1;32mIn[20], line 7\u001b[0m\n\u001b[0;32m      5\u001b[0m plt\u001b[38;5;241m.\u001b[39mtitle(\u001b[38;5;124m\"\u001b[39m\u001b[38;5;124mAverage Number of Votes by Title\u001b[39m\u001b[38;5;124m\"\u001b[39m)\n\u001b[0;32m      6\u001b[0m plt\u001b[38;5;241m.\u001b[39mbar(genre_count_df\u001b[38;5;241m.\u001b[39mindex, genre_count_df[\u001b[38;5;124m\"\u001b[39m\u001b[38;5;124mGenre Votes\u001b[39m\u001b[38;5;124m\"\u001b[39m], color\u001b[38;5;241m=\u001b[39m\u001b[38;5;124m'\u001b[39m\u001b[38;5;124morange\u001b[39m\u001b[38;5;124m'\u001b[39m, align\u001b[38;5;241m=\u001b[39m\u001b[38;5;124m\"\u001b[39m\u001b[38;5;124mcenter\u001b[39m\u001b[38;5;124m\"\u001b[39m)\n\u001b[1;32m----> 7\u001b[0m plt\u001b[38;5;241m.\u001b[39mxticks(tick_locations, genre_count_df[\u001b[38;5;124m\"\u001b[39m\u001b[38;5;124mGenre Rating\u001b[39m\u001b[38;5;124m\"\u001b[39m], rotation\u001b[38;5;241m=\u001b[39m\u001b[38;5;241m45\u001b[39m)\n\u001b[0;32m      8\u001b[0m plt\u001b[38;5;241m.\u001b[39mshow()\n",
=======
      "Cell \u001b[1;32mIn[23], line 7\u001b[0m\n\u001b[0;32m      5\u001b[0m plt\u001b[38;5;241m.\u001b[39mtitle(\u001b[38;5;124m\"\u001b[39m\u001b[38;5;124mAverage Number of Votes by Title\u001b[39m\u001b[38;5;124m\"\u001b[39m)\n\u001b[0;32m      6\u001b[0m plt\u001b[38;5;241m.\u001b[39mbar(genre_count_df\u001b[38;5;241m.\u001b[39mindex, genre_count_df[\u001b[38;5;124m\"\u001b[39m\u001b[38;5;124mGenre Votes\u001b[39m\u001b[38;5;124m\"\u001b[39m], color\u001b[38;5;241m=\u001b[39m\u001b[38;5;124m'\u001b[39m\u001b[38;5;124morange\u001b[39m\u001b[38;5;124m'\u001b[39m, align\u001b[38;5;241m=\u001b[39m\u001b[38;5;124m\"\u001b[39m\u001b[38;5;124mcenter\u001b[39m\u001b[38;5;124m\"\u001b[39m)\n\u001b[1;32m----> 7\u001b[0m plt\u001b[38;5;241m.\u001b[39mxticks(tick_locations, genre_count_df[\u001b[38;5;124m\"\u001b[39m\u001b[38;5;124mGenre Rating\u001b[39m\u001b[38;5;124m\"\u001b[39m], rotation\u001b[38;5;241m=\u001b[39m\u001b[38;5;241m45\u001b[39m)\n\u001b[0;32m      8\u001b[0m plt\u001b[38;5;241m.\u001b[39mshow()\n",
>>>>>>> sarah_b
      "\u001b[1;31mNameError\u001b[0m: name 'tick_locations' is not defined"
     ]
    },
    {
     "data": {
<<<<<<< HEAD
      "image/png": "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",
=======
      "image/png": "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",
>>>>>>> sarah_b
      "text/plain": [
       "<Figure size 2000x1000 with 1 Axes>"
      ]
     },
     "metadata": {},
     "output_type": "display_data"
    }
   ],
   "source": [
    "plt.figure(figsize=(20,10))\n",
    "plt.ylim(0, 200000000)\n",
    "plt.xlabel(\"Genre\")\n",
    "plt.ylabel(\"Average Number of Votes\")\n",
    "plt.title(\"Average Number of Votes by Title\")\n",
    "plt.bar(genre_count_df.index, genre_count_df[\"Genre Votes\"], color='orange', align=\"center\")\n",
    "plt.xticks(tick_locations, genre_count_df[\"Genre Rating\"], rotation=45)\n",
    "plt.show()"
   ]
  },
  {
   "cell_type": "code",
<<<<<<< HEAD
   "execution_count": null,
   "id": "291ca2da-3177-4d08-8c06-01ec057c127f",
   "metadata": {},
   "outputs": [],
   "source": []
  },
  {
   "cell_type": "code",
   "execution_count": null,
   "id": "c3745b8c-cc20-4bac-a9bb-a609a536fc65",
   "metadata": {},
   "outputs": [],
   "source": []
=======
   "execution_count": 24,
   "id": "291ca2da-3177-4d08-8c06-01ec057c127f",
   "metadata": {},
   "outputs": [
    {
     "name": "stdout",
     "output_type": "stream",
     "text": [
      "5.8\n",
      "7.1\n"
     ]
    }
   ],
   "source": [
    "ratings_percentiles = movie_data_df['IMDB Rating'].quantile([.25,.75])\n",
    "lowerq = ratings_percentiles[.25]\n",
    "upperq = ratings_percentiles[.75]\n",
    "print(lowerq)\n",
    "print(upperq)\n",
    "\n",
    "low_rating = movie_data_df[(movie_data_df[\"IMDB Rating\"] <= 5.8)]\n",
    "high_rating = movie_data_df[(movie_data_df[\"IMDB Rating\"] >= 7.1)]"
   ]
  },
  {
   "cell_type": "code",
   "execution_count": 25,
   "id": "0b26faaa-9d34-41a0-aff9-24ef5bb69ebd",
   "metadata": {},
   "outputs": [
    {
     "data": {
      "text/plain": [
       "Year\n",
       "2005    4.971873e+07\n",
       "2006    4.769563e+07\n",
       "2007    6.037184e+07\n",
       "2008    5.864701e+07\n",
       "2009    6.728564e+07\n",
       "2010    6.326699e+07\n",
       "2011    6.477650e+07\n",
       "2012    8.338829e+07\n",
       "2013    7.427038e+07\n",
       "2014    8.785150e+07\n",
       "2015    1.003721e+08\n",
       "Name: ROI$, dtype: float64"
      ]
     },
     "execution_count": 25,
     "metadata": {},
     "output_type": "execute_result"
    }
   ],
   "source": [
    "total_average_rating = movie_data_df.groupby(['Year'])['ROI$'].mean()\n",
    "total_average_rating"
   ]
  },
  {
   "cell_type": "code",
   "execution_count": 26,
   "id": "a540c4a0-4fb4-447b-8261-8b4b1d78aeb5",
   "metadata": {},
   "outputs": [
    {
     "data": {
      "text/html": [
       "<div>\n",
       "<style scoped>\n",
       "    .dataframe tbody tr th:only-of-type {\n",
       "        vertical-align: middle;\n",
       "    }\n",
       "\n",
       "    .dataframe tbody tr th {\n",
       "        vertical-align: top;\n",
       "    }\n",
       "\n",
       "    .dataframe thead th {\n",
       "        text-align: right;\n",
       "    }\n",
       "</style>\n",
       "<table border=\"1\" class=\"dataframe\">\n",
       "  <thead>\n",
       "    <tr style=\"text-align: right;\">\n",
       "      <th></th>\n",
       "      <th>Title</th>\n",
       "      <th>Year</th>\n",
       "      <th>IMDB Rating</th>\n",
       "      <th>IMDB Votes</th>\n",
       "      <th>Genre</th>\n",
       "      <th>Box Office</th>\n",
       "      <th>IMDB ID</th>\n",
       "      <th>Budget</th>\n",
       "      <th>Revenue</th>\n",
       "      <th>ROI$</th>\n",
       "    </tr>\n",
       "  </thead>\n",
       "  <tbody>\n",
       "    <tr>\n",
       "      <th>1</th>\n",
       "      <td>A Sound of Thunder</td>\n",
       "      <td>2005</td>\n",
       "      <td>4.2</td>\n",
       "      <td>20549.0</td>\n",
       "      <td>Action, Adventure, Horror</td>\n",
       "      <td>$1,900,451</td>\n",
       "      <td>tt0318081</td>\n",
       "      <td>80000000</td>\n",
       "      <td>5989640.0</td>\n",
       "      <td>-74010360.0</td>\n",
       "    </tr>\n",
       "    <tr>\n",
       "      <th>4</th>\n",
       "      <td>The Ring Two</td>\n",
       "      <td>2005</td>\n",
       "      <td>5.4</td>\n",
       "      <td>101457.0</td>\n",
       "      <td>Horror, Mystery</td>\n",
       "      <td>$76,231,249</td>\n",
       "      <td>tt0377109</td>\n",
       "      <td>50000000</td>\n",
       "      <td>161451538.0</td>\n",
       "      <td>111451538.0</td>\n",
       "    </tr>\n",
       "    <tr>\n",
       "      <th>7</th>\n",
       "      <td>White Noise</td>\n",
       "      <td>2005</td>\n",
       "      <td>5.5</td>\n",
       "      <td>50974.0</td>\n",
       "      <td>Drama, Horror, Mystery</td>\n",
       "      <td>$56,386,759</td>\n",
       "      <td>tt0375210</td>\n",
       "      <td>10000000</td>\n",
       "      <td>91196419.0</td>\n",
       "      <td>81196419.0</td>\n",
       "    </tr>\n",
       "    <tr>\n",
       "      <th>8</th>\n",
       "      <td>Elektra</td>\n",
       "      <td>2005</td>\n",
       "      <td>4.7</td>\n",
       "      <td>98572.0</td>\n",
       "      <td>Action, Adventure, Crime</td>\n",
       "      <td>$24,409,722</td>\n",
       "      <td>tt0357277</td>\n",
       "      <td>43000000</td>\n",
       "      <td>56681566.0</td>\n",
       "      <td>13681566.0</td>\n",
       "    </tr>\n",
       "    <tr>\n",
       "      <th>9</th>\n",
       "      <td>Racing Stripes</td>\n",
       "      <td>2005</td>\n",
       "      <td>5.2</td>\n",
       "      <td>18296.0</td>\n",
       "      <td>Adventure, Comedy, Drama</td>\n",
       "      <td>$49,772,522</td>\n",
       "      <td>tt0376105</td>\n",
       "      <td>30000000</td>\n",
       "      <td>93772522.0</td>\n",
       "      <td>63772522.0</td>\n",
       "    </tr>\n",
       "    <tr>\n",
       "      <th>...</th>\n",
       "      <td>...</td>\n",
       "      <td>...</td>\n",
       "      <td>...</td>\n",
       "      <td>...</td>\n",
       "      <td>...</td>\n",
       "      <td>...</td>\n",
       "      <td>...</td>\n",
       "      <td>...</td>\n",
       "      <td>...</td>\n",
       "      <td>...</td>\n",
       "    </tr>\n",
       "    <tr>\n",
       "      <th>2309</th>\n",
       "      <td>Beremennyy</td>\n",
       "      <td>2011</td>\n",
       "      <td>4.0</td>\n",
       "      <td>3581.0</td>\n",
       "      <td>Comedy, Fantasy</td>\n",
       "      <td>N/A</td>\n",
       "      <td>tt1820462</td>\n",
       "      <td>2000000</td>\n",
       "      <td>8000000.0</td>\n",
       "      <td>6000000.0</td>\n",
       "    </tr>\n",
       "    <tr>\n",
       "      <th>2310</th>\n",
       "      <td>Na kryuchke!</td>\n",
       "      <td>2011</td>\n",
       "      <td>4.9</td>\n",
       "      <td>321.0</td>\n",
       "      <td>Comedy, Romance</td>\n",
       "      <td>N/A</td>\n",
       "      <td>tt1820555</td>\n",
       "      <td>3000000</td>\n",
       "      <td>1957000.0</td>\n",
       "      <td>-1043000.0</td>\n",
       "    </tr>\n",
       "    <tr>\n",
       "      <th>2311</th>\n",
       "      <td>FC Venus</td>\n",
       "      <td>2005</td>\n",
       "      <td>5.5</td>\n",
       "      <td>2325.0</td>\n",
       "      <td>Comedy, Romance, Sport</td>\n",
       "      <td>N/A</td>\n",
       "      <td>tt0453365</td>\n",
       "      <td>2196531</td>\n",
       "      <td>2411594.0</td>\n",
       "      <td>215063.0</td>\n",
       "    </tr>\n",
       "    <tr>\n",
       "      <th>2314</th>\n",
       "      <td>Pro lyuboff</td>\n",
       "      <td>2010</td>\n",
       "      <td>5.8</td>\n",
       "      <td>297.0</td>\n",
       "      <td>Drama</td>\n",
       "      <td>N/A</td>\n",
       "      <td>tt1718881</td>\n",
       "      <td>2000000</td>\n",
       "      <td>1268793.0</td>\n",
       "      <td>-731207.0</td>\n",
       "    </tr>\n",
       "    <tr>\n",
       "      <th>2315</th>\n",
       "      <td>Antidur</td>\n",
       "      <td>2007</td>\n",
       "      <td>3.4</td>\n",
       "      <td>232.0</td>\n",
       "      <td>Action, Comedy, Crime</td>\n",
       "      <td>N/A</td>\n",
       "      <td>tt1110037</td>\n",
       "      <td>5000000</td>\n",
       "      <td>1413000.0</td>\n",
       "      <td>-3587000.0</td>\n",
       "    </tr>\n",
       "  </tbody>\n",
       "</table>\n",
       "<p>594 rows × 10 columns</p>\n",
       "</div>"
      ],
      "text/plain": [
       "                   Title  Year  IMDB Rating  IMDB Votes  \\\n",
       "1     A Sound of Thunder  2005          4.2     20549.0   \n",
       "4           The Ring Two  2005          5.4    101457.0   \n",
       "7            White Noise  2005          5.5     50974.0   \n",
       "8                Elektra  2005          4.7     98572.0   \n",
       "9         Racing Stripes  2005          5.2     18296.0   \n",
       "...                  ...   ...          ...         ...   \n",
       "2309          Beremennyy  2011          4.0      3581.0   \n",
       "2310        Na kryuchke!  2011          4.9       321.0   \n",
       "2311            FC Venus  2005          5.5      2325.0   \n",
       "2314         Pro lyuboff  2010          5.8       297.0   \n",
       "2315             Antidur  2007          3.4       232.0   \n",
       "\n",
       "                          Genre   Box Office    IMDB ID    Budget  \\\n",
       "1     Action, Adventure, Horror   $1,900,451  tt0318081  80000000   \n",
       "4               Horror, Mystery  $76,231,249  tt0377109  50000000   \n",
       "7        Drama, Horror, Mystery  $56,386,759  tt0375210  10000000   \n",
       "8      Action, Adventure, Crime  $24,409,722  tt0357277  43000000   \n",
       "9      Adventure, Comedy, Drama  $49,772,522  tt0376105  30000000   \n",
       "...                         ...          ...        ...       ...   \n",
       "2309            Comedy, Fantasy          N/A  tt1820462   2000000   \n",
       "2310            Comedy, Romance          N/A  tt1820555   3000000   \n",
       "2311     Comedy, Romance, Sport          N/A  tt0453365   2196531   \n",
       "2314                      Drama          N/A  tt1718881   2000000   \n",
       "2315      Action, Comedy, Crime          N/A  tt1110037   5000000   \n",
       "\n",
       "          Revenue         ROI$  \n",
       "1       5989640.0  -74010360.0  \n",
       "4     161451538.0  111451538.0  \n",
       "7      91196419.0   81196419.0  \n",
       "8      56681566.0   13681566.0  \n",
       "9      93772522.0   63772522.0  \n",
       "...           ...          ...  \n",
       "2309    8000000.0    6000000.0  \n",
       "2310    1957000.0   -1043000.0  \n",
       "2311    2411594.0     215063.0  \n",
       "2314    1268793.0    -731207.0  \n",
       "2315    1413000.0   -3587000.0  \n",
       "\n",
       "[594 rows x 10 columns]"
      ]
     },
     "execution_count": 26,
     "metadata": {},
     "output_type": "execute_result"
    }
   ],
   "source": [
    "low_rating_roi = movie_data_df[(movie_data_df[\"IMDB Rating\"] <= 5.8)]\n",
    "low_rating"
   ]
  },
  {
   "cell_type": "code",
   "execution_count": 27,
   "id": "cc566c22-02df-47b5-9219-eaa9e2c023c4",
   "metadata": {},
   "outputs": [
    {
     "data": {
      "text/plain": [
       "Year\n",
       "2005    1.921531e+07\n",
       "2006    2.022465e+07\n",
       "2007    1.983084e+07\n",
       "2008    4.052551e+07\n",
       "2009    4.838698e+07\n",
       "2010    4.883449e+07\n",
       "2011    4.075702e+07\n",
       "2012    3.257623e+07\n",
       "2013    4.148024e+07\n",
       "2014    5.822119e+07\n",
       "2015    2.852031e+07\n",
       "Name: ROI$, dtype: float64"
      ]
     },
     "execution_count": 27,
     "metadata": {},
     "output_type": "execute_result"
    }
   ],
   "source": [
    "year_low = low_rating.groupby(['Year'])['ROI$'].mean()\n",
    "year_low"
   ]
  },
  {
   "cell_type": "code",
   "execution_count": 28,
   "id": "6ee3bbd5-e8c3-4f4c-a994-3eebeffde2e1",
   "metadata": {},
   "outputs": [
    {
     "data": {
      "text/html": [
       "<div>\n",
       "<style scoped>\n",
       "    .dataframe tbody tr th:only-of-type {\n",
       "        vertical-align: middle;\n",
       "    }\n",
       "\n",
       "    .dataframe tbody tr th {\n",
       "        vertical-align: top;\n",
       "    }\n",
       "\n",
       "    .dataframe thead th {\n",
       "        text-align: right;\n",
       "    }\n",
       "</style>\n",
       "<table border=\"1\" class=\"dataframe\">\n",
       "  <thead>\n",
       "    <tr style=\"text-align: right;\">\n",
       "      <th></th>\n",
       "      <th>Title</th>\n",
       "      <th>Year</th>\n",
       "      <th>IMDB Rating</th>\n",
       "      <th>IMDB Votes</th>\n",
       "      <th>Genre</th>\n",
       "      <th>Box Office</th>\n",
       "      <th>IMDB ID</th>\n",
       "      <th>Budget</th>\n",
       "      <th>Revenue</th>\n",
       "      <th>ROI$</th>\n",
       "    </tr>\n",
       "  </thead>\n",
       "  <tbody>\n",
       "    <tr>\n",
       "      <th>2</th>\n",
       "      <td>The Jacket</td>\n",
       "      <td>2005</td>\n",
       "      <td>7.1</td>\n",
       "      <td>119641.0</td>\n",
       "      <td>Drama, Fantasy, Mystery</td>\n",
       "      <td>$6,303,762</td>\n",
       "      <td>tt0366627</td>\n",
       "      <td>29000000</td>\n",
       "      <td>21126225.0</td>\n",
       "      <td>-7873775.0</td>\n",
       "    </tr>\n",
       "    <tr>\n",
       "      <th>10</th>\n",
       "      <td>Coach Carter</td>\n",
       "      <td>2005</td>\n",
       "      <td>7.3</td>\n",
       "      <td>173672.0</td>\n",
       "      <td>Biography, Drama, Sport</td>\n",
       "      <td>$67,264,877</td>\n",
       "      <td>tt0393162</td>\n",
       "      <td>30000000</td>\n",
       "      <td>76669806.0</td>\n",
       "      <td>46669806.0</td>\n",
       "    </tr>\n",
       "    <tr>\n",
       "      <th>29</th>\n",
       "      <td>Sin City</td>\n",
       "      <td>2005</td>\n",
       "      <td>8.0</td>\n",
       "      <td>796178.0</td>\n",
       "      <td>Crime, Thriller</td>\n",
       "      <td>$74,103,820</td>\n",
       "      <td>tt0401792</td>\n",
       "      <td>40000000</td>\n",
       "      <td>158733820.0</td>\n",
       "      <td>118733820.0</td>\n",
       "    </tr>\n",
       "    <tr>\n",
       "      <th>37</th>\n",
       "      <td>Kingdom of Heaven</td>\n",
       "      <td>2005</td>\n",
       "      <td>7.3</td>\n",
       "      <td>318873.0</td>\n",
       "      <td>Action, Adventure, Drama</td>\n",
       "      <td>$47,398,413</td>\n",
       "      <td>tt0320661</td>\n",
       "      <td>130000000</td>\n",
       "      <td>211643158.0</td>\n",
       "      <td>81643158.0</td>\n",
       "    </tr>\n",
       "    <tr>\n",
       "      <th>40</th>\n",
       "      <td>Star Wars: Episode III - Revenge of the Sith</td>\n",
       "      <td>2005</td>\n",
       "      <td>7.6</td>\n",
       "      <td>851789.0</td>\n",
       "      <td>Action, Adventure, Fantasy</td>\n",
       "      <td>$380,270,577</td>\n",
       "      <td>tt0121766</td>\n",
       "      <td>113000000</td>\n",
       "      <td>850000000.0</td>\n",
       "      <td>737000000.0</td>\n",
       "    </tr>\n",
       "    <tr>\n",
       "      <th>...</th>\n",
       "      <td>...</td>\n",
       "      <td>...</td>\n",
       "      <td>...</td>\n",
       "      <td>...</td>\n",
       "      <td>...</td>\n",
       "      <td>...</td>\n",
       "      <td>...</td>\n",
       "      <td>...</td>\n",
       "      <td>...</td>\n",
       "      <td>...</td>\n",
       "    </tr>\n",
       "    <tr>\n",
       "      <th>2269</th>\n",
       "      <td>The Tiger</td>\n",
       "      <td>2015</td>\n",
       "      <td>7.2</td>\n",
       "      <td>6489.0</td>\n",
       "      <td>Action, Adventure, Drama</td>\n",
       "      <td>N/A</td>\n",
       "      <td>tt5066556</td>\n",
       "      <td>5000</td>\n",
       "      <td>11083449.0</td>\n",
       "      <td>11078449.0</td>\n",
       "    </tr>\n",
       "    <tr>\n",
       "      <th>2271</th>\n",
       "      <td>Bwakaw</td>\n",
       "      <td>2012</td>\n",
       "      <td>7.2</td>\n",
       "      <td>367.0</td>\n",
       "      <td>Drama</td>\n",
       "      <td>N/A</td>\n",
       "      <td>tt2244376</td>\n",
       "      <td>11178</td>\n",
       "      <td>34659.0</td>\n",
       "      <td>23481.0</td>\n",
       "    </tr>\n",
       "    <tr>\n",
       "      <th>2277</th>\n",
       "      <td>O Kadhal Kanmani</td>\n",
       "      <td>2015</td>\n",
       "      <td>7.4</td>\n",
       "      <td>6785.0</td>\n",
       "      <td>Drama, Musical, Romance</td>\n",
       "      <td>N/A</td>\n",
       "      <td>tt4271820</td>\n",
       "      <td>940000</td>\n",
       "      <td>5100000.0</td>\n",
       "      <td>4160000.0</td>\n",
       "    </tr>\n",
       "    <tr>\n",
       "      <th>2307</th>\n",
       "      <td>Fanaa</td>\n",
       "      <td>2006</td>\n",
       "      <td>7.1</td>\n",
       "      <td>35217.0</td>\n",
       "      <td>Action, Drama, Romance</td>\n",
       "      <td>$2,105,352</td>\n",
       "      <td>tt0439662</td>\n",
       "      <td>5300000</td>\n",
       "      <td>22175908.0</td>\n",
       "      <td>16875908.0</td>\n",
       "    </tr>\n",
       "    <tr>\n",
       "      <th>2312</th>\n",
       "      <td>Sivaji</td>\n",
       "      <td>2007</td>\n",
       "      <td>7.5</td>\n",
       "      <td>21484.0</td>\n",
       "      <td>Action, Crime, Drama</td>\n",
       "      <td>N/A</td>\n",
       "      <td>tt0479751</td>\n",
       "      <td>12000000</td>\n",
       "      <td>19000000.0</td>\n",
       "      <td>7000000.0</td>\n",
       "    </tr>\n",
       "  </tbody>\n",
       "</table>\n",
       "<p>605 rows × 10 columns</p>\n",
       "</div>"
      ],
      "text/plain": [
       "                                             Title  Year  IMDB Rating  \\\n",
       "2                                       The Jacket  2005          7.1   \n",
       "10                                    Coach Carter  2005          7.3   \n",
       "29                                        Sin City  2005          8.0   \n",
       "37                               Kingdom of Heaven  2005          7.3   \n",
       "40    Star Wars: Episode III - Revenge of the Sith  2005          7.6   \n",
       "...                                            ...   ...          ...   \n",
       "2269                                     The Tiger  2015          7.2   \n",
       "2271                                        Bwakaw  2012          7.2   \n",
       "2277                              O Kadhal Kanmani  2015          7.4   \n",
       "2307                                         Fanaa  2006          7.1   \n",
       "2312                                        Sivaji  2007          7.5   \n",
       "\n",
       "      IMDB Votes                       Genre    Box Office    IMDB ID  \\\n",
       "2       119641.0     Drama, Fantasy, Mystery    $6,303,762  tt0366627   \n",
       "10      173672.0     Biography, Drama, Sport   $67,264,877  tt0393162   \n",
       "29      796178.0             Crime, Thriller   $74,103,820  tt0401792   \n",
       "37      318873.0    Action, Adventure, Drama   $47,398,413  tt0320661   \n",
       "40      851789.0  Action, Adventure, Fantasy  $380,270,577  tt0121766   \n",
       "...          ...                         ...           ...        ...   \n",
       "2269      6489.0    Action, Adventure, Drama           N/A  tt5066556   \n",
       "2271       367.0                       Drama           N/A  tt2244376   \n",
       "2277      6785.0     Drama, Musical, Romance           N/A  tt4271820   \n",
       "2307     35217.0      Action, Drama, Romance    $2,105,352  tt0439662   \n",
       "2312     21484.0        Action, Crime, Drama           N/A  tt0479751   \n",
       "\n",
       "         Budget      Revenue         ROI$  \n",
       "2      29000000   21126225.0   -7873775.0  \n",
       "10     30000000   76669806.0   46669806.0  \n",
       "29     40000000  158733820.0  118733820.0  \n",
       "37    130000000  211643158.0   81643158.0  \n",
       "40    113000000  850000000.0  737000000.0  \n",
       "...         ...          ...          ...  \n",
       "2269       5000   11083449.0   11078449.0  \n",
       "2271      11178      34659.0      23481.0  \n",
       "2277     940000    5100000.0    4160000.0  \n",
       "2307    5300000   22175908.0   16875908.0  \n",
       "2312   12000000   19000000.0    7000000.0  \n",
       "\n",
       "[605 rows x 10 columns]"
      ]
     },
     "execution_count": 28,
     "metadata": {},
     "output_type": "execute_result"
    }
   ],
   "source": [
    "high_rating = movie_data_df[(movie_data_df[\"IMDB Rating\"] >= 7.1)]\n",
    "\n",
    "high_rating"
   ]
  },
  {
   "cell_type": "code",
   "execution_count": 29,
   "id": "0209d45c-0080-407e-8cfa-aea5354feb19",
   "metadata": {},
   "outputs": [
    {
     "data": {
      "text/plain": [
       "Year\n",
       "2005    7.088197e+07\n",
       "2006    8.055199e+07\n",
       "2007    9.164197e+07\n",
       "2008    9.671137e+07\n",
       "2009    1.177783e+08\n",
       "2010    1.045740e+08\n",
       "2011    1.107529e+08\n",
       "2012    1.471988e+08\n",
       "2013    1.449598e+08\n",
       "2014    1.690057e+08\n",
       "2015    1.575953e+08\n",
       "Name: ROI$, dtype: float64"
      ]
     },
     "execution_count": 29,
     "metadata": {},
     "output_type": "execute_result"
    }
   ],
   "source": [
    "year_high = high_rating.groupby(['Year'])['ROI$'].mean()\n",
    "year_high"
   ]
  },
  {
   "cell_type": "code",
   "execution_count": 30,
   "id": "fbead226-6c70-40f2-be39-64a05f00d03b",
   "metadata": {},
   "outputs": [
    {
     "data": {
      "text/html": [
       "<div>\n",
       "<style scoped>\n",
       "    .dataframe tbody tr th:only-of-type {\n",
       "        vertical-align: middle;\n",
       "    }\n",
       "\n",
       "    .dataframe tbody tr th {\n",
       "        vertical-align: top;\n",
       "    }\n",
       "\n",
       "    .dataframe thead th {\n",
       "        text-align: right;\n",
       "    }\n",
       "</style>\n",
       "<table border=\"1\" class=\"dataframe\">\n",
       "  <thead>\n",
       "    <tr style=\"text-align: right;\">\n",
       "      <th></th>\n",
       "      <th>Title</th>\n",
       "      <th>Year</th>\n",
       "      <th>IMDB Rating</th>\n",
       "      <th>IMDB Votes</th>\n",
       "      <th>Genre</th>\n",
       "      <th>Box Office</th>\n",
       "      <th>IMDB ID</th>\n",
       "      <th>Budget</th>\n",
       "      <th>Revenue</th>\n",
       "      <th>ROI$</th>\n",
       "    </tr>\n",
       "  </thead>\n",
       "  <tbody>\n",
       "    <tr>\n",
       "      <th>0</th>\n",
       "      <td>Camille Claudel 1915</td>\n",
       "      <td>2013</td>\n",
       "      <td>6.5</td>\n",
       "      <td>3889.0</td>\n",
       "      <td>Biography, Drama</td>\n",
       "      <td>$35,296</td>\n",
       "      <td>tt2018086</td>\n",
       "      <td>3512454</td>\n",
       "      <td>115860.0</td>\n",
       "      <td>-3396594.0</td>\n",
       "    </tr>\n",
       "    <tr>\n",
       "      <th>2</th>\n",
       "      <td>The Jacket</td>\n",
       "      <td>2005</td>\n",
       "      <td>7.1</td>\n",
       "      <td>119641.0</td>\n",
       "      <td>Drama, Fantasy, Mystery</td>\n",
       "      <td>$6,303,762</td>\n",
       "      <td>tt0366627</td>\n",
       "      <td>29000000</td>\n",
       "      <td>21126225.0</td>\n",
       "      <td>-7873775.0</td>\n",
       "    </tr>\n",
       "    <tr>\n",
       "      <th>3</th>\n",
       "      <td>The Interpreter</td>\n",
       "      <td>2005</td>\n",
       "      <td>6.4</td>\n",
       "      <td>111280.0</td>\n",
       "      <td>Crime, Mystery, Thriller</td>\n",
       "      <td>$72,708,161</td>\n",
       "      <td>tt0373926</td>\n",
       "      <td>80000000</td>\n",
       "      <td>162944923.0</td>\n",
       "      <td>82944923.0</td>\n",
       "    </tr>\n",
       "    <tr>\n",
       "      <th>5</th>\n",
       "      <td>A Scanner Darkly</td>\n",
       "      <td>2006</td>\n",
       "      <td>7.0</td>\n",
       "      <td>117810.0</td>\n",
       "      <td>Animation, Comedy, Crime</td>\n",
       "      <td>$5,501,616</td>\n",
       "      <td>tt0405296</td>\n",
       "      <td>8700000</td>\n",
       "      <td>7659918.0</td>\n",
       "      <td>-1040082.0</td>\n",
       "    </tr>\n",
       "    <tr>\n",
       "      <th>6</th>\n",
       "      <td>Charlie and the Chocolate Factory</td>\n",
       "      <td>2005</td>\n",
       "      <td>6.7</td>\n",
       "      <td>533360.0</td>\n",
       "      <td>Adventure, Comedy, Family</td>\n",
       "      <td>$206,459,076</td>\n",
       "      <td>tt0367594</td>\n",
       "      <td>150000000</td>\n",
       "      <td>474968763.0</td>\n",
       "      <td>324968763.0</td>\n",
       "    </tr>\n",
       "    <tr>\n",
       "      <th>...</th>\n",
       "      <td>...</td>\n",
       "      <td>...</td>\n",
       "      <td>...</td>\n",
       "      <td>...</td>\n",
       "      <td>...</td>\n",
       "      <td>...</td>\n",
       "      <td>...</td>\n",
       "      <td>...</td>\n",
       "      <td>...</td>\n",
       "      <td>...</td>\n",
       "    </tr>\n",
       "    <tr>\n",
       "      <th>2306</th>\n",
       "      <td>Battalion</td>\n",
       "      <td>2015</td>\n",
       "      <td>6.5</td>\n",
       "      <td>1703.0</td>\n",
       "      <td>Action, Drama, History</td>\n",
       "      <td>N/A</td>\n",
       "      <td>tt4187590</td>\n",
       "      <td>10000000</td>\n",
       "      <td>7547762.0</td>\n",
       "      <td>-2452238.0</td>\n",
       "    </tr>\n",
       "    <tr>\n",
       "      <th>2307</th>\n",
       "      <td>Fanaa</td>\n",
       "      <td>2006</td>\n",
       "      <td>7.1</td>\n",
       "      <td>35217.0</td>\n",
       "      <td>Action, Drama, Romance</td>\n",
       "      <td>$2,105,352</td>\n",
       "      <td>tt0439662</td>\n",
       "      <td>5300000</td>\n",
       "      <td>22175908.0</td>\n",
       "      <td>16875908.0</td>\n",
       "    </tr>\n",
       "    <tr>\n",
       "      <th>2308</th>\n",
       "      <td>S Novym godom, mamy!</td>\n",
       "      <td>2012</td>\n",
       "      <td>6.3</td>\n",
       "      <td>2476.0</td>\n",
       "      <td>Comedy, Drama</td>\n",
       "      <td>N/A</td>\n",
       "      <td>tt2592500</td>\n",
       "      <td>2000000</td>\n",
       "      <td>11666088.0</td>\n",
       "      <td>9666088.0</td>\n",
       "    </tr>\n",
       "    <tr>\n",
       "      <th>2313</th>\n",
       "      <td>Dikari</td>\n",
       "      <td>2006</td>\n",
       "      <td>6.5</td>\n",
       "      <td>693.0</td>\n",
       "      <td>Comedy</td>\n",
       "      <td>N/A</td>\n",
       "      <td>tt0933361</td>\n",
       "      <td>800000</td>\n",
       "      <td>1328612.0</td>\n",
       "      <td>528612.0</td>\n",
       "    </tr>\n",
       "    <tr>\n",
       "      <th>2314</th>\n",
       "      <td>Pro lyuboff</td>\n",
       "      <td>2010</td>\n",
       "      <td>5.8</td>\n",
       "      <td>297.0</td>\n",
       "      <td>Drama</td>\n",
       "      <td>N/A</td>\n",
       "      <td>tt1718881</td>\n",
       "      <td>2000000</td>\n",
       "      <td>1268793.0</td>\n",
       "      <td>-731207.0</td>\n",
       "    </tr>\n",
       "  </tbody>\n",
       "</table>\n",
       "<p>1272 rows × 10 columns</p>\n",
       "</div>"
      ],
      "text/plain": [
       "                                  Title  Year  IMDB Rating  IMDB Votes  \\\n",
       "0                  Camille Claudel 1915  2013          6.5      3889.0   \n",
       "2                            The Jacket  2005          7.1    119641.0   \n",
       "3                       The Interpreter  2005          6.4    111280.0   \n",
       "5                      A Scanner Darkly  2006          7.0    117810.0   \n",
       "6     Charlie and the Chocolate Factory  2005          6.7    533360.0   \n",
       "...                                 ...   ...          ...         ...   \n",
       "2306                          Battalion  2015          6.5      1703.0   \n",
       "2307                              Fanaa  2006          7.1     35217.0   \n",
       "2308               S Novym godom, mamy!  2012          6.3      2476.0   \n",
       "2313                             Dikari  2006          6.5       693.0   \n",
       "2314                        Pro lyuboff  2010          5.8       297.0   \n",
       "\n",
       "                          Genre    Box Office    IMDB ID     Budget  \\\n",
       "0              Biography, Drama       $35,296  tt2018086    3512454   \n",
       "2       Drama, Fantasy, Mystery    $6,303,762  tt0366627   29000000   \n",
       "3      Crime, Mystery, Thriller   $72,708,161  tt0373926   80000000   \n",
       "5      Animation, Comedy, Crime    $5,501,616  tt0405296    8700000   \n",
       "6     Adventure, Comedy, Family  $206,459,076  tt0367594  150000000   \n",
       "...                         ...           ...        ...        ...   \n",
       "2306     Action, Drama, History           N/A  tt4187590   10000000   \n",
       "2307     Action, Drama, Romance    $2,105,352  tt0439662    5300000   \n",
       "2308              Comedy, Drama           N/A  tt2592500    2000000   \n",
       "2313                     Comedy           N/A  tt0933361     800000   \n",
       "2314                      Drama           N/A  tt1718881    2000000   \n",
       "\n",
       "          Revenue         ROI$  \n",
       "0        115860.0   -3396594.0  \n",
       "2      21126225.0   -7873775.0  \n",
       "3     162944923.0   82944923.0  \n",
       "5       7659918.0   -1040082.0  \n",
       "6     474968763.0  324968763.0  \n",
       "...           ...          ...  \n",
       "2306    7547762.0   -2452238.0  \n",
       "2307   22175908.0   16875908.0  \n",
       "2308   11666088.0    9666088.0  \n",
       "2313    1328612.0     528612.0  \n",
       "2314    1268793.0    -731207.0  \n",
       "\n",
       "[1272 rows x 10 columns]"
      ]
     },
     "execution_count": 30,
     "metadata": {},
     "output_type": "execute_result"
    }
   ],
   "source": [
    "average_rating = movie_data_df[(movie_data_df[\"IMDB Rating\"] >= 5.8) &  (movie_data_df[\"IMDB Rating\"] <= 7.1)]\n",
    "average_rating"
   ]
  },
  {
   "cell_type": "code",
   "execution_count": 31,
   "id": "626d50f1-3a0c-4e0a-9b0d-8898848d7ae8",
   "metadata": {},
   "outputs": [
    {
     "data": {
      "text/plain": [
       "Year\n",
       "2005    5.120434e+07\n",
       "2006    4.445563e+07\n",
       "2007    6.301807e+07\n",
       "2008    5.085986e+07\n",
       "2009    4.827193e+07\n",
       "2010    5.012104e+07\n",
       "2011    5.319055e+07\n",
       "2012    7.264901e+07\n",
       "2013    5.846486e+07\n",
       "2014    6.862705e+07\n",
       "2015    1.061381e+08\n",
       "Name: ROI$, dtype: float64"
      ]
     },
     "execution_count": 31,
     "metadata": {},
     "output_type": "execute_result"
    }
   ],
   "source": [
    "year_average = average_rating.groupby(['Year'])['ROI$'].mean()\n",
    "year_average"
   ]
  },
  {
   "cell_type": "code",
   "execution_count": 32,
   "id": "1a61f15e-4cab-4438-bf59-d40aca6dd66f",
   "metadata": {},
   "outputs": [
    {
     "data": {
      "image/png": "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",
      "text/plain": [
       "<Figure size 640x480 with 1 Axes>"
      ]
     },
     "metadata": {},
     "output_type": "display_data"
    }
   ],
   "source": [
    "plt.title = \"Top and Bottom Ten Percent Ratings ROI vs Average ROI\"\n",
    "low_average, = plt.plot(year_low.index, year_low, color=\"blue\", label=\"Bottom 25% Rated and Total ROI\" )\n",
    "high_average, = plt.plot(year_high.index, year_high, color=\"green\",label= \"Upper 25% Rated and Total ROI\")\n",
    "average_average, = plt.plot(year_average.index, year_average, color=\"yellow\", label=\"Middle 50% Rated and Total ROI\")\n",
    "plt.legend(handles=[low_average, high_average, average_average], loc=\"best\")\n",
    "\n",
    "# Show the chart\n",
    "plt.show()"
   ]
  },
  {
   "cell_type": "code",
   "execution_count": 33,
   "id": "acb42319-abb2-48f4-a9ee-d29785eb2d34",
   "metadata": {},
   "outputs": [
    {
     "data": {
      "text/html": [
       "<div>\n",
       "<style scoped>\n",
       "    .dataframe tbody tr th:only-of-type {\n",
       "        vertical-align: middle;\n",
       "    }\n",
       "\n",
       "    .dataframe tbody tr th {\n",
       "        vertical-align: top;\n",
       "    }\n",
       "\n",
       "    .dataframe thead tr th {\n",
       "        text-align: left;\n",
       "    }\n",
       "\n",
       "    .dataframe thead tr:last-of-type th {\n",
       "        text-align: right;\n",
       "    }\n",
       "</style>\n",
       "<table border=\"1\" class=\"dataframe\">\n",
       "  <thead>\n",
       "    <tr>\n",
       "      <th></th>\n",
       "      <th colspan=\"5\" halign=\"left\">Budget</th>\n",
       "    </tr>\n",
       "    <tr>\n",
       "      <th></th>\n",
       "      <th>mean</th>\n",
       "      <th>median</th>\n",
       "      <th>min</th>\n",
       "      <th>max</th>\n",
       "      <th>std</th>\n",
       "    </tr>\n",
       "    <tr>\n",
       "      <th>Year</th>\n",
       "      <th></th>\n",
       "      <th></th>\n",
       "      <th></th>\n",
       "      <th></th>\n",
       "      <th></th>\n",
       "    </tr>\n",
       "  </thead>\n",
       "  <tbody>\n",
       "    <tr>\n",
       "      <th>2005</th>\n",
       "      <td>3.676527e+07</td>\n",
       "      <td>28000000.0</td>\n",
       "      <td>50000</td>\n",
       "      <td>207000000</td>\n",
       "      <td>3.822247e+07</td>\n",
       "    </tr>\n",
       "    <tr>\n",
       "      <th>2006</th>\n",
       "      <td>3.500557e+07</td>\n",
       "      <td>20000000.0</td>\n",
       "      <td>79000</td>\n",
       "      <td>270000000</td>\n",
       "      <td>4.024495e+07</td>\n",
       "    </tr>\n",
       "    <tr>\n",
       "      <th>2007</th>\n",
       "      <td>3.699069e+07</td>\n",
       "      <td>20000000.0</td>\n",
       "      <td>15000</td>\n",
       "      <td>300000000</td>\n",
       "      <td>4.624692e+07</td>\n",
       "    </tr>\n",
       "    <tr>\n",
       "      <th>2008</th>\n",
       "      <td>3.758107e+07</td>\n",
       "      <td>23000000.0</td>\n",
       "      <td>230000</td>\n",
       "      <td>225000000</td>\n",
       "      <td>4.224342e+07</td>\n",
       "    </tr>\n",
       "    <tr>\n",
       "      <th>2009</th>\n",
       "      <td>3.670216e+07</td>\n",
       "      <td>20000000.0</td>\n",
       "      <td>15000</td>\n",
       "      <td>250000000</td>\n",
       "      <td>4.595892e+07</td>\n",
       "    </tr>\n",
       "    <tr>\n",
       "      <th>2010</th>\n",
       "      <td>3.698955e+07</td>\n",
       "      <td>20000000.0</td>\n",
       "      <td>30000</td>\n",
       "      <td>260000000</td>\n",
       "      <td>4.831392e+07</td>\n",
       "    </tr>\n",
       "    <tr>\n",
       "      <th>2011</th>\n",
       "      <td>3.702886e+07</td>\n",
       "      <td>21000000.0</td>\n",
       "      <td>8000</td>\n",
       "      <td>380000000</td>\n",
       "      <td>4.718228e+07</td>\n",
       "    </tr>\n",
       "    <tr>\n",
       "      <th>2012</th>\n",
       "      <td>3.896250e+07</td>\n",
       "      <td>16000000.0</td>\n",
       "      <td>11178</td>\n",
       "      <td>260000000</td>\n",
       "      <td>5.338435e+07</td>\n",
       "    </tr>\n",
       "    <tr>\n",
       "      <th>2013</th>\n",
       "      <td>3.963174e+07</td>\n",
       "      <td>19600000.0</td>\n",
       "      <td>79000</td>\n",
       "      <td>255000000</td>\n",
       "      <td>5.239541e+07</td>\n",
       "    </tr>\n",
       "    <tr>\n",
       "      <th>2014</th>\n",
       "      <td>3.801025e+07</td>\n",
       "      <td>17000000.0</td>\n",
       "      <td>200000</td>\n",
       "      <td>250000000</td>\n",
       "      <td>5.023680e+07</td>\n",
       "    </tr>\n",
       "    <tr>\n",
       "      <th>2015</th>\n",
       "      <td>3.815567e+07</td>\n",
       "      <td>18000000.0</td>\n",
       "      <td>5000</td>\n",
       "      <td>280000000</td>\n",
       "      <td>5.053148e+07</td>\n",
       "    </tr>\n",
       "  </tbody>\n",
       "</table>\n",
       "</div>"
      ],
      "text/plain": [
       "            Budget                                             \n",
       "              mean      median     min        max           std\n",
       "Year                                                           \n",
       "2005  3.676527e+07  28000000.0   50000  207000000  3.822247e+07\n",
       "2006  3.500557e+07  20000000.0   79000  270000000  4.024495e+07\n",
       "2007  3.699069e+07  20000000.0   15000  300000000  4.624692e+07\n",
       "2008  3.758107e+07  23000000.0  230000  225000000  4.224342e+07\n",
       "2009  3.670216e+07  20000000.0   15000  250000000  4.595892e+07\n",
       "2010  3.698955e+07  20000000.0   30000  260000000  4.831392e+07\n",
       "2011  3.702886e+07  21000000.0    8000  380000000  4.718228e+07\n",
       "2012  3.896250e+07  16000000.0   11178  260000000  5.338435e+07\n",
       "2013  3.963174e+07  19600000.0   79000  255000000  5.239541e+07\n",
       "2014  3.801025e+07  17000000.0  200000  250000000  5.023680e+07\n",
       "2015  3.815567e+07  18000000.0    5000  280000000  5.053148e+07"
      ]
     },
     "execution_count": 33,
     "metadata": {},
     "output_type": "execute_result"
    }
   ],
   "source": [
    "budget_analysis = movie_data_df.groupby('Year').agg({'Budget': ['mean', 'median', 'min', 'max', 'std']})\n",
    "budget_analysis"
   ]
  },
  {
   "cell_type": "code",
   "execution_count": 35,
   "id": "64735ece-29e8-46a7-b91c-023829bdb47f",
   "metadata": {},
   "outputs": [],
   "source": [
    "pd.set_option('display.float_format', '{:.0f}'.format)"
   ]
  },
  {
   "cell_type": "code",
   "execution_count": 36,
   "id": "3c9601b7-4bc8-4bff-a733-c57af123920c",
   "metadata": {},
   "outputs": [
    {
     "data": {
      "text/html": [
       "<div>\n",
       "<style scoped>\n",
       "    .dataframe tbody tr th:only-of-type {\n",
       "        vertical-align: middle;\n",
       "    }\n",
       "\n",
       "    .dataframe tbody tr th {\n",
       "        vertical-align: top;\n",
       "    }\n",
       "\n",
       "    .dataframe thead th {\n",
       "        text-align: right;\n",
       "    }\n",
       "</style>\n",
       "<table border=\"1\" class=\"dataframe\">\n",
       "  <thead>\n",
       "    <tr style=\"text-align: right;\">\n",
       "      <th></th>\n",
       "      <th>IMDB Rating</th>\n",
       "      <th>IMDB Votes</th>\n",
       "      <th>Budget</th>\n",
       "      <th>Revenue</th>\n",
       "      <th>ROI$</th>\n",
       "    </tr>\n",
       "  </thead>\n",
       "  <tbody>\n",
       "    <tr>\n",
       "      <th>count</th>\n",
       "      <td>2316</td>\n",
       "      <td>2316</td>\n",
       "      <td>2316</td>\n",
       "      <td>2316</td>\n",
       "      <td>2316</td>\n",
       "    </tr>\n",
       "    <tr>\n",
       "      <th>mean</th>\n",
       "      <td>6</td>\n",
       "      <td>145318</td>\n",
       "      <td>37441333</td>\n",
       "      <td>106259162</td>\n",
       "      <td>68817829</td>\n",
       "    </tr>\n",
       "    <tr>\n",
       "      <th>std</th>\n",
       "      <td>1</td>\n",
       "      <td>222650</td>\n",
       "      <td>47042022</td>\n",
       "      <td>195022212</td>\n",
       "      <td>161287653</td>\n",
       "    </tr>\n",
       "    <tr>\n",
       "      <th>min</th>\n",
       "      <td>1</td>\n",
       "      <td>97</td>\n",
       "      <td>5000</td>\n",
       "      <td>5206</td>\n",
       "      <td>-165710090</td>\n",
       "    </tr>\n",
       "    <tr>\n",
       "      <th>25%</th>\n",
       "      <td>6</td>\n",
       "      <td>22100</td>\n",
       "      <td>7000000</td>\n",
       "      <td>7465574</td>\n",
       "      <td>-1904925</td>\n",
       "    </tr>\n",
       "    <tr>\n",
       "      <th>50%</th>\n",
       "      <td>6</td>\n",
       "      <td>67597</td>\n",
       "      <td>20000000</td>\n",
       "      <td>36744961</td>\n",
       "      <td>13033120</td>\n",
       "    </tr>\n",
       "    <tr>\n",
       "      <th>75%</th>\n",
       "      <td>7</td>\n",
       "      <td>170498</td>\n",
       "      <td>47250000</td>\n",
       "      <td>113009982</td>\n",
       "      <td>69780159</td>\n",
       "    </tr>\n",
       "    <tr>\n",
       "      <th>max</th>\n",
       "      <td>9</td>\n",
       "      <td>2896249</td>\n",
       "      <td>380000000</td>\n",
       "      <td>2787965087</td>\n",
       "      <td>2550965087</td>\n",
       "    </tr>\n",
       "  </tbody>\n",
       "</table>\n",
       "</div>"
      ],
      "text/plain": [
       "       IMDB Rating  IMDB Votes    Budget    Revenue       ROI$\n",
       "count         2316        2316      2316       2316       2316\n",
       "mean             6      145318  37441333  106259162   68817829\n",
       "std              1      222650  47042022  195022212  161287653\n",
       "min              1          97      5000       5206 -165710090\n",
       "25%              6       22100   7000000    7465574   -1904925\n",
       "50%              6       67597  20000000   36744961   13033120\n",
       "75%              7      170498  47250000  113009982   69780159\n",
       "max              9     2896249 380000000 2787965087 2550965087"
      ]
     },
     "execution_count": 36,
     "metadata": {},
     "output_type": "execute_result"
    }
   ],
   "source": [
    "movie_data_df.describe()\n"
   ]
  },
  {
   "cell_type": "code",
   "execution_count": 37,
   "id": "55dae0a2-f2eb-46ce-873f-f177ed6ce418",
   "metadata": {},
   "outputs": [
    {
     "data": {
      "text/plain": [
       "342558667"
      ]
     },
     "execution_count": 37,
     "metadata": {},
     "output_type": "execute_result"
    }
   ],
   "source": [
    "380000000-37441333"
   ]
  },
  {
   "cell_type": "code",
   "execution_count": 38,
   "id": "0743b4cc-ba13-473f-8589-47bccd5d89b0",
   "metadata": {},
   "outputs": [
    {
     "data": {
      "text/plain": [
       "-17441333"
      ]
     },
     "execution_count": 38,
     "metadata": {},
     "output_type": "execute_result"
    }
   ],
   "source": [
    "20000000-37441333"
   ]
  },
  {
   "cell_type": "code",
   "execution_count": 40,
   "id": "9a3b4502-bba5-4e55-9777-eafab2e096e0",
   "metadata": {},
   "outputs": [
    {
     "data": {
      "text/html": [
       "<div>\n",
       "<style scoped>\n",
       "    .dataframe tbody tr th:only-of-type {\n",
       "        vertical-align: middle;\n",
       "    }\n",
       "\n",
       "    .dataframe tbody tr th {\n",
       "        vertical-align: top;\n",
       "    }\n",
       "\n",
       "    .dataframe thead th {\n",
       "        text-align: right;\n",
       "    }\n",
       "</style>\n",
       "<table border=\"1\" class=\"dataframe\">\n",
       "  <thead>\n",
       "    <tr style=\"text-align: right;\">\n",
       "      <th></th>\n",
       "      <th>Budget</th>\n",
       "    </tr>\n",
       "  </thead>\n",
       "  <tbody>\n",
       "    <tr>\n",
       "      <th>mean</th>\n",
       "      <td>37441333</td>\n",
       "    </tr>\n",
       "    <tr>\n",
       "      <th>median</th>\n",
       "      <td>20000000</td>\n",
       "    </tr>\n",
       "    <tr>\n",
       "      <th>min</th>\n",
       "      <td>5000</td>\n",
       "    </tr>\n",
       "    <tr>\n",
       "      <th>max</th>\n",
       "      <td>380000000</td>\n",
       "    </tr>\n",
       "    <tr>\n",
       "      <th>std</th>\n",
       "      <td>47042022</td>\n",
       "    </tr>\n",
       "  </tbody>\n",
       "</table>\n",
       "</div>"
      ],
      "text/plain": [
       "          Budget\n",
       "mean    37441333\n",
       "median  20000000\n",
       "min         5000\n",
       "max    380000000\n",
       "std     47042022"
      ]
     },
     "execution_count": 40,
     "metadata": {},
     "output_type": "execute_result"
    }
   ],
   "source": [
    "budget_center = movie_data_df.agg({'Budget': ['mean', 'median', 'min', 'max', 'std']})\n",
    "budget_center"
   ]
>>>>>>> sarah_b
  },
  {
   "cell_type": "code",
   "execution_count": null,
<<<<<<< HEAD
   "id": "a540c4a0-4fb4-447b-8261-8b4b1d78aeb5",
=======
   "id": "74835382-b0f3-40c4-a365-98e41f28bad5",
>>>>>>> sarah_b
   "metadata": {},
   "outputs": [],
   "source": []
  }
 ],
 "metadata": {
  "kernelspec": {
   "display_name": "Python 3 (ipykernel)",
   "language": "python",
   "name": "python3"
  },
  "language_info": {
   "codemirror_mode": {
    "name": "ipython",
    "version": 3
   },
   "file_extension": ".py",
   "mimetype": "text/x-python",
   "name": "python",
   "nbconvert_exporter": "python",
   "pygments_lexer": "ipython3",
   "version": "3.11.7"
  }
 },
 "nbformat": 4,
 "nbformat_minor": 5
}

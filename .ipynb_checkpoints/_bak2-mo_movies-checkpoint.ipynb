{
 "cells": [
  {
   "cell_type": "markdown",
   "metadata": {},
   "source": [
    "### Project1_MoMovies - Mo Money Movies\n",
    "\n",
    "##### How to Make The Most Money with One Movie"
   ]
  },
  {
   "cell_type": "code",
   "execution_count": 13,
   "metadata": {},
   "outputs": [],
   "source": [
    "# dependencies\n",
    "import requests\n",
    "import json\n",
    "from omdb_key import api_key\n",
    "from pprint import pprint\n",
    "import pandas as pd\n",
    "import matplotlib.pyplot as plt"
   ]
  },
  {
   "cell_type": "code",
   "execution_count": 15,
   "metadata": {},
   "outputs": [],
   "source": [
    "# url and api prep\n",
    "url = \"http://www.omdbapi.com/?t=\"\n",
    "api_key = \"&apikey=\" + api_key"
   ]
  },
  {
   "cell_type": "code",
   "execution_count": 17,
   "metadata": {},
   "outputs": [],
   "source": [
    "#Create a list of movies - do we have to do it manually like this? can we use X for title to for loop through everthing in our year range?\n",
    "# Another API to find \"best\" movies in our date range? We shouldn't have to manually find titles. If we can find another api,\n",
    "# then we could use that to create our list below\n",
    "\n",
    "movie_titles = [\n",
    "    \"The Hurt Locker\", \"Inception\", \"Avatar\", \"The Dark Knight\", \"Slumdog Millionaire\",\n",
    "    \"The Social Network\", \"Toy Story 3\", \"Up\", \"Iron Man\", \"The King's Speech\"\n",
    "]\n",
    "# response = requests.get(url + \"Iron Man\" + api_key)"
   ]
  },
  {
   "cell_type": "code",
   "execution_count": 19,
   "metadata": {},
   "outputs": [],
   "source": [
    "# Init empty movie data list\n",
    "movies_data = []\n",
    "\n",
    "for title in movie_titles:\n",
    "    response = requests.get(url + title + api_key)\n",
    "    data = response.json()\n",
    "    if 'Year' in data and 2005 <= int(data['Year']) <= 2015:\n",
    "        movies_data.append({\n",
    "            'Title': data['Title'],\n",
    "            'Year': int(data['Year']),\n",
    "            'Ratings': data['Ratings'],\n",
    "            'BoxOffice': data['BoxOffice']\n",
    "        })"
   ]
  },
  {
   "cell_type": "code",
   "execution_count": 20,
   "metadata": {},
   "outputs": [
    {
     "name": "stdout",
     "output_type": "stream",
     "text": [
      "{'Actors': 'Colin Firth, Geoffrey Rush, Helena Bonham Carter',\n",
      " 'Awards': 'Won 4 Oscars. 108 wins & 206 nominations total',\n",
      " 'BoxOffice': '$138,797,449',\n",
      " 'Country': 'United States, United Kingdom',\n",
      " 'DVD': 'N/A',\n",
      " 'Director': 'Tom Hooper',\n",
      " 'Genre': 'Biography, Drama, History',\n",
      " 'Language': 'English',\n",
      " 'Metascore': '88',\n",
      " 'Plot': 'The story of King George VI, his unexpected ascension to the throne '\n",
      "         'of the British Empire in 1936, and the speech therapist who helped '\n",
      "         'the unsure monarch overcome his stammer.',\n",
      " 'Poster': 'https://m.media-amazon.com/images/M/MV5BMzU5MjEwMTg2Nl5BMl5BanBnXkFtZTcwNzM3MTYxNA@@._V1_SX300.jpg',\n",
      " 'Production': 'N/A',\n",
      " 'Rated': 'R',\n",
      " 'Ratings': [{'Source': 'Internet Movie Database', 'Value': '8.0/10'},\n",
      "             {'Source': 'Rotten Tomatoes', 'Value': '94%'},\n",
      "             {'Source': 'Metacritic', 'Value': '88/100'}],\n",
      " 'Released': '25 Dec 2010',\n",
      " 'Response': 'True',\n",
      " 'Runtime': '118 min',\n",
      " 'Title': \"The King's Speech\",\n",
      " 'Type': 'movie',\n",
      " 'Website': 'N/A',\n",
      " 'Writer': 'David Seidler',\n",
      " 'Year': '2010',\n",
      " 'imdbID': 'tt1504320',\n",
      " 'imdbRating': '8.0',\n",
      " 'imdbVotes': '709,784'}\n"
     ]
    }
   ],
   "source": [
    "# Converting the response to JSON, print the data for exploration\n",
    "movies_data = response.json()\n",
    "pprint(data)"
   ]
  },
  {
   "cell_type": "code",
   "execution_count": 25,
   "metadata": {},
   "outputs": [
    {
     "name": "stdout",
     "output_type": "stream",
     "text": [
      "The movie's ratings are [{'Source': 'Internet Movie Database', 'Value': '8.0/10'}, {'Source': 'Rotten Tomatoes', 'Value': '94%'}, {'Source': 'Metacritic', 'Value': '88/100'}].\n",
      "The movie made $138,797,449 at the box office.\n"
     ]
    }
   ],
   "source": [
    "# Print ratings and boxoffice for quick checks. Which specific rating do we want to choose? Metacritic? Rotten Tomatoes? I think metacritic\n",
    "# is only critics and tomatoes in mix of critics and viewsers?\n",
    "\n",
    "print(f\"The movie's ratings are {data['Ratings']}.\")\n",
    "print(f\"The movie made {data['BoxOffice']} at the box office.\")"
   ]
  },
  {
   "cell_type": "markdown",
   "metadata": {},
   "source": [
    "### Below here is scrap code for building"
   ]
  },
  {
   "cell_type": "code",
   "execution_count": null,
   "metadata": {},
   "outputs": [],
   "source": [
    "# # list of TV show titles to query\n",
    "# tv_shows = [\"Altered Carbon\", \"Grey's Anatomy\", \"This is Us\", \"The Flash\",\n",
    "#             \"Vikings\", \"Shameless\", \"Arrow\", \"Peaky Blinders\", \"Dirk Gently\"]\n",
    "\n",
    "# # TV Maze show search base URL\n",
    "# base_url = \"http://api.tvmaze.com/search/shows?q=\"\n",
    "\n",
    "# # set up lists to hold response data for name and rating\n",
    "# titles = []\n",
    "# ratings = []\n",
    "\n",
    "# # loop through TV show titles, make requests and parse\n",
    "# for show in tv_shows:\n",
    "#     target_url = base_url + show\n",
    "#     response = requests.get(target_url).json()\n",
    "#     titles.append(response[0]['show']['name'])\n",
    "#     ratings.append(response[0]['show']['rating']['average'])"
   ]
  },
  {
   "cell_type": "code",
   "execution_count": null,
   "metadata": {},
   "outputs": [],
   "source": [
    "# # create DataFrame\n",
    "# shows_df = pd.DataFrame({\n",
    "#     \"title\": titles,\n",
    "#     \"rating\": ratings\n",
    "# })\n",
    "\n",
    "# shows_df"
   ]
  }
 ],
 "metadata": {
  "kernelspec": {
   "display_name": "Python 3 (ipykernel)",
   "language": "python",
   "name": "python3"
  },
  "language_info": {
   "codemirror_mode": {
    "name": "ipython",
    "version": 3
   },
   "file_extension": ".py",
   "mimetype": "text/x-python",
   "name": "python",
   "nbconvert_exporter": "python",
   "pygments_lexer": "ipython3",
   "version": "3.11.7"
  },
  "varInspector": {
   "cols": {
    "lenName": 16,
    "lenType": 16,
    "lenVar": 40
   },
   "kernels_config": {
    "python": {
     "delete_cmd_postfix": "",
     "delete_cmd_prefix": "del ",
     "library": "var_list.py",
     "varRefreshCmd": "print(var_dic_list())"
    },
    "r": {
     "delete_cmd_postfix": ") ",
     "delete_cmd_prefix": "rm(",
     "library": "var_list.r",
     "varRefreshCmd": "cat(var_dic_list()) "
    }
   },
   "types_to_exclude": [
    "module",
    "function",
    "builtin_function_or_method",
    "instance",
    "_Feature"
   ],
   "window_display": false
  }
 },
 "nbformat": 4,
 "nbformat_minor": 4
}

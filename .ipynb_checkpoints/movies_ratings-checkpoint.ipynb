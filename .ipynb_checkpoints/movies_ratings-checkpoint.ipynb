{
 "cells": [
  {
   "cell_type": "code",
   "execution_count": 1,
   "id": "4e6c21f9-901f-4687-a462-80c6ce669b36",
   "metadata": {},
   "outputs": [],
   "source": [
    "\n",
    "import pandas as pd\n",
    "from pathlib import Path\n",
    "import matplotlib.pyplot as plt\n",
    "import numpy as np\n",
    "\n"
   ]
  },
  {
   "cell_type": "code",
   "execution_count": 2,
   "id": "a621b62b-888b-4667-afb4-3408a22660d0",
   "metadata": {},
   "outputs": [
    {
     "data": {
      "text/html": [
       "<div>\n",
       "<style scoped>\n",
       "    .dataframe tbody tr th:only-of-type {\n",
       "        vertical-align: middle;\n",
       "    }\n",
       "\n",
       "    .dataframe tbody tr th {\n",
       "        vertical-align: top;\n",
       "    }\n",
       "\n",
       "    .dataframe thead th {\n",
       "        text-align: right;\n",
       "    }\n",
       "</style>\n",
       "<table border=\"1\" class=\"dataframe\">\n",
       "  <thead>\n",
       "    <tr style=\"text-align: right;\">\n",
       "      <th></th>\n",
       "      <th>Title</th>\n",
       "      <th>Year</th>\n",
       "      <th>IMDB Rating</th>\n",
       "      <th>IMDB Votes</th>\n",
       "      <th>Genre</th>\n",
       "      <th>Box Office</th>\n",
       "      <th>IMDB ID</th>\n",
       "      <th>Budget</th>\n",
       "      <th>Revenue</th>\n",
       "    </tr>\n",
       "  </thead>\n",
       "  <tbody>\n",
       "    <tr>\n",
       "      <th>0</th>\n",
       "      <td>Camille Claudel 1915</td>\n",
       "      <td>2013</td>\n",
       "      <td>6.5</td>\n",
       "      <td>3889.0</td>\n",
       "      <td>Biography, Drama</td>\n",
       "      <td>$35,296</td>\n",
       "      <td>tt2018086</td>\n",
       "      <td>3512454.0</td>\n",
       "      <td>115860.0</td>\n",
       "    </tr>\n",
       "    <tr>\n",
       "      <th>1</th>\n",
       "      <td>Camille Claudel 1915</td>\n",
       "      <td>2013</td>\n",
       "      <td>6.5</td>\n",
       "      <td>3889.0</td>\n",
       "      <td>Biography, Drama</td>\n",
       "      <td>$35,296</td>\n",
       "      <td>tt2018086</td>\n",
       "      <td>3512454.0</td>\n",
       "      <td>115860.0</td>\n",
       "    </tr>\n",
       "    <tr>\n",
       "      <th>2</th>\n",
       "      <td>Camille Claudel 1915</td>\n",
       "      <td>2013</td>\n",
       "      <td>6.5</td>\n",
       "      <td>3889.0</td>\n",
       "      <td>Biography, Drama</td>\n",
       "      <td>$35,296</td>\n",
       "      <td>tt2018086</td>\n",
       "      <td>3512454.0</td>\n",
       "      <td>115860.0</td>\n",
       "    </tr>\n",
       "    <tr>\n",
       "      <th>3</th>\n",
       "      <td>Camille Claudel 1915</td>\n",
       "      <td>2013</td>\n",
       "      <td>6.5</td>\n",
       "      <td>3889.0</td>\n",
       "      <td>Biography, Drama</td>\n",
       "      <td>$35,296</td>\n",
       "      <td>tt2018086</td>\n",
       "      <td>3512454.0</td>\n",
       "      <td>115860.0</td>\n",
       "    </tr>\n",
       "    <tr>\n",
       "      <th>4</th>\n",
       "      <td>A Sound of Thunder</td>\n",
       "      <td>2005</td>\n",
       "      <td>4.2</td>\n",
       "      <td>20549.0</td>\n",
       "      <td>Action, Adventure, Horror</td>\n",
       "      <td>$1,900,451</td>\n",
       "      <td>tt0318081</td>\n",
       "      <td>80000000.0</td>\n",
       "      <td>5989640.0</td>\n",
       "    </tr>\n",
       "  </tbody>\n",
       "</table>\n",
       "</div>"
      ],
      "text/plain": [
       "                  Title  Year  IMDB Rating  IMDB Votes  \\\n",
       "0  Camille Claudel 1915  2013          6.5      3889.0   \n",
       "1  Camille Claudel 1915  2013          6.5      3889.0   \n",
       "2  Camille Claudel 1915  2013          6.5      3889.0   \n",
       "3  Camille Claudel 1915  2013          6.5      3889.0   \n",
       "4    A Sound of Thunder  2005          4.2     20549.0   \n",
       "\n",
       "                       Genre  Box Office    IMDB ID      Budget    Revenue  \n",
       "0           Biography, Drama     $35,296  tt2018086   3512454.0   115860.0  \n",
       "1           Biography, Drama     $35,296  tt2018086   3512454.0   115860.0  \n",
       "2           Biography, Drama     $35,296  tt2018086   3512454.0   115860.0  \n",
       "3           Biography, Drama     $35,296  tt2018086   3512454.0   115860.0  \n",
       "4  Action, Adventure, Horror  $1,900,451  tt0318081  80000000.0  5989640.0  "
      ]
     },
     "execution_count": 2,
     "metadata": {},
     "output_type": "execute_result"
    }
   ],
   "source": [
    "movie_data = Path(\"Resources/mo_movies_data.parquet\")\n",
    "movie_data_df = pd.read_parquet(movie_data)\n",
    "movie_data_df.head()"
   ]
  },
  {
   "cell_type": "code",
   "execution_count": 3,
   "id": "a5f90004-293d-487f-b81f-63e390db6231",
   "metadata": {},
   "outputs": [
    {
     "data": {
      "text/plain": [
       "Title           object\n",
       "Year            object\n",
       "IMDB Rating    float64\n",
       "IMDB Votes     float64\n",
       "Genre           object\n",
       "Box Office      object\n",
       "IMDB ID         object\n",
       "Budget         float64\n",
       "Revenue        float64\n",
       "dtype: object"
      ]
     },
     "execution_count": 3,
     "metadata": {},
     "output_type": "execute_result"
    }
   ],
   "source": [
    "movie_data_df.dtypes"
   ]
  },
  {
   "cell_type": "code",
   "execution_count": 35,
   "id": "2bf1295e-eca1-45d0-9558-d1dfe5f2fa53",
   "metadata": {},
   "outputs": [
    {
     "data": {
      "text/plain": [
       "9.0"
      ]
     },
     "execution_count": 35,
     "metadata": {},
     "output_type": "execute_result"
    }
   ],
   "source": [
    "movie_data_df['IMDB Rating'].max()\n"
   ]
  },
  {
   "cell_type": "code",
   "execution_count": 37,
   "id": "6a16546b-b848-4839-8b8b-292f57c31c3f",
   "metadata": {},
   "outputs": [
    {
     "data": {
      "text/html": [
       "<div>\n",
       "<style scoped>\n",
       "    .dataframe tbody tr th:only-of-type {\n",
       "        vertical-align: middle;\n",
       "    }\n",
       "\n",
       "    .dataframe tbody tr th {\n",
       "        vertical-align: top;\n",
       "    }\n",
       "\n",
       "    .dataframe thead th {\n",
       "        text-align: right;\n",
       "    }\n",
       "</style>\n",
       "<table border=\"1\" class=\"dataframe\">\n",
       "  <thead>\n",
       "    <tr style=\"text-align: right;\">\n",
       "      <th></th>\n",
       "      <th>Title</th>\n",
       "      <th>Year</th>\n",
       "      <th>IMDB Rating</th>\n",
       "      <th>IMDB Votes</th>\n",
       "      <th>Genre</th>\n",
       "      <th>Box Office</th>\n",
       "      <th>IMDB ID</th>\n",
       "      <th>Budget</th>\n",
       "      <th>Revenue</th>\n",
       "    </tr>\n",
       "  </thead>\n",
       "  <tbody>\n",
       "    <tr>\n",
       "      <th>561</th>\n",
       "      <td>The Dark Knight</td>\n",
       "      <td>2008</td>\n",
       "      <td>9.0</td>\n",
       "      <td>2896249.0</td>\n",
       "      <td>Action, Crime, Drama</td>\n",
       "      <td>$534,987,076</td>\n",
       "      <td>tt0468569</td>\n",
       "      <td>185000000.0</td>\n",
       "      <td>1.004558e+09</td>\n",
       "    </tr>\n",
       "  </tbody>\n",
       "</table>\n",
       "</div>"
      ],
      "text/plain": [
       "               Title  Year  IMDB Rating  IMDB Votes                 Genre  \\\n",
       "561  The Dark Knight  2008          9.0   2896249.0  Action, Crime, Drama   \n",
       "\n",
       "       Box Office    IMDB ID       Budget       Revenue  \n",
       "561  $534,987,076  tt0468569  185000000.0  1.004558e+09  "
      ]
     },
     "execution_count": 37,
     "metadata": {},
     "output_type": "execute_result"
    }
   ],
   "source": [
    "max_movie = movie_data_df.loc[movie_data_df['IMDB Rating'] == 9.0]\n",
    "max_movie"
   ]
  },
  {
   "cell_type": "code",
   "execution_count": 6,
   "id": "e0374186-ad33-459d-b347-1b0785ab50eb",
   "metadata": {},
   "outputs": [
    {
     "data": {
      "text/plain": [
       "1.2"
      ]
     },
     "execution_count": 6,
     "metadata": {},
     "output_type": "execute_result"
    }
   ],
   "source": [
    "movie_data_df['IMDB Rating'].min()\n"
   ]
  },
  {
   "cell_type": "code",
   "execution_count": 38,
   "id": "b83dae1c-421e-4a43-94bb-52db4afd1f4d",
   "metadata": {},
   "outputs": [
    {
     "data": {
      "text/html": [
       "<div>\n",
       "<style scoped>\n",
       "    .dataframe tbody tr th:only-of-type {\n",
       "        vertical-align: middle;\n",
       "    }\n",
       "\n",
       "    .dataframe tbody tr th {\n",
       "        vertical-align: top;\n",
       "    }\n",
       "\n",
       "    .dataframe thead th {\n",
       "        text-align: right;\n",
       "    }\n",
       "</style>\n",
       "<table border=\"1\" class=\"dataframe\">\n",
       "  <thead>\n",
       "    <tr style=\"text-align: right;\">\n",
       "      <th></th>\n",
       "      <th>Title</th>\n",
       "      <th>Year</th>\n",
       "      <th>IMDB Rating</th>\n",
       "      <th>IMDB Votes</th>\n",
       "      <th>Genre</th>\n",
       "      <th>Box Office</th>\n",
       "      <th>IMDB ID</th>\n",
       "      <th>Budget</th>\n",
       "      <th>Revenue</th>\n",
       "    </tr>\n",
       "  </thead>\n",
       "  <tbody>\n",
       "    <tr>\n",
       "      <th>2298</th>\n",
       "      <td>Kidnapping, Caucasian Style</td>\n",
       "      <td>2014</td>\n",
       "      <td>1.2</td>\n",
       "      <td>604.0</td>\n",
       "      <td>Comedy</td>\n",
       "      <td>N/A</td>\n",
       "      <td>tt4537362</td>\n",
       "      <td>3500000.0</td>\n",
       "      <td>179000.0</td>\n",
       "    </tr>\n",
       "  </tbody>\n",
       "</table>\n",
       "</div>"
      ],
      "text/plain": [
       "                            Title  Year  IMDB Rating  IMDB Votes   Genre  \\\n",
       "2298  Kidnapping, Caucasian Style  2014          1.2       604.0  Comedy   \n",
       "\n",
       "     Box Office    IMDB ID     Budget   Revenue  \n",
       "2298        N/A  tt4537362  3500000.0  179000.0  "
      ]
     },
     "execution_count": 38,
     "metadata": {},
     "output_type": "execute_result"
    }
   ],
   "source": [
    "min_movie = movie_data_df.loc[movie_data_df['IMDB Rating'] == 1.2]\n",
    "min_movie"
   ]
  },
  {
   "cell_type": "code",
   "execution_count": 9,
   "id": "be8d8537-bf89-406a-b1b1-353952ac3fef",
   "metadata": {},
   "outputs": [
    {
     "data": {
      "text/plain": [
       "2316"
      ]
     },
     "execution_count": 9,
     "metadata": {},
     "output_type": "execute_result"
    }
   ],
   "source": [
    "movie_data_count = len(movie_data_df['Title'].unique())\n",
    "movie_data_count\n"
   ]
  },
  {
   "cell_type": "code",
   "execution_count": 11,
   "id": "3e1b9781-e9a3-45b7-bce6-9cb3dc00d9f6",
   "metadata": {},
   "outputs": [
    {
     "data": {
      "text/plain": [
       "6.402530017152659"
      ]
     },
     "execution_count": 11,
     "metadata": {},
     "output_type": "execute_result"
    }
   ],
   "source": [
    "average_rating = movie_data_df['IMDB Rating'].mean()\n",
    "average_rating"
   ]
  },
  {
   "cell_type": "code",
   "execution_count": 33,
   "id": "c5262ef0-d9d6-4825-913d-c8d2a3770655",
   "metadata": {},
   "outputs": [
    {
     "data": {
      "text/html": [
       "<div>\n",
       "<style scoped>\n",
       "    .dataframe tbody tr th:only-of-type {\n",
       "        vertical-align: middle;\n",
       "    }\n",
       "\n",
       "    .dataframe tbody tr th {\n",
       "        vertical-align: top;\n",
       "    }\n",
       "\n",
       "    .dataframe thead tr th {\n",
       "        text-align: left;\n",
       "    }\n",
       "\n",
       "    .dataframe thead tr:last-of-type th {\n",
       "        text-align: right;\n",
       "    }\n",
       "</style>\n",
       "<table border=\"1\" class=\"dataframe\">\n",
       "  <thead>\n",
       "    <tr>\n",
       "      <th></th>\n",
       "      <th colspan=\"5\" halign=\"left\">IMDB Rating</th>\n",
       "    </tr>\n",
       "    <tr>\n",
       "      <th></th>\n",
       "      <th>mean</th>\n",
       "      <th>median</th>\n",
       "      <th>var</th>\n",
       "      <th>std</th>\n",
       "      <th>sem</th>\n",
       "    </tr>\n",
       "    <tr>\n",
       "      <th>Year</th>\n",
       "      <th></th>\n",
       "      <th></th>\n",
       "      <th></th>\n",
       "      <th></th>\n",
       "      <th></th>\n",
       "    </tr>\n",
       "  </thead>\n",
       "  <tbody>\n",
       "    <tr>\n",
       "      <th>2005</th>\n",
       "      <td>6.354450</td>\n",
       "      <td>6.5</td>\n",
       "      <td>1.025020</td>\n",
       "      <td>1.012432</td>\n",
       "      <td>0.073257</td>\n",
       "    </tr>\n",
       "    <tr>\n",
       "      <th>2006</th>\n",
       "      <td>6.386321</td>\n",
       "      <td>6.5</td>\n",
       "      <td>1.058817</td>\n",
       "      <td>1.028988</td>\n",
       "      <td>0.070671</td>\n",
       "    </tr>\n",
       "    <tr>\n",
       "      <th>2007</th>\n",
       "      <td>6.506771</td>\n",
       "      <td>6.6</td>\n",
       "      <td>1.033933</td>\n",
       "      <td>1.016825</td>\n",
       "      <td>0.073383</td>\n",
       "    </tr>\n",
       "    <tr>\n",
       "      <th>2008</th>\n",
       "      <td>6.301932</td>\n",
       "      <td>6.4</td>\n",
       "      <td>1.204948</td>\n",
       "      <td>1.097701</td>\n",
       "      <td>0.076296</td>\n",
       "    </tr>\n",
       "    <tr>\n",
       "      <th>2009</th>\n",
       "      <td>6.417972</td>\n",
       "      <td>6.5</td>\n",
       "      <td>0.891296</td>\n",
       "      <td>0.944085</td>\n",
       "      <td>0.064089</td>\n",
       "    </tr>\n",
       "    <tr>\n",
       "      <th>2010</th>\n",
       "      <td>6.373913</td>\n",
       "      <td>6.4</td>\n",
       "      <td>0.888749</td>\n",
       "      <td>0.942735</td>\n",
       "      <td>0.062162</td>\n",
       "    </tr>\n",
       "    <tr>\n",
       "      <th>2011</th>\n",
       "      <td>6.338655</td>\n",
       "      <td>6.4</td>\n",
       "      <td>0.989470</td>\n",
       "      <td>0.994721</td>\n",
       "      <td>0.064478</td>\n",
       "    </tr>\n",
       "    <tr>\n",
       "      <th>2012</th>\n",
       "      <td>6.398551</td>\n",
       "      <td>6.4</td>\n",
       "      <td>1.010920</td>\n",
       "      <td>1.005445</td>\n",
       "      <td>0.069883</td>\n",
       "    </tr>\n",
       "    <tr>\n",
       "      <th>2013</th>\n",
       "      <td>6.509211</td>\n",
       "      <td>6.5</td>\n",
       "      <td>0.863131</td>\n",
       "      <td>0.929048</td>\n",
       "      <td>0.061528</td>\n",
       "    </tr>\n",
       "    <tr>\n",
       "      <th>2014</th>\n",
       "      <td>6.372381</td>\n",
       "      <td>6.4</td>\n",
       "      <td>1.102391</td>\n",
       "      <td>1.049948</td>\n",
       "      <td>0.072453</td>\n",
       "    </tr>\n",
       "    <tr>\n",
       "      <th>2015</th>\n",
       "      <td>6.476000</td>\n",
       "      <td>6.6</td>\n",
       "      <td>0.859421</td>\n",
       "      <td>0.927050</td>\n",
       "      <td>0.065552</td>\n",
       "    </tr>\n",
       "  </tbody>\n",
       "</table>\n",
       "</div>"
      ],
      "text/plain": [
       "     IMDB Rating                                     \n",
       "            mean median       var       std       sem\n",
       "Year                                                 \n",
       "2005    6.354450    6.5  1.025020  1.012432  0.073257\n",
       "2006    6.386321    6.5  1.058817  1.028988  0.070671\n",
       "2007    6.506771    6.6  1.033933  1.016825  0.073383\n",
       "2008    6.301932    6.4  1.204948  1.097701  0.076296\n",
       "2009    6.417972    6.5  0.891296  0.944085  0.064089\n",
       "2010    6.373913    6.4  0.888749  0.942735  0.062162\n",
       "2011    6.338655    6.4  0.989470  0.994721  0.064478\n",
       "2012    6.398551    6.4  1.010920  1.005445  0.069883\n",
       "2013    6.509211    6.5  0.863131  0.929048  0.061528\n",
       "2014    6.372381    6.4  1.102391  1.049948  0.072453\n",
       "2015    6.476000    6.6  0.859421  0.927050  0.065552"
      ]
     },
     "execution_count": 33,
     "metadata": {},
     "output_type": "execute_result"
    }
   ],
   "source": [
    "year_agg = movie_data_df.groupby(['Year']).agg({'movie_data_df': ['mean', 'median', 'var', 'std', 'sem']})\n",
    "year_agg"
   ]
  },
  {
   "cell_type": "code",
   "execution_count": 40,
   "id": "97c6db8f-2bda-4011-be87-ca29c896f759",
   "metadata": {},
   "outputs": [
    {
     "name": "stdout",
     "output_type": "stream",
     "text": [
      "5.2\n",
      "7.6\n"
     ]
    }
   ],
   "source": [
    "ratings_percentiles = movie_data_df['IMDB Rating'].quantile([.1,.9])\n",
    "lowerq = ratings_percentiles[.1]\n",
    "upperq = ratings_percentiles[.9]\n",
    "\n",
    "print(lowerq)\n",
    "print(upperq)"
   ]
  },
  {
   "cell_type": "code",
   "execution_count": 41,
   "id": "c36ff91c-e9ad-44e1-9a7f-1557c8eeb751",
   "metadata": {},
   "outputs": [
    {
     "data": {
      "text/plain": [
       "(array([  4.,   5.,  19.,  47., 154., 369., 765., 651., 292.,  26.]),\n",
       " array([1.2 , 1.98, 2.76, 3.54, 4.32, 5.1 , 5.88, 6.66, 7.44, 8.22, 9.  ]),\n",
       " <BarContainer object of 10 artists>)"
      ]
     },
     "execution_count": 41,
     "metadata": {},
     "output_type": "execute_result"
    },
    {
     "data": {
      "image/png": "[encoded data removed]",
      "text/plain": [
       "<Figure size 640x480 with 1 Axes>"
      ]
     },
     "metadata": {},
     "output_type": "display_data"
    }
   ],
   "source": [
    "plt.hist(movie_data_df['IMDB Rating'])"
   ]
  },
  {
   "cell_type": "code",
   "execution_count": null,
   "id": "90356433-51f6-44f3-9e60-5e5c2a17e398",
   "metadata": {},
   "outputs": [],
   "source": []
  }
 ],
 "metadata": {
  "kernelspec": {
   "display_name": "Python 3 (ipykernel)",
   "language": "python",
   "name": "python3"
  },
  "language_info": {
   "codemirror_mode": {
    "name": "ipython",
    "version": 3
   },
   "file_extension": ".py",
   "mimetype": "text/x-python",
   "name": "python",
   "nbconvert_exporter": "python",
   "pygments_lexer": "ipython3",
   "version": "3.11.7"
  }
 },
 "nbformat": 4,
 "nbformat_minor": 5
}

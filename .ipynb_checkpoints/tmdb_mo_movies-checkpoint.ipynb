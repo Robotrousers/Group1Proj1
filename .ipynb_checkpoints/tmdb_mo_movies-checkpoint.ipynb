{
 "cells": [
  {
   "cell_type": "markdown",
   "metadata": {},
   "source": [
    "Import TMDB Data from Kaggle\n",
    "Merge with our data from OMDB on IMDB ID"
   ]
  },
  {
   "cell_type": "code",
   "execution_count": 1,
   "metadata": {},
   "outputs": [],
   "source": [
    "# dependencies\n",
    "import pandas as pd\n",
    "from pathlib import Path"
   ]
  },
  {
   "cell_type": "code",
   "execution_count": 10,
   "metadata": {},
   "outputs": [
    {
     "ename": "ParserError",
     "evalue": "Error tokenizing data. C error: Expected 100 fields in line 3, saw 142\n",
     "output_type": "error",
     "traceback": [
      "\u001b[1;31m---------------------------------------------------------------------------\u001b[0m",
      "\u001b[1;31mParserError\u001b[0m                               Traceback (most recent call last)",
      "Cell \u001b[1;32mIn[10], line 5\u001b[0m\n\u001b[0;32m      2\u001b[0m tmdb_data_csv \u001b[38;5;241m=\u001b[39m Path(\u001b[38;5;124m\"\u001b[39m\u001b[38;5;124mmovie_data_tmbd.csv\u001b[39m\u001b[38;5;124m\"\u001b[39m)\n\u001b[0;32m      4\u001b[0m omdb_df \u001b[38;5;241m=\u001b[39m pd\u001b[38;5;241m.\u001b[39mread_csv(omdb_data_csv)\n\u001b[1;32m----> 5\u001b[0m tmdb_df \u001b[38;5;241m=\u001b[39m \u001b[43mpd\u001b[49m\u001b[38;5;241;43m.\u001b[39;49m\u001b[43mread_csv\u001b[49m\u001b[43m(\u001b[49m\u001b[43mtmdb_data_csv\u001b[49m\u001b[43m,\u001b[49m\u001b[43mlow_memory\u001b[49m\u001b[38;5;241;43m=\u001b[39;49m\u001b[38;5;28;43;01mFalse\u001b[39;49;00m\u001b[43m)\u001b[49m\n",
      "File \u001b[1;32m~\\anaconda3\\envs\\dev\\lib\\site-packages\\pandas\\io\\parsers\\readers.py:1026\u001b[0m, in \u001b[0;36mread_csv\u001b[1;34m(filepath_or_buffer, sep, delimiter, header, names, index_col, usecols, dtype, engine, converters, true_values, false_values, skipinitialspace, skiprows, skipfooter, nrows, na_values, keep_default_na, na_filter, verbose, skip_blank_lines, parse_dates, infer_datetime_format, keep_date_col, date_parser, date_format, dayfirst, cache_dates, iterator, chunksize, compression, thousands, decimal, lineterminator, quotechar, quoting, doublequote, escapechar, comment, encoding, encoding_errors, dialect, on_bad_lines, delim_whitespace, low_memory, memory_map, float_precision, storage_options, dtype_backend)\u001b[0m\n\u001b[0;32m   1013\u001b[0m kwds_defaults \u001b[38;5;241m=\u001b[39m _refine_defaults_read(\n\u001b[0;32m   1014\u001b[0m     dialect,\n\u001b[0;32m   1015\u001b[0m     delimiter,\n\u001b[1;32m   (...)\u001b[0m\n\u001b[0;32m   1022\u001b[0m     dtype_backend\u001b[38;5;241m=\u001b[39mdtype_backend,\n\u001b[0;32m   1023\u001b[0m )\n\u001b[0;32m   1024\u001b[0m kwds\u001b[38;5;241m.\u001b[39mupdate(kwds_defaults)\n\u001b[1;32m-> 1026\u001b[0m \u001b[38;5;28;01mreturn\u001b[39;00m \u001b[43m_read\u001b[49m\u001b[43m(\u001b[49m\u001b[43mfilepath_or_buffer\u001b[49m\u001b[43m,\u001b[49m\u001b[43m \u001b[49m\u001b[43mkwds\u001b[49m\u001b[43m)\u001b[49m\n",
      "File \u001b[1;32m~\\anaconda3\\envs\\dev\\lib\\site-packages\\pandas\\io\\parsers\\readers.py:626\u001b[0m, in \u001b[0;36m_read\u001b[1;34m(filepath_or_buffer, kwds)\u001b[0m\n\u001b[0;32m    623\u001b[0m     \u001b[38;5;28;01mreturn\u001b[39;00m parser\n\u001b[0;32m    625\u001b[0m \u001b[38;5;28;01mwith\u001b[39;00m parser:\n\u001b[1;32m--> 626\u001b[0m     \u001b[38;5;28;01mreturn\u001b[39;00m \u001b[43mparser\u001b[49m\u001b[38;5;241;43m.\u001b[39;49m\u001b[43mread\u001b[49m\u001b[43m(\u001b[49m\u001b[43mnrows\u001b[49m\u001b[43m)\u001b[49m\n",
      "File \u001b[1;32m~\\anaconda3\\envs\\dev\\lib\\site-packages\\pandas\\io\\parsers\\readers.py:1923\u001b[0m, in \u001b[0;36mTextFileReader.read\u001b[1;34m(self, nrows)\u001b[0m\n\u001b[0;32m   1916\u001b[0m nrows \u001b[38;5;241m=\u001b[39m validate_integer(\u001b[38;5;124m\"\u001b[39m\u001b[38;5;124mnrows\u001b[39m\u001b[38;5;124m\"\u001b[39m, nrows)\n\u001b[0;32m   1917\u001b[0m \u001b[38;5;28;01mtry\u001b[39;00m:\n\u001b[0;32m   1918\u001b[0m     \u001b[38;5;66;03m# error: \"ParserBase\" has no attribute \"read\"\u001b[39;00m\n\u001b[0;32m   1919\u001b[0m     (\n\u001b[0;32m   1920\u001b[0m         index,\n\u001b[0;32m   1921\u001b[0m         columns,\n\u001b[0;32m   1922\u001b[0m         col_dict,\n\u001b[1;32m-> 1923\u001b[0m     ) \u001b[38;5;241m=\u001b[39m \u001b[38;5;28;43mself\u001b[39;49m\u001b[38;5;241;43m.\u001b[39;49m\u001b[43m_engine\u001b[49m\u001b[38;5;241;43m.\u001b[39;49m\u001b[43mread\u001b[49m\u001b[43m(\u001b[49m\u001b[43m  \u001b[49m\u001b[38;5;66;43;03m# type: ignore[attr-defined]\u001b[39;49;00m\n\u001b[0;32m   1924\u001b[0m \u001b[43m        \u001b[49m\u001b[43mnrows\u001b[49m\n\u001b[0;32m   1925\u001b[0m \u001b[43m    \u001b[49m\u001b[43m)\u001b[49m\n\u001b[0;32m   1926\u001b[0m \u001b[38;5;28;01mexcept\u001b[39;00m \u001b[38;5;167;01mException\u001b[39;00m:\n\u001b[0;32m   1927\u001b[0m     \u001b[38;5;28mself\u001b[39m\u001b[38;5;241m.\u001b[39mclose()\n",
      "File \u001b[1;32m~\\anaconda3\\envs\\dev\\lib\\site-packages\\pandas\\io\\parsers\\c_parser_wrapper.py:239\u001b[0m, in \u001b[0;36mCParserWrapper.read\u001b[1;34m(self, nrows)\u001b[0m\n\u001b[0;32m    236\u001b[0m         data \u001b[38;5;241m=\u001b[39m _concatenate_chunks(chunks)\n\u001b[0;32m    238\u001b[0m     \u001b[38;5;28;01melse\u001b[39;00m:\n\u001b[1;32m--> 239\u001b[0m         data \u001b[38;5;241m=\u001b[39m \u001b[38;5;28;43mself\u001b[39;49m\u001b[38;5;241;43m.\u001b[39;49m\u001b[43m_reader\u001b[49m\u001b[38;5;241;43m.\u001b[39;49m\u001b[43mread\u001b[49m\u001b[43m(\u001b[49m\u001b[43mnrows\u001b[49m\u001b[43m)\u001b[49m\n\u001b[0;32m    240\u001b[0m \u001b[38;5;28;01mexcept\u001b[39;00m \u001b[38;5;167;01mStopIteration\u001b[39;00m:\n\u001b[0;32m    241\u001b[0m     \u001b[38;5;28;01mif\u001b[39;00m \u001b[38;5;28mself\u001b[39m\u001b[38;5;241m.\u001b[39m_first_chunk:\n",
      "File \u001b[1;32mparsers.pyx:820\u001b[0m, in \u001b[0;36mpandas._libs.parsers.TextReader.read\u001b[1;34m()\u001b[0m\n",
      "File \u001b[1;32mparsers.pyx:914\u001b[0m, in \u001b[0;36mpandas._libs.parsers.TextReader._read_rows\u001b[1;34m()\u001b[0m\n",
      "File \u001b[1;32mparsers.pyx:891\u001b[0m, in \u001b[0;36mpandas._libs.parsers.TextReader._check_tokenize_status\u001b[1;34m()\u001b[0m\n",
      "File \u001b[1;32mparsers.pyx:2061\u001b[0m, in \u001b[0;36mpandas._libs.parsers.raise_parser_error\u001b[1;34m()\u001b[0m\n",
      "\u001b[1;31mParserError\u001b[0m: Error tokenizing data. C error: Expected 100 fields in line 3, saw 142\n"
     ]
    }
   ],
   "source": [
    "omdb_data_csv = Path(\"omdb_data.csv\")\n",
    "tmdb_data_csv = Path(\"movie_data_tmbd.csv\")\n",
    "\n",
    "omdb_df = pd.read_csv(omdb_data_csv)\n",
    "tmdb_df = pd.read_csv(tmdb_data_csv,low_memory=False)"
   ]
  },
  {
   "cell_type": "code",
   "execution_count": 11,
   "metadata": {},
   "outputs": [
    {
     "name": "stdout",
     "output_type": "stream",
     "text": [
      "  adult|backdrop_path|belongs_to_collection|budget|genres|homepage|id|imdb_id|original_language|original_title|overview|popularity|poster_path|production_companies|production_countries|release_date|revenue|runtime|spoken_languages|status|tagline|title|video|vote_average|vote_count|cast|directors  \\\n",
      "0  False|/zjLR7DbWujKiG7VhtjQ4r3gsjou.jpg||0|[{'i...                                                                                                                                                                                                                                                       \n",
      "1                               False|||0|[{'id': 18                                                                                                                                                                                                                                                       \n",
      "2  False|/7hbpOpGDOYZ4G8ddLuzNmzxZP6.jpg||0|[{'id...                                                                                                                                                                                                                                                       \n",
      "3  False|/28a0wvZb8kyjVBd6BcPEnrHbrhm.jpg||0|[{'i...                                                                                                                                                                                                                                                       \n",
      "4  False|/bQzj8DnIghVqUSe5EsH4uTV3jQb.jpg||500000...                                                                                                                                                                                                                                                       \n",
      "\n",
      "                                          Unnamed: 1  \\\n",
      "0                                  'name': 'Comedy'}   \n",
      "1   'name': 'Drama'}]||43001|tt0055910|fr|Cybèle ...   \n",
      "2                                   'name': 'Drama'}   \n",
      "3   'name': 'Documentary'}]||43003|tt0072962|fr|V...   \n",
      "4                                   'name': 'Drama'}   \n",
      "\n",
      "                                          Unnamed: 2  \\\n",
      "0                                          {'id': 18   \n",
      "1                                  'logo_path': None   \n",
      "2                                          {'id': 37   \n",
      "3   who later committed suicide to avoid more pri...   \n",
      "4                                          {'id': 36   \n",
      "\n",
      "                                          Unnamed: 3  \\\n",
      "0                                   'name': 'Drama'}   \n",
      "1                                    'name': 'Fidès'   \n",
      "2   'name': 'Western'}]||43002|tt0056195|en|Lonel...   \n",
      "3   made his name by selling forged works of art ...   \n",
      "4   'name': 'History'}]||43004|tt0056196|en|Long ...   \n",
      "\n",
      "                                          Unnamed: 4  \\\n",
      "0                                       {'id': 10752   \n",
      "1                              'origin_country': ''}   \n",
      "2                                  'logo_path': None   \n",
      "3                                  'logo_path': None   \n",
      "4   each member is troubled and has been damaged ...   \n",
      "\n",
      "                                          Unnamed: 5  \\\n",
      "0   'name': 'War'}]||43000|tt0055827|fr|Le Capora...   \n",
      "1                                      {'id': 101713   \n",
      "2                         'name': 'Joel Productions'   \n",
      "3                                     'name': 'SACI'   \n",
      "4   they have issues with each other that lead to...   \n",
      "\n",
      "                                     Unnamed: 6  \\\n",
      "0                                Grand Illusion   \n",
      "1                             'logo_path': None   \n",
      "2   'origin_country': ''}]|[{'iso_3166_1': 'US'   \n",
      "3                       'origin_country': 'IR'}   \n",
      "4                             'logo_path': None   \n",
      "\n",
      "                                          Unnamed: 7  \\\n",
      "0   once more bringing together men from across t...   \n",
      "1                      'name': 'Les Films Trocadero'   \n",
      "2   'name': 'United States of America'}]|1962-05-...   \n",
      "3                                         {'id': 533   \n",
      "4                            'name': 'First Company'   \n",
      "\n",
      "                                     Unnamed: 8  \\\n",
      "0                             'logo_path': None   \n",
      "1                         'origin_country': ''}   \n",
      "2                            'name': 'Español'}   \n",
      "3                             'logo_path': None   \n",
      "4   'origin_country': ''}]|[{'iso_3166_1': 'US'   \n",
      "\n",
      "                                          Unnamed: 9  ... Unnamed: 1721  \\\n",
      "0                     'name': 'Les Films du Cyclope'  ...           NaN   \n",
      "1                                        {'id': 2325  ...           NaN   \n",
      "2                                 {'iso_639_1': 'en'  ...           NaN   \n",
      "3                              'name': 'Janus Films'  ...           NaN   \n",
      "4   'name': 'United States of America'}]|1962-10-...  ...           NaN   \n",
      "\n",
      "  Unnamed: 1722 Unnamed: 1723 Unnamed: 1724 Unnamed: 1725 Unnamed: 1726  \\\n",
      "0           NaN           NaN           NaN           NaN           NaN   \n",
      "1           NaN           NaN           NaN           NaN           NaN   \n",
      "2           NaN           NaN           NaN           NaN           NaN   \n",
      "3           NaN           NaN           NaN           NaN           NaN   \n",
      "4           NaN           NaN           NaN           NaN           NaN   \n",
      "\n",
      "  Unnamed: 1727 Unnamed: 1728 Unnamed: 1729 Unnamed: 1730  \n",
      "0           NaN           NaN           NaN           NaN  \n",
      "1           NaN           NaN           NaN           NaN  \n",
      "2           NaN           NaN           NaN           NaN  \n",
      "3           NaN           NaN           NaN           NaN  \n",
      "4           NaN           NaN           NaN           NaN  \n",
      "\n",
      "[5 rows x 1731 columns]\n"
     ]
    }
   ],
   "source": [
    "print(tmdb_df.head())"
   ]
  },
  {
   "cell_type": "code",
   "execution_count": 7,
   "metadata": {},
   "outputs": [
    {
     "name": "stdout",
     "output_type": "stream",
     "text": [
      "                                           Title  Year  IMDB Rating  \\\n",
      "0                                The Dark Knight  2008          9.0   \n",
      "1                                      Inception  2010          8.8   \n",
      "2                                   Interstellar  2014          8.7   \n",
      "3                                   The Departed  2006          8.5   \n",
      "4                                       Whiplash  2014          8.5   \n",
      "5                                   The Prestige  2006          8.5   \n",
      "6                               The Intouchables  2011          8.5   \n",
      "7                               Django Unchained  2012          8.5   \n",
      "8                                         WALL·E  2008          8.4   \n",
      "9                            The Lives of Others  2006          8.4   \n",
      "10                          Inglourious Basterds  2009          8.4   \n",
      "11                         The Dark Knight Rises  2012          8.4   \n",
      "12                                      3 Idiots  2009          8.4   \n",
      "13                                   Toy Story 3  2010          8.3   \n",
      "14                                      The Hunt  2012          8.3   \n",
      "15                                     Incendies  2010          8.3   \n",
      "16                                            Up  2009          8.3   \n",
      "17                                  A Separation  2011          8.3   \n",
      "18                           Like Stars on Earth  2007          8.3   \n",
      "19                                 Batman Begins  2005          8.2   \n",
      "20                       The Wolf of Wall Street  2013          8.2   \n",
      "21                                Shutter Island  2010          8.2   \n",
      "22                           There Will Be Blood  2007          8.2   \n",
      "23                               Pan's Labyrinth  2006          8.2   \n",
      "24                        No Country for Old Men  2007          8.2   \n",
      "25                                     Prisoners  2013          8.2   \n",
      "26                                V for Vendetta  2005          8.2   \n",
      "27                      The Secret in Their Eyes  2009          8.2   \n",
      "28                                    Inside Out  2015          8.1   \n",
      "29                                       Warrior  2011          8.1   \n",
      "30                                   Gran Torino  2008          8.1   \n",
      "31  Harry Potter and the Deathly Hallows: Part 2  2011          8.1   \n",
      "32                              12 Years a Slave  2013          8.1   \n",
      "33                            Mad Max: Fury Road  2015          8.1   \n",
      "34                      The Grand Budapest Hotel  2014          8.1   \n",
      "35                                    Wild Tales  2014          8.1   \n",
      "36                                   Ratatouille  2007          8.1   \n",
      "37                                  Mary and Max  2009          8.1   \n",
      "38                                          Room  2015          8.1   \n",
      "39                                     Spotlight  2015          8.1   \n",
      "40                                          Rush  2013          8.1   \n",
      "41                           Hachi: A Dog's Tale  2009          8.1   \n",
      "42                          My Father and My Son  2005          8.2   \n",
      "43                                 Into the Wild  2007          8.1   \n",
      "44                                      The Help  2011          8.1   \n",
      "\n",
      "   IMDB Votes                         Genre    Box Office  \n",
      "0   2,896,249          Action, Crime, Drama  $534,987,076  \n",
      "1   2,572,598     Action, Adventure, Sci-Fi  $292,587,330  \n",
      "2   2,126,853      Adventure, Drama, Sci-Fi  $188,020,017  \n",
      "3   1,433,399        Crime, Drama, Thriller  $132,399,394  \n",
      "4   1,002,639                  Drama, Music   $13,092,000  \n",
      "5   1,451,983        Drama, Mystery, Sci-Fi   $53,089,891  \n",
      "6     935,390                 Comedy, Drama   $10,198,820  \n",
      "7   1,711,592        Comedy, Drama, Western  $162,805,434  \n",
      "8   1,210,308  Animation, Adventure, Family  $223,808,164  \n",
      "9     412,480      Drama, Mystery, Thriller   $11,286,112  \n",
      "10  1,600,312         Adventure, Drama, War  $120,540,719  \n",
      "11  1,837,469       Action, Drama, Thriller  $448,149,584  \n",
      "12    438,761                 Comedy, Drama    $6,532,874  \n",
      "13    898,166  Animation, Adventure, Comedy  $415,004,880  \n",
      "14    367,181                         Drama      $613,308  \n",
      "15    205,227           Drama, Mystery, War    $2,071,334  \n",
      "16  1,131,534  Animation, Adventure, Comedy  $293,004,164  \n",
      "17    259,785                         Drama    $7,099,055  \n",
      "18    207,890                 Drama, Family    $1,223,869  \n",
      "19  1,589,713          Action, Crime, Drama  $206,863,479  \n",
      "20  1,601,162      Biography, Comedy, Crime  $116,900,694  \n",
      "21  1,467,262      Drama, Mystery, Thriller  $128,012,934  \n",
      "22    644,594                         Drama   $40,222,514  \n",
      "23    705,755           Drama, Fantasy, War   $37,646,380  \n",
      "24  1,068,450        Crime, Drama, Thriller   $74,283,625  \n",
      "25    815,585         Crime, Drama, Mystery   $61,002,302  \n",
      "26  1,183,453         Action, Drama, Sci-Fi   $70,511,035  \n",
      "27    223,548       Drama, Mystery, Romance    $6,391,436  \n",
      "28    808,999  Animation, Adventure, Comedy  $356,921,711  \n",
      "29    500,126          Action, Drama, Sport   $13,657,115  \n",
      "30    818,036                         Drama  $148,095,302  \n",
      "31    953,417    Adventure, Family, Fantasy  $381,447,587  \n",
      "32    743,990     Biography, Drama, History   $56,671,993  \n",
      "33  1,108,995     Action, Adventure, Sci-Fi  $154,280,290  \n",
      "34    892,764      Adventure, Comedy, Crime   $59,301,324  \n",
      "35    218,296       Comedy, Drama, Thriller    $3,106,530  \n",
      "36    834,765  Animation, Adventure, Comedy  $206,445,654  \n",
      "37    187,527      Animation, Comedy, Drama           NaN  \n",
      "38    453,675               Drama, Thriller   $14,677,654  \n",
      "39    504,128       Biography, Crime, Drama   $45,055,776  \n",
      "40    516,847      Action, Biography, Drama   $26,947,624  \n",
      "41    314,219      Biography, Drama, Family           NaN  \n",
      "42     93,018                 Drama, Family           NaN  \n",
      "43    660,446   Adventure, Biography, Drama   $18,354,356  \n",
      "44    496,416                         Drama  $169,708,112  \n"
     ]
    }
   ],
   "source": [
    "print(omdb_df)"
   ]
  },
  {
   "cell_type": "code",
   "execution_count": 5,
   "metadata": {},
   "outputs": [],
   "source": [
    "# Ensure Imdb rating has the same name in both dataframes - rename if necessary"
   ]
  },
  {
   "cell_type": "code",
   "execution_count": null,
   "metadata": {},
   "outputs": [],
   "source": []
  },
  {
   "cell_type": "code",
   "execution_count": 6,
   "metadata": {},
   "outputs": [
    {
     "ename": "KeyError",
     "evalue": "'IMDB Rating'",
     "output_type": "error",
     "traceback": [
      "\u001b[1;31m---------------------------------------------------------------------------\u001b[0m",
      "\u001b[1;31mKeyError\u001b[0m                                  Traceback (most recent call last)",
      "\u001b[1;32m~\\AppData\\Local\\Temp\\ipykernel_22864\\1278840197.py\u001b[0m in \u001b[0;36m?\u001b[1;34m()\u001b[0m\n\u001b[1;32m----> 1\u001b[1;33m \u001b[0mcomplete_data\u001b[0m \u001b[1;33m=\u001b[0m \u001b[0mpd\u001b[0m\u001b[1;33m.\u001b[0m\u001b[0mmerge\u001b[0m\u001b[1;33m(\u001b[0m\u001b[0momdb_df\u001b[0m\u001b[1;33m,\u001b[0m \u001b[0mtmdb_df\u001b[0m\u001b[1;33m,\u001b[0m \u001b[0mon\u001b[0m\u001b[1;33m=\u001b[0m\u001b[1;34m\"IMDB Rating\"\u001b[0m\u001b[1;33m)\u001b[0m\u001b[1;33m\u001b[0m\u001b[1;33m\u001b[0m\u001b[0m\n\u001b[0m",
      "\u001b[1;32m~\\anaconda3\\envs\\dev\\lib\\site-packages\\pandas\\core\\reshape\\merge.py\u001b[0m in \u001b[0;36m?\u001b[1;34m(left, right, how, on, left_on, right_on, left_index, right_index, sort, suffixes, copy, indicator, validate)\u001b[0m\n\u001b[0;32m    166\u001b[0m             \u001b[0mvalidate\u001b[0m\u001b[1;33m=\u001b[0m\u001b[0mvalidate\u001b[0m\u001b[1;33m,\u001b[0m\u001b[1;33m\u001b[0m\u001b[1;33m\u001b[0m\u001b[0m\n\u001b[0;32m    167\u001b[0m             \u001b[0mcopy\u001b[0m\u001b[1;33m=\u001b[0m\u001b[0mcopy\u001b[0m\u001b[1;33m,\u001b[0m\u001b[1;33m\u001b[0m\u001b[1;33m\u001b[0m\u001b[0m\n\u001b[0;32m    168\u001b[0m         )\n\u001b[0;32m    169\u001b[0m     \u001b[1;32melse\u001b[0m\u001b[1;33m:\u001b[0m\u001b[1;33m\u001b[0m\u001b[1;33m\u001b[0m\u001b[0m\n\u001b[1;32m--> 170\u001b[1;33m         op = _MergeOperation(\n\u001b[0m\u001b[0;32m    171\u001b[0m             \u001b[0mleft_df\u001b[0m\u001b[1;33m,\u001b[0m\u001b[1;33m\u001b[0m\u001b[1;33m\u001b[0m\u001b[0m\n\u001b[0;32m    172\u001b[0m             \u001b[0mright_df\u001b[0m\u001b[1;33m,\u001b[0m\u001b[1;33m\u001b[0m\u001b[1;33m\u001b[0m\u001b[0m\n\u001b[0;32m    173\u001b[0m             \u001b[0mhow\u001b[0m\u001b[1;33m=\u001b[0m\u001b[0mhow\u001b[0m\u001b[1;33m,\u001b[0m\u001b[1;33m\u001b[0m\u001b[1;33m\u001b[0m\u001b[0m\n",
      "\u001b[1;32m~\\anaconda3\\envs\\dev\\lib\\site-packages\\pandas\\core\\reshape\\merge.py\u001b[0m in \u001b[0;36m?\u001b[1;34m(self, left, right, how, on, left_on, right_on, left_index, right_index, sort, suffixes, indicator, validate)\u001b[0m\n\u001b[0;32m    790\u001b[0m             \u001b[0mself\u001b[0m\u001b[1;33m.\u001b[0m\u001b[0mright_join_keys\u001b[0m\u001b[1;33m,\u001b[0m\u001b[1;33m\u001b[0m\u001b[1;33m\u001b[0m\u001b[0m\n\u001b[0;32m    791\u001b[0m             \u001b[0mself\u001b[0m\u001b[1;33m.\u001b[0m\u001b[0mjoin_names\u001b[0m\u001b[1;33m,\u001b[0m\u001b[1;33m\u001b[0m\u001b[1;33m\u001b[0m\u001b[0m\n\u001b[0;32m    792\u001b[0m             \u001b[0mleft_drop\u001b[0m\u001b[1;33m,\u001b[0m\u001b[1;33m\u001b[0m\u001b[1;33m\u001b[0m\u001b[0m\n\u001b[0;32m    793\u001b[0m             \u001b[0mright_drop\u001b[0m\u001b[1;33m,\u001b[0m\u001b[1;33m\u001b[0m\u001b[1;33m\u001b[0m\u001b[0m\n\u001b[1;32m--> 794\u001b[1;33m         ) = self._get_merge_keys()\n\u001b[0m\u001b[0;32m    795\u001b[0m \u001b[1;33m\u001b[0m\u001b[0m\n\u001b[0;32m    796\u001b[0m         \u001b[1;32mif\u001b[0m \u001b[0mleft_drop\u001b[0m\u001b[1;33m:\u001b[0m\u001b[1;33m\u001b[0m\u001b[1;33m\u001b[0m\u001b[0m\n\u001b[0;32m    797\u001b[0m             \u001b[0mself\u001b[0m\u001b[1;33m.\u001b[0m\u001b[0mleft\u001b[0m \u001b[1;33m=\u001b[0m \u001b[0mself\u001b[0m\u001b[1;33m.\u001b[0m\u001b[0mleft\u001b[0m\u001b[1;33m.\u001b[0m\u001b[0m_drop_labels_or_levels\u001b[0m\u001b[1;33m(\u001b[0m\u001b[0mleft_drop\u001b[0m\u001b[1;33m)\u001b[0m\u001b[1;33m\u001b[0m\u001b[1;33m\u001b[0m\u001b[0m\n",
      "\u001b[1;32m~\\anaconda3\\envs\\dev\\lib\\site-packages\\pandas\\core\\reshape\\merge.py\u001b[0m in \u001b[0;36m?\u001b[1;34m(self)\u001b[0m\n\u001b[0;32m   1293\u001b[0m                         \u001b[1;31m# Then we're either Hashable or a wrong-length arraylike,\u001b[0m\u001b[1;33m\u001b[0m\u001b[1;33m\u001b[0m\u001b[0m\n\u001b[0;32m   1294\u001b[0m                         \u001b[1;31m#  the latter of which will raise\u001b[0m\u001b[1;33m\u001b[0m\u001b[1;33m\u001b[0m\u001b[0m\n\u001b[0;32m   1295\u001b[0m                         \u001b[0mrk\u001b[0m \u001b[1;33m=\u001b[0m \u001b[0mcast\u001b[0m\u001b[1;33m(\u001b[0m\u001b[0mHashable\u001b[0m\u001b[1;33m,\u001b[0m \u001b[0mrk\u001b[0m\u001b[1;33m)\u001b[0m\u001b[1;33m\u001b[0m\u001b[1;33m\u001b[0m\u001b[0m\n\u001b[0;32m   1296\u001b[0m                         \u001b[1;32mif\u001b[0m \u001b[0mrk\u001b[0m \u001b[1;32mis\u001b[0m \u001b[1;32mnot\u001b[0m \u001b[1;32mNone\u001b[0m\u001b[1;33m:\u001b[0m\u001b[1;33m\u001b[0m\u001b[1;33m\u001b[0m\u001b[0m\n\u001b[1;32m-> 1297\u001b[1;33m                             \u001b[0mright_keys\u001b[0m\u001b[1;33m.\u001b[0m\u001b[0mappend\u001b[0m\u001b[1;33m(\u001b[0m\u001b[0mright\u001b[0m\u001b[1;33m.\u001b[0m\u001b[0m_get_label_or_level_values\u001b[0m\u001b[1;33m(\u001b[0m\u001b[0mrk\u001b[0m\u001b[1;33m)\u001b[0m\u001b[1;33m)\u001b[0m\u001b[1;33m\u001b[0m\u001b[1;33m\u001b[0m\u001b[0m\n\u001b[0m\u001b[0;32m   1298\u001b[0m                         \u001b[1;32melse\u001b[0m\u001b[1;33m:\u001b[0m\u001b[1;33m\u001b[0m\u001b[1;33m\u001b[0m\u001b[0m\n\u001b[0;32m   1299\u001b[0m                             \u001b[1;31m# work-around for merge_asof(right_index=True)\u001b[0m\u001b[1;33m\u001b[0m\u001b[1;33m\u001b[0m\u001b[0m\n\u001b[0;32m   1300\u001b[0m                             \u001b[0mright_keys\u001b[0m\u001b[1;33m.\u001b[0m\u001b[0mappend\u001b[0m\u001b[1;33m(\u001b[0m\u001b[0mright\u001b[0m\u001b[1;33m.\u001b[0m\u001b[0mindex\u001b[0m\u001b[1;33m.\u001b[0m\u001b[0m_values\u001b[0m\u001b[1;33m)\u001b[0m\u001b[1;33m\u001b[0m\u001b[1;33m\u001b[0m\u001b[0m\n",
      "\u001b[1;32m~\\anaconda3\\envs\\dev\\lib\\site-packages\\pandas\\core\\generic.py\u001b[0m in \u001b[0;36m?\u001b[1;34m(self, key, axis)\u001b[0m\n\u001b[0;32m   1907\u001b[0m             \u001b[0mvalues\u001b[0m \u001b[1;33m=\u001b[0m \u001b[0mself\u001b[0m\u001b[1;33m.\u001b[0m\u001b[0mxs\u001b[0m\u001b[1;33m(\u001b[0m\u001b[0mkey\u001b[0m\u001b[1;33m,\u001b[0m \u001b[0maxis\u001b[0m\u001b[1;33m=\u001b[0m\u001b[0mother_axes\u001b[0m\u001b[1;33m[\u001b[0m\u001b[1;36m0\u001b[0m\u001b[1;33m]\u001b[0m\u001b[1;33m)\u001b[0m\u001b[1;33m.\u001b[0m\u001b[0m_values\u001b[0m\u001b[1;33m\u001b[0m\u001b[1;33m\u001b[0m\u001b[0m\n\u001b[0;32m   1908\u001b[0m         \u001b[1;32melif\u001b[0m \u001b[0mself\u001b[0m\u001b[1;33m.\u001b[0m\u001b[0m_is_level_reference\u001b[0m\u001b[1;33m(\u001b[0m\u001b[0mkey\u001b[0m\u001b[1;33m,\u001b[0m \u001b[0maxis\u001b[0m\u001b[1;33m=\u001b[0m\u001b[0maxis\u001b[0m\u001b[1;33m)\u001b[0m\u001b[1;33m:\u001b[0m\u001b[1;33m\u001b[0m\u001b[1;33m\u001b[0m\u001b[0m\n\u001b[0;32m   1909\u001b[0m             \u001b[0mvalues\u001b[0m \u001b[1;33m=\u001b[0m \u001b[0mself\u001b[0m\u001b[1;33m.\u001b[0m\u001b[0maxes\u001b[0m\u001b[1;33m[\u001b[0m\u001b[0maxis\u001b[0m\u001b[1;33m]\u001b[0m\u001b[1;33m.\u001b[0m\u001b[0mget_level_values\u001b[0m\u001b[1;33m(\u001b[0m\u001b[0mkey\u001b[0m\u001b[1;33m)\u001b[0m\u001b[1;33m.\u001b[0m\u001b[0m_values\u001b[0m\u001b[1;33m\u001b[0m\u001b[1;33m\u001b[0m\u001b[0m\n\u001b[0;32m   1910\u001b[0m         \u001b[1;32melse\u001b[0m\u001b[1;33m:\u001b[0m\u001b[1;33m\u001b[0m\u001b[1;33m\u001b[0m\u001b[0m\n\u001b[1;32m-> 1911\u001b[1;33m             \u001b[1;32mraise\u001b[0m \u001b[0mKeyError\u001b[0m\u001b[1;33m(\u001b[0m\u001b[0mkey\u001b[0m\u001b[1;33m)\u001b[0m\u001b[1;33m\u001b[0m\u001b[1;33m\u001b[0m\u001b[0m\n\u001b[0m\u001b[0;32m   1912\u001b[0m \u001b[1;33m\u001b[0m\u001b[0m\n\u001b[0;32m   1913\u001b[0m         \u001b[1;31m# Check for duplicates\u001b[0m\u001b[1;33m\u001b[0m\u001b[1;33m\u001b[0m\u001b[0m\n\u001b[0;32m   1914\u001b[0m         \u001b[1;32mif\u001b[0m \u001b[0mvalues\u001b[0m\u001b[1;33m.\u001b[0m\u001b[0mndim\u001b[0m \u001b[1;33m>\u001b[0m \u001b[1;36m1\u001b[0m\u001b[1;33m:\u001b[0m\u001b[1;33m\u001b[0m\u001b[1;33m\u001b[0m\u001b[0m\n",
      "\u001b[1;31mKeyError\u001b[0m: 'IMDB Rating'"
     ]
    }
   ],
   "source": [
    "complete_data = pd.merge(omdb_df, tmdb_df, on=\"IMDB Rating\")"
   ]
  },
  {
   "cell_type": "code",
   "execution_count": null,
   "metadata": {},
   "outputs": [],
   "source": [
    "complete_data"
   ]
  },
  {
   "cell_type": "code",
   "execution_count": null,
   "metadata": {},
   "outputs": [],
   "source": []
  }
 ],
 "metadata": {
  "kernelspec": {
   "display_name": "Python 3 (ipykernel)",
   "language": "python",
   "name": "python3"
  },
  "language_info": {
   "codemirror_mode": {
    "name": "ipython",
    "version": 3
   },
   "file_extension": ".py",
   "mimetype": "text/x-python",
   "name": "python",
   "nbconvert_exporter": "python",
   "pygments_lexer": "ipython3",
   "version": "3.10.14"
  },
  "varInspector": {
   "cols": {
    "lenName": 16,
    "lenType": 16,
    "lenVar": 40
   },
   "kernels_config": {
    "python": {
     "delete_cmd_postfix": "",
     "delete_cmd_prefix": "del ",
     "library": "var_list.py",
     "varRefreshCmd": "print(var_dic_list())"
    },
    "r": {
     "delete_cmd_postfix": ") ",
     "delete_cmd_prefix": "rm(",
     "library": "var_list.r",
     "varRefreshCmd": "cat(var_dic_list()) "
    }
   },
   "types_to_exclude": [
    "module",
    "function",
    "builtin_function_or_method",
    "instance",
    "_Feature"
   ],
   "window_display": false
  }
 },
 "nbformat": 4,
 "nbformat_minor": 4
}

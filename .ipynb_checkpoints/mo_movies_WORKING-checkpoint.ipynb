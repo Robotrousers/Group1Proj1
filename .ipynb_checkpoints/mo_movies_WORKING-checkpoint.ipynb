{
 "cells": [
  {
   "cell_type": "markdown",
   "metadata": {},
   "source": [
    "### Project1_MoMovies - Mo Money Movies\n",
    "\n",
    "##### How to Make The Most Money with One Movie\n",
    "    "
   ]
  },
  {
   "cell_type": "code",
   "execution_count": 114,
   "metadata": {},
   "outputs": [],
   "source": [
    "# dependencies\n",
    "import requests\n",
    "import json\n",
    "from omdb_key import omdb_key\n",
    "from tmdb_key import tmdb_key\n",
    "from pprint import pprint\n",
    "import pandas as pd\n",
    "import matplotlib.pyplot as plt"
   ]
  },
  {
   "cell_type": "code",
   "execution_count": 115,
   "metadata": {},
   "outputs": [],
   "source": [
    "# OMDB url and api prep\n",
    "url = \"http://www.omdbapi.com/?s=any\"\n",
    "omdb_key = \"&apikey=\" + omdb_key"
   ]
  },
  {
   "cell_type": "code",
   "execution_count": 116,
   "metadata": {},
   "outputs": [
    {
     "name": "stdout",
     "output_type": "stream",
     "text": [
      "{'Response': 'True',\n",
      " 'Search': [{'Poster': 'https://m.media-amazon.com/images/M/MV5BZDk2YTQxZjUtYzJkYi00MTk4LTk4NDAtZmQ3ZGQwMDQxY2ZjXkEyXkFqcGdeQXVyMTQxNzMzNDI@._V1_SX300.jpg',\n",
      "             'Title': 'Any Given Sunday',\n",
      "             'Type': 'movie',\n",
      "             'Year': '1999',\n",
      "             'imdbID': 'tt0146838'},\n",
      "            {'Poster': 'https://m.media-amazon.com/images/M/MV5BOTUzYmIxM2YtYjBkZC00M2FiLTllMGQtOTQ5N2UzMzc2YTAzL2ltYWdlXkEyXkFqcGdeQXVyNjc1NTYyMjg@._V1_SX300.jpg',\n",
      "             'Title': 'Any Which Way You Can',\n",
      "             'Type': 'movie',\n",
      "             'Year': '1980',\n",
      "             'imdbID': 'tt0080377'},\n",
      "            {'Poster': 'https://m.media-amazon.com/images/M/MV5BMTc1Nzg0NDEwOV5BMl5BanBnXkFtZTcwODUxNTgxOQ@@._V1_SX300.jpg',\n",
      "             'Title': 'At Any Price',\n",
      "             'Type': 'movie',\n",
      "             'Year': '2012',\n",
      "             'imdbID': 'tt1937449'},\n",
      "            {'Poster': 'https://m.media-amazon.com/images/M/MV5BMTU3NTk0NjE5Nl5BMl5BanBnXkFtZTcwMTU2ODMwOQ@@._V1_SX300.jpg',\n",
      "             'Title': 'ABCD (Any Body Can Dance)',\n",
      "             'Type': 'movie',\n",
      "             'Year': '2013',\n",
      "             'imdbID': 'tt2321163'},\n",
      "            {'Poster': 'https://m.media-amazon.com/images/M/MV5BMTY1NzM4NTM3Nl5BMl5BanBnXkFtZTgwNzgzNjA1NTE@._V1_SX300.jpg',\n",
      "             'Title': 'Any Body Can Dance 2',\n",
      "             'Type': 'movie',\n",
      "             'Year': '2015',\n",
      "             'imdbID': 'tt3679000'},\n",
      "            {'Poster': 'https://m.media-amazon.com/images/M/MV5BMTA3MjM5MjYwNDleQTJeQWpwZ15BbWU3MDcxNTIzNzg@._V1_SX300.jpg',\n",
      "             'Title': 'Any Day Now',\n",
      "             'Type': 'movie',\n",
      "             'Year': '2012',\n",
      "             'imdbID': 'tt2066176'},\n",
      "            {'Poster': 'https://m.media-amazon.com/images/M/MV5BYzIxNDc3ZTktODkyZi00YjFmLWJkZjAtODE0NDg2NjkzMGRkXkEyXkFqcGdeQXVyNDY2MTk1ODk@._V1_SX300.jpg',\n",
      "             'Title': 'Knock on Any Door',\n",
      "             'Type': 'movie',\n",
      "             'Year': '1949',\n",
      "             'imdbID': 'tt0041555'},\n",
      "            {'Poster': 'https://m.media-amazon.com/images/M/MV5BMDJmZjRmYTAtY2U2Zi00NWU4LWIxZTEtNDFiNmMwZWNlZGIyXkEyXkFqcGdeQXVyNjg2NjExMzY@._V1_SX300.jpg',\n",
      "             'Title': 'Any Number Can Win',\n",
      "             'Type': 'movie',\n",
      "             'Year': '1963',\n",
      "             'imdbID': 'tt0057344'},\n",
      "            {'Poster': 'https://m.media-amazon.com/images/M/MV5BMzY1NTc0NzgxN15BMl5BanBnXkFtZTcwMTYxMTAwMQ@@._V1_SX300.jpg',\n",
      "             'Title': 'Getting Any?',\n",
      "             'Type': 'movie',\n",
      "             'Year': '1994',\n",
      "             'imdbID': 'tt0110524'},\n",
      "            {'Poster': 'https://m.media-amazon.com/images/M/MV5BMWJhYWE4MjAtOGVmNC00OTg0LWFkNjAtN2JlMTJlMWFmZGEwL2ltYWdlL2ltYWdlXkEyXkFqcGdeQXVyMTc5NTU1NDU@._V1_SX300.jpg',\n",
      "             'Title': 'Any Way the Wind Blows',\n",
      "             'Type': 'movie',\n",
      "             'Year': '2003',\n",
      "             'imdbID': 'tt0331175'}],\n",
      " 'totalResults': '401'}\n"
     ]
    }
   ],
   "source": [
    "response = requests.get(url + omdb_key)\n",
    "data = response.json()\n",
    "pprint(data)"
   ]
  },
  {
   "cell_type": "code",
   "execution_count": 113,
   "metadata": {},
   "outputs": [],
   "source": [
    "# Empty list for holding the movies names\n",
    "movies = []\n",
    "\n",
    "# Define an empty list to fetch the movie data\n",
    "movies_data = []\n",
    "\n",
    "# Loop through movies database to fetch movie data\n",
    "for i, movie in movies:\n",
    "\n",
    "    # Create endpoint URL with each movie\n",
    "    movies_url = url + omdb_key\n",
    "\n",
    "# Run an API request for each of the movies\n",
    "    # Parse the JSON and retrieve data\n",
    "    movies_response = requests.get(movie_url).json()\n",
    "\n",
    "    # Parse out title, year, imdbVotes, imdbRating\n",
    "    movie_title = movies_response[0][\"Title\"]\n",
    "    movie_year = movies_response[0][\"Year\"]\n",
    "    movie_rating = movies_response[0][\"imdbRating\"]\n",
    "    movie_votes = movies_response[0][\"imdbVotes\"]\n",
    "    movie_genre = movies_response[0][\"Genre\"]\n",
    "\n",
    "    if int(data['Year']) in data and int(data['Year']) >= 2005 and int(data['Year']) <= 2016:\n",
    "        \n",
    "    # Append the City information into city_data list\n",
    "        movies_data.append({\"Title\": movie_title,\n",
    "                        \"Release Year\": movie_year,\n",
    "                        \"IMDB Rating\": movie_rating,\n",
    "                        \"Number of Votes\": movie_votes,\n",
    "                        \"Movie Genre\": movie_genre})\n"
   ]
  },
  {
   "cell_type": "code",
   "execution_count": 101,
   "metadata": {},
   "outputs": [],
   "source": [
    "for year in range(2005, 2016):\n",
    "  # Search for popular movies by year\n",
    "  url = f\"{base_url}?s=popular&y={year}&apikey={omdb_key}\"\n",
    "  response = requests.get(url)\n",
    "  data = response.json()\n",
    "    \n"
   ]
  },
  {
   "cell_type": "code",
   "execution_count": null,
   "metadata": {},
   "outputs": [],
   "source": []
  }
 ],
 "metadata": {
  "kernelspec": {
   "display_name": "Python 3 (ipykernel)",
   "language": "python",
   "name": "python3"
  },
  "language_info": {
   "codemirror_mode": {
    "name": "ipython",
    "version": 3
   },
   "file_extension": ".py",
   "mimetype": "text/x-python",
   "name": "python",
   "nbconvert_exporter": "python",
   "pygments_lexer": "ipython3",
   "version": "3.10.14"
  },
  "varInspector": {
   "cols": {
    "lenName": 16,
    "lenType": 16,
    "lenVar": 40
   },
   "kernels_config": {
    "python": {
     "delete_cmd_postfix": "",
     "delete_cmd_prefix": "del ",
     "library": "var_list.py",
     "varRefreshCmd": "print(var_dic_list())"
    },
    "r": {
     "delete_cmd_postfix": ") ",
     "delete_cmd_prefix": "rm(",
     "library": "var_list.r",
     "varRefreshCmd": "cat(var_dic_list()) "
    }
   },
   "types_to_exclude": [
    "module",
    "function",
    "builtin_function_or_method",
    "instance",
    "_Feature"
   ],
   "window_display": false
  }
 },
 "nbformat": 4,
 "nbformat_minor": 4
}

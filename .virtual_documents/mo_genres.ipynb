


# dependencies
import pandas as pd
from pathlib import Path
import scipy.stats as stats
import matplotlib.pyplot as plt
import plotly.express as px


#import csv's
data_parq = Path("Resources/mo_movies_data.parquet")

data_df = pd.read_parquet(data_parq)


data_df


# use str.contains() function to get genres - create action genre df
action_movies = data_df[data_df["Genre"].str.contains("Crime")]
action_movies


# create all the genre df's you want to explore here:
horror_movies = data_df[data_df["Genre"].str.contains("Horror")]
comedy_movies = data_df[data_df["Genre"].str.contains("Comedy")]
drama_movies = data_df[data_df["Genre"].str.contains("Drama")]
scifi_movies = data_df[data_df["Genre"].str.contains("Sci-Fi")]






# here's the entire list of genres to pull from:
unique = list(data_df["Genre"].unique())

genre_set = set()
for genres in unique:
    split = genres.replace(" ", "").split(",")
    genre_set.update(split)

#len(genre_set)

genre_count = {k:[data_df[data_df["Genre"].str.contains(k)]["Title"].count(),\
                 data_df[data_df["Genre"].str.contains(k)]["Revenue"].sum(),\
                 data_df[data_df["Genre"].str.contains(k)]["Budget"].sum()] for k in genre_set}
genre_count_df = pd.DataFrame(genre_count).T.rename(columns ={0:"count", 1:"Total Revenue", 2:"Total Budget"})
genre_count_df


genre_total_revenue = {k:data_df[data_df["Genre"].str.contains(k)]["Revenue"].sum() for k in genre_set}
genre_total_revenue





action_movies = data_df[data_df["Genre"].str.contains("Action")]
action_movies


action_movies = data_df[data_df["Genre"].str.contains("Drama")]
action_movies


action_movies = data_df[data_df["Genre"].str.contains("Romance")]
action_movies


action_movies = data_df[data_df["Genre"].str.contains("Thriller")]
action_movies


action_movies = data_df[data_df["Genre"].str.contains("Comedy")]
action_movies


action_movies = data_df[data_df["Genre"].str.contains("Adventure")]
action_movies


action_movies = data_df[data_df["Genre"].str.contains("Sci-Fi")]
action_movies


action_movies = data_df[data_df["Genre"].str.contains("Animation")]
action_movies


action_movies = data_df[data_df["Genre"].str.contains("Horror")]
action_movies


action_movies = data_df[data_df["Genre"].str.contains("Fantasy")]
action_movies


action_movies = data_df[data_df["Genre"].str.contains("Documentary")]
action_movies


action_movies = data_df[data_df["Genre"].str.contains("Western")]
action_movies


action_movies = data_df[data_df["Genre"].str.contains("Action, Adventure, Comedy")]
action_movies


plt.figure(figsize=(20, 10))
plt.scatter(data_df['Genre'], data_df['Revenue'])
plt.xlabel('Genre')
plt.ylabel('Revenue ($ million)')
plt.title('Revenue by Genre')
plt.tight_layout()
plt.xticks(rotation=45)
plt.show()


plt.figure(figsize=(12, 6))
plt.scatter(horror_movies['Genre'], horror_movies['Revenue'])
plt.xlabel('Horror Genre')
plt.ylabel('Revenue ($ million)')
plt.title('Revenue by Horror Genre')
plt.tight_layout()
plt.xticks(rotation=45)
plt.show()


plt.figure(figsize=(12, 6))
plt.scatter(comedy_movies['Genre'], comedy_movies['Revenue'])
plt.xlabel('Comedy Genre')
plt.ylabel('Revenue ($ million)')
plt.title('Revenue by Comedy Genre')
plt.tight_layout()
plt.xticks(rotation=45)
plt.show()


plt.figure(figsize=(12, 6))
plt.scatter(scifi_movies['Genre'], scifi_movies['Revenue'])
plt.xlabel('Sci-Fi Genre')
plt.ylabel('Revenue ($ million)')
plt.title('Revenue by Sci-Fi Genre')
plt.tight_layout()
plt.xticks(rotation=45)
plt.show()


plt.figure(figsize=(12, 6))
plt.scatter(drama_movies['Genre'], drama_movies['Revenue'])
plt.xlabel('Dram Genre')
plt.ylabel('Revenue ($ million)')
plt.title('Revenue by Drama Genre')
plt.tight_layout()
plt.xticks(rotation=45)
plt.show()





# Below, I tried to use a for loop for creating each genre df for us. It was annoying and complicated,
# then i found the str.contains() function with is very simple. So I'd recommend using that to create genre df's for 
# each genre you want to explore


# # use loop for creating genres dictionary?
# genre_df = {}

# # Create a DataFrame for each year
# for genre in data_df['Genre']:
#     genre_df = data_df[data_df['Genre'].isin([genre])]
#     genre_dataframes[genre] = genre_df

# # Access the DataFrame for a specific year
# genre_action_df = genre_dataframes.get(Action)


# https://stackoverflow.com/questions/19169649/how-to-use-str-contains-with-multiple-expressions-in-pandas-dataframes


# https://pandas.pydata.org/docs/reference/api/pandas.DataFrame.isin.html#pandas.DataFrame.isin


# https://www.geeksforgeeks.org/difference-between-list-vs-set-vs-tuple-in-python/


# tried using is but had errors. str.contains() worked better
# action_df = data_df[data_df["Action"].isin["Genre"]]
# action_df







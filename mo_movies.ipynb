{
 "cells": [
  {
   "cell_type": "markdown",
   "metadata": {},
   "source": [
    "### Project1_MoMovies - Mo Money Movies\n",
    "\n",
    "##### How to Make The Most Money with One Movie\n",
    "\n",
    "What genre and budget to make the most profit - Can we get budget info? still need to find a data set for it\n",
    "\n",
    "Movies 2005-2015\n",
    "\n",
    "Data to look for:\n",
    "    <br>&nbsp;&nbsp;&nbsp;&nbsp;&nbsp;&nbsp;profit vs ratings\n",
    "    <br>&nbsp;&nbsp;&nbsp;&nbsp;&nbsp;&nbsp;profit vs genre\n",
    "    <br>&nbsp;&nbsp;&nbsp;&nbsp;&nbsp;&nbsp;genre vs ratings\n",
    "    "
   ]
  },
  {
   "cell_type": "markdown",
   "metadata": {},
   "source": [
    "Notes\n",
    "After spending all that time....I think we need to search for year in range 2005-2015. then have that get the key/values for our list. Then sort by descending, then filter by top 50."
   ]
  },
  {
   "cell_type": "code",
   "execution_count": 4,
   "metadata": {},
   "outputs": [],
   "source": [
    "# dependencies\n",
    "import requests\n",
    "import json\n",
    "from omdb_key import omdb_key\n",
    "from tmdb_key import tmdb_key\n",
    "from pprint import pprint\n",
    "import pandas as pd\n",
    "import matplotlib.pyplot as plt"
   ]
  },
  {
   "cell_type": "code",
   "execution_count": 8,
   "metadata": {},
   "outputs": [],
   "source": [
    "# OMDB url and api prep\n",
    "url = \"http://www.omdbapi.com/?t=\"\n",
    "omdb_key = \"&apikey=\" + omdb_key\n",
    "\n",
    "# TMDB API url and key\n",
    "tmdb_url = \"https://api.themoviedb.org/3/discover/movie\"\n",
    "tmdb_key = tmdb_key"
   ]
  },
  {
   "cell_type": "code",
   "execution_count": 5,
   "metadata": {},
   "outputs": [],
   "source": [
    "#Create a list of movies - do we have to do it manually like this? can we use X for title to for loop through everthing in our year range?\n",
    "# Another API to find \"best\" movies in our date range? We shouldn't have to manually find titles. If we can find another api,\n",
    "# then we could use that to create our list below\n",
    "\n",
    "movie_titles = [\n",
    "    \"There Will Be Blood\", \"The Dark Knight\", \"Pan's Labyrinth\", \"Caché\", \"Zodiac\",\n",
    "    \"V for Vendetta\", \"Whiplash\"\n",
    "]\n",
    "# this is just a random list from google in our date range"
   ]
  },
  {
   "cell_type": "code",
   "execution_count": 15,
   "metadata": {},
   "outputs": [],
   "source": [
    "# Init empty movie data list\n",
    "movies_data = []\n",
    "\n",
    "for title in movie_titles:\n",
    "    response = requests.get(url + title + omdb_key)\n",
    "    data = response.json()\n",
    "    if int(data['Year']) in data and int(data['Year']) >= 2005 and int(data['Year']) <= 2015:\n",
    "        movies_data.append({\n",
    "            'Title': data['Title'],\n",
    "            'Year': int(data['Year']),\n",
    "            'Ratings': data['Ratings'],\n",
    "            'BoxOffice': data['BoxOffice']\n",
    "        })"
   ]
  },
  {
   "cell_type": "code",
   "execution_count": 17,
   "metadata": {},
   "outputs": [
    {
     "name": "stdout",
     "output_type": "stream",
     "text": [
      "{'Actors': 'Miles Teller, J.K. Simmons, Melissa Benoist',\n",
      " 'Awards': 'Won 3 Oscars. 98 wins & 144 nominations total',\n",
      " 'BoxOffice': '$13,092,000',\n",
      " 'Country': 'United States',\n",
      " 'DVD': 'N/A',\n",
      " 'Director': 'Damien Chazelle',\n",
      " 'Genre': 'Drama, Music',\n",
      " 'Language': 'English',\n",
      " 'Metascore': '89',\n",
      " 'Plot': 'A promising young drummer enrolls at a cut-throat music conservatory '\n",
      "         'where his dreams of greatness are mentored by an instructor who will '\n",
      "         \"stop at nothing to realize a student's potential.\",\n",
      " 'Poster': 'https://m.media-amazon.com/images/M/MV5BOTA5NDZlZGUtMjAxOS00YTRkLTkwYmMtYWQ0NWEwZDZiNjEzXkEyXkFqcGdeQXVyMTMxODk2OTU@._V1_SX300.jpg',\n",
      " 'Production': 'N/A',\n",
      " 'Rated': 'R',\n",
      " 'Ratings': [{'Source': 'Internet Movie Database', 'Value': '8.5/10'},\n",
      "             {'Source': 'Rotten Tomatoes', 'Value': '94%'},\n",
      "             {'Source': 'Metacritic', 'Value': '89/100'}],\n",
      " 'Released': '15 Oct 2014',\n",
      " 'Response': 'True',\n",
      " 'Runtime': '106 min',\n",
      " 'Title': 'Whiplash',\n",
      " 'Type': 'movie',\n",
      " 'Website': 'N/A',\n",
      " 'Writer': 'Damien Chazelle',\n",
      " 'Year': '2014',\n",
      " 'imdbID': 'tt2582802',\n",
      " 'imdbRating': '8.5',\n",
      " 'imdbVotes': '1,002,639'}\n"
     ]
    }
   ],
   "source": [
    "# Converting the response to JSON, print the data for review\n",
    "movies_data = response.json()\n",
    "\n",
    "movies_df = pd.DataFrame(movies_data)\n",
    "\n",
    "# movies_df.head()\n",
    "\n",
    "\n",
    "pprint(movies_data)"
   ]
  },
  {
   "cell_type": "code",
   "execution_count": 27,
   "metadata": {},
   "outputs": [
    {
     "data": {
      "text/html": [
       "<div>\n",
       "<style scoped>\n",
       "    .dataframe tbody tr th:only-of-type {\n",
       "        vertical-align: middle;\n",
       "    }\n",
       "\n",
       "    .dataframe tbody tr th {\n",
       "        vertical-align: top;\n",
       "    }\n",
       "\n",
       "    .dataframe thead th {\n",
       "        text-align: right;\n",
       "    }\n",
       "</style>\n",
       "<table border=\"1\" class=\"dataframe\">\n",
       "  <thead>\n",
       "    <tr style=\"text-align: right;\">\n",
       "      <th></th>\n",
       "      <th>Title</th>\n",
       "      <th>Year</th>\n",
       "      <th>Rated</th>\n",
       "      <th>Released</th>\n",
       "      <th>Runtime</th>\n",
       "      <th>Genre</th>\n",
       "      <th>Director</th>\n",
       "      <th>Writer</th>\n",
       "      <th>Actors</th>\n",
       "      <th>Plot</th>\n",
       "      <th>...</th>\n",
       "      <th>Metascore</th>\n",
       "      <th>imdbRating</th>\n",
       "      <th>imdbVotes</th>\n",
       "      <th>imdbID</th>\n",
       "      <th>Type</th>\n",
       "      <th>DVD</th>\n",
       "      <th>BoxOffice</th>\n",
       "      <th>Production</th>\n",
       "      <th>Website</th>\n",
       "      <th>Response</th>\n",
       "    </tr>\n",
       "  </thead>\n",
       "  <tbody>\n",
       "    <tr>\n",
       "      <th>0</th>\n",
       "      <td>Whiplash</td>\n",
       "      <td>2014</td>\n",
       "      <td>R</td>\n",
       "      <td>15 Oct 2014</td>\n",
       "      <td>106 min</td>\n",
       "      <td>Drama, Music</td>\n",
       "      <td>Damien Chazelle</td>\n",
       "      <td>Damien Chazelle</td>\n",
       "      <td>Miles Teller, J.K. Simmons, Melissa Benoist</td>\n",
       "      <td>A promising young drummer enrolls at a cut-thr...</td>\n",
       "      <td>...</td>\n",
       "      <td>89</td>\n",
       "      <td>8.5</td>\n",
       "      <td>1,002,639</td>\n",
       "      <td>tt2582802</td>\n",
       "      <td>movie</td>\n",
       "      <td>N/A</td>\n",
       "      <td>$13,092,000</td>\n",
       "      <td>N/A</td>\n",
       "      <td>N/A</td>\n",
       "      <td>True</td>\n",
       "    </tr>\n",
       "    <tr>\n",
       "      <th>1</th>\n",
       "      <td>Whiplash</td>\n",
       "      <td>2014</td>\n",
       "      <td>R</td>\n",
       "      <td>15 Oct 2014</td>\n",
       "      <td>106 min</td>\n",
       "      <td>Drama, Music</td>\n",
       "      <td>Damien Chazelle</td>\n",
       "      <td>Damien Chazelle</td>\n",
       "      <td>Miles Teller, J.K. Simmons, Melissa Benoist</td>\n",
       "      <td>A promising young drummer enrolls at a cut-thr...</td>\n",
       "      <td>...</td>\n",
       "      <td>89</td>\n",
       "      <td>8.5</td>\n",
       "      <td>1,002,639</td>\n",
       "      <td>tt2582802</td>\n",
       "      <td>movie</td>\n",
       "      <td>N/A</td>\n",
       "      <td>$13,092,000</td>\n",
       "      <td>N/A</td>\n",
       "      <td>N/A</td>\n",
       "      <td>True</td>\n",
       "    </tr>\n",
       "    <tr>\n",
       "      <th>2</th>\n",
       "      <td>Whiplash</td>\n",
       "      <td>2014</td>\n",
       "      <td>R</td>\n",
       "      <td>15 Oct 2014</td>\n",
       "      <td>106 min</td>\n",
       "      <td>Drama, Music</td>\n",
       "      <td>Damien Chazelle</td>\n",
       "      <td>Damien Chazelle</td>\n",
       "      <td>Miles Teller, J.K. Simmons, Melissa Benoist</td>\n",
       "      <td>A promising young drummer enrolls at a cut-thr...</td>\n",
       "      <td>...</td>\n",
       "      <td>89</td>\n",
       "      <td>8.5</td>\n",
       "      <td>1,002,639</td>\n",
       "      <td>tt2582802</td>\n",
       "      <td>movie</td>\n",
       "      <td>N/A</td>\n",
       "      <td>$13,092,000</td>\n",
       "      <td>N/A</td>\n",
       "      <td>N/A</td>\n",
       "      <td>True</td>\n",
       "    </tr>\n",
       "  </tbody>\n",
       "</table>\n",
       "<p>3 rows × 25 columns</p>\n",
       "</div>"
      ],
      "text/plain": [
       "      Title  Year Rated     Released  Runtime         Genre         Director  \\\n",
       "0  Whiplash  2014     R  15 Oct 2014  106 min  Drama, Music  Damien Chazelle   \n",
       "1  Whiplash  2014     R  15 Oct 2014  106 min  Drama, Music  Damien Chazelle   \n",
       "2  Whiplash  2014     R  15 Oct 2014  106 min  Drama, Music  Damien Chazelle   \n",
       "\n",
       "            Writer                                       Actors  \\\n",
       "0  Damien Chazelle  Miles Teller, J.K. Simmons, Melissa Benoist   \n",
       "1  Damien Chazelle  Miles Teller, J.K. Simmons, Melissa Benoist   \n",
       "2  Damien Chazelle  Miles Teller, J.K. Simmons, Melissa Benoist   \n",
       "\n",
       "                                                Plot  ... Metascore  \\\n",
       "0  A promising young drummer enrolls at a cut-thr...  ...        89   \n",
       "1  A promising young drummer enrolls at a cut-thr...  ...        89   \n",
       "2  A promising young drummer enrolls at a cut-thr...  ...        89   \n",
       "\n",
       "  imdbRating  imdbVotes     imdbID   Type  DVD    BoxOffice Production  \\\n",
       "0        8.5  1,002,639  tt2582802  movie  N/A  $13,092,000        N/A   \n",
       "1        8.5  1,002,639  tt2582802  movie  N/A  $13,092,000        N/A   \n",
       "2        8.5  1,002,639  tt2582802  movie  N/A  $13,092,000        N/A   \n",
       "\n",
       "  Website Response  \n",
       "0     N/A     True  \n",
       "1     N/A     True  \n",
       "2     N/A     True  \n",
       "\n",
       "[3 rows x 25 columns]"
      ]
     },
     "execution_count": 27,
     "metadata": {},
     "output_type": "execute_result"
    }
   ],
   "source": [
    "movies_df"
   ]
  },
  {
   "cell_type": "code",
   "execution_count": 29,
   "metadata": {},
   "outputs": [],
   "source": [
    "# drop all columns except for necessary. 'Title', 'Year', 'Genre', 'Metascore'?, 'imdbRaing'?, 'BoxOffice'\n"
   ]
  },
  {
   "cell_type": "code",
   "execution_count": 8,
   "metadata": {},
   "outputs": [],
   "source": [
    "# Print ratings and boxoffice for quick checks. Which specific rating do we want to choose? Metacritic? Rotten Tomatoes? I think metacritic\n",
    "# is only critics and tomatoes in mix of critics and viewsers?\n",
    "\n",
    "# print(f\"The movie's ratings are {data['Ratings']}.\")\n",
    "# print(f\"The movie made {data['BoxOffice']} at the box office.\")"
   ]
  },
  {
   "cell_type": "code",
   "execution_count": 19,
   "metadata": {},
   "outputs": [],
   "source": [
    "# we need to convert boxoffice to integer and imdBrating(or whichever) as a float- everything is currently a string\n",
    "\n"
   ]
  },
  {
   "cell_type": "code",
   "execution_count": 33,
   "metadata": {},
   "outputs": [
    {
     "ename": "KeyError",
     "evalue": "0    8.5\n1    8.5\n2    8.5\nName: imdbRating, dtype: object",
     "output_type": "error",
     "traceback": [
      "\u001b[1;31m---------------------------------------------------------------------------\u001b[0m",
      "\u001b[1;31mKeyError\u001b[0m                                  Traceback (most recent call last)",
      "\u001b[1;32m~\\AppData\\Local\\Temp\\ipykernel_28028\\2558458410.py\u001b[0m in \u001b[0;36m?\u001b[1;34m()\u001b[0m\n\u001b[0;32m      1\u001b[0m \u001b[1;31m# once we have a ton of titles to sort through or find a way to search for title or has an 'X' variable, this will give us the top 50\u001b[0m\u001b[1;33m\u001b[0m\u001b[1;33m\u001b[0m\u001b[0m\n\u001b[0;32m      2\u001b[0m \u001b[1;31m# to sort by ratings Or groupby? 'BoxOffice' and 'imdbRating'?\u001b[0m\u001b[1;33m\u001b[0m\u001b[1;33m\u001b[0m\u001b[0m\n\u001b[1;32m----> 3\u001b[1;33m \u001b[0mmovies_df\u001b[0m\u001b[1;33m.\u001b[0m\u001b[0msort_values\u001b[0m\u001b[1;33m(\u001b[0m\u001b[0mby\u001b[0m\u001b[1;33m=\u001b[0m\u001b[0mmovies_df\u001b[0m\u001b[1;33m[\u001b[0m\u001b[1;34m\"imdbRating\"\u001b[0m\u001b[1;33m]\u001b[0m\u001b[1;33m,\u001b[0m \u001b[0mascending\u001b[0m\u001b[1;33m=\u001b[0m\u001b[1;32mFalse\u001b[0m\u001b[1;33m)\u001b[0m\u001b[1;33m\u001b[0m\u001b[1;33m\u001b[0m\u001b[0m\n\u001b[0m\u001b[0;32m      4\u001b[0m \u001b[1;33m\u001b[0m\u001b[0m\n\u001b[0;32m      5\u001b[0m \u001b[0mtop_50\u001b[0m \u001b[1;33m=\u001b[0m \u001b[0mmovies_df\u001b[0m\u001b[1;33m.\u001b[0m\u001b[0mhead\u001b[0m\u001b[1;33m(\u001b[0m\u001b[1;36m50\u001b[0m\u001b[1;33m)\u001b[0m\u001b[1;33m\u001b[0m\u001b[1;33m\u001b[0m\u001b[0m\n\u001b[0;32m      6\u001b[0m \u001b[0mpprint\u001b[0m\u001b[1;33m(\u001b[0m\u001b[0mtop_50\u001b[0m\u001b[1;33m)\u001b[0m\u001b[1;33m\u001b[0m\u001b[1;33m\u001b[0m\u001b[0m\n",
      "\u001b[1;32m~\\anaconda3\\Lib\\site-packages\\pandas\\core\\frame.py\u001b[0m in \u001b[0;36m?\u001b[1;34m(self, by, axis, ascending, inplace, kind, na_position, ignore_index, key)\u001b[0m\n\u001b[0;32m   6940\u001b[0m             )\n\u001b[0;32m   6941\u001b[0m         \u001b[1;32melif\u001b[0m \u001b[0mlen\u001b[0m\u001b[1;33m(\u001b[0m\u001b[0mby\u001b[0m\u001b[1;33m)\u001b[0m\u001b[1;33m:\u001b[0m\u001b[1;33m\u001b[0m\u001b[1;33m\u001b[0m\u001b[0m\n\u001b[0;32m   6942\u001b[0m             \u001b[1;31m# len(by) == 1\u001b[0m\u001b[1;33m\u001b[0m\u001b[1;33m\u001b[0m\u001b[0m\n\u001b[0;32m   6943\u001b[0m \u001b[1;33m\u001b[0m\u001b[0m\n\u001b[1;32m-> 6944\u001b[1;33m             \u001b[0mk\u001b[0m \u001b[1;33m=\u001b[0m \u001b[0mself\u001b[0m\u001b[1;33m.\u001b[0m\u001b[0m_get_label_or_level_values\u001b[0m\u001b[1;33m(\u001b[0m\u001b[0mby\u001b[0m\u001b[1;33m[\u001b[0m\u001b[1;36m0\u001b[0m\u001b[1;33m]\u001b[0m\u001b[1;33m,\u001b[0m \u001b[0maxis\u001b[0m\u001b[1;33m=\u001b[0m\u001b[0maxis\u001b[0m\u001b[1;33m)\u001b[0m\u001b[1;33m\u001b[0m\u001b[1;33m\u001b[0m\u001b[0m\n\u001b[0m\u001b[0;32m   6945\u001b[0m \u001b[1;33m\u001b[0m\u001b[0m\n\u001b[0;32m   6946\u001b[0m             \u001b[1;31m# need to rewrap column in Series to apply key function\u001b[0m\u001b[1;33m\u001b[0m\u001b[1;33m\u001b[0m\u001b[0m\n\u001b[0;32m   6947\u001b[0m             \u001b[1;32mif\u001b[0m \u001b[0mkey\u001b[0m \u001b[1;32mis\u001b[0m \u001b[1;32mnot\u001b[0m \u001b[1;32mNone\u001b[0m\u001b[1;33m:\u001b[0m\u001b[1;33m\u001b[0m\u001b[1;33m\u001b[0m\u001b[0m\n",
      "\u001b[1;32m~\\anaconda3\\Lib\\site-packages\\pandas\\core\\generic.py\u001b[0m in \u001b[0;36m?\u001b[1;34m(self, key, axis)\u001b[0m\n\u001b[0;32m   1840\u001b[0m             \u001b[0mvalues\u001b[0m \u001b[1;33m=\u001b[0m \u001b[0mself\u001b[0m\u001b[1;33m.\u001b[0m\u001b[0mxs\u001b[0m\u001b[1;33m(\u001b[0m\u001b[0mkey\u001b[0m\u001b[1;33m,\u001b[0m \u001b[0maxis\u001b[0m\u001b[1;33m=\u001b[0m\u001b[0mother_axes\u001b[0m\u001b[1;33m[\u001b[0m\u001b[1;36m0\u001b[0m\u001b[1;33m]\u001b[0m\u001b[1;33m)\u001b[0m\u001b[1;33m.\u001b[0m\u001b[0m_values\u001b[0m\u001b[1;33m\u001b[0m\u001b[1;33m\u001b[0m\u001b[0m\n\u001b[0;32m   1841\u001b[0m         \u001b[1;32melif\u001b[0m \u001b[0mself\u001b[0m\u001b[1;33m.\u001b[0m\u001b[0m_is_level_reference\u001b[0m\u001b[1;33m(\u001b[0m\u001b[0mkey\u001b[0m\u001b[1;33m,\u001b[0m \u001b[0maxis\u001b[0m\u001b[1;33m=\u001b[0m\u001b[0maxis\u001b[0m\u001b[1;33m)\u001b[0m\u001b[1;33m:\u001b[0m\u001b[1;33m\u001b[0m\u001b[1;33m\u001b[0m\u001b[0m\n\u001b[0;32m   1842\u001b[0m             \u001b[0mvalues\u001b[0m \u001b[1;33m=\u001b[0m \u001b[0mself\u001b[0m\u001b[1;33m.\u001b[0m\u001b[0maxes\u001b[0m\u001b[1;33m[\u001b[0m\u001b[0maxis\u001b[0m\u001b[1;33m]\u001b[0m\u001b[1;33m.\u001b[0m\u001b[0mget_level_values\u001b[0m\u001b[1;33m(\u001b[0m\u001b[0mkey\u001b[0m\u001b[1;33m)\u001b[0m\u001b[1;33m.\u001b[0m\u001b[0m_values\u001b[0m\u001b[1;33m\u001b[0m\u001b[1;33m\u001b[0m\u001b[0m\n\u001b[0;32m   1843\u001b[0m         \u001b[1;32melse\u001b[0m\u001b[1;33m:\u001b[0m\u001b[1;33m\u001b[0m\u001b[1;33m\u001b[0m\u001b[0m\n\u001b[1;32m-> 1844\u001b[1;33m             \u001b[1;32mraise\u001b[0m \u001b[0mKeyError\u001b[0m\u001b[1;33m(\u001b[0m\u001b[0mkey\u001b[0m\u001b[1;33m)\u001b[0m\u001b[1;33m\u001b[0m\u001b[1;33m\u001b[0m\u001b[0m\n\u001b[0m\u001b[0;32m   1845\u001b[0m \u001b[1;33m\u001b[0m\u001b[0m\n\u001b[0;32m   1846\u001b[0m         \u001b[1;31m# Check for duplicates\u001b[0m\u001b[1;33m\u001b[0m\u001b[1;33m\u001b[0m\u001b[0m\n\u001b[0;32m   1847\u001b[0m         \u001b[1;32mif\u001b[0m \u001b[0mvalues\u001b[0m\u001b[1;33m.\u001b[0m\u001b[0mndim\u001b[0m \u001b[1;33m>\u001b[0m \u001b[1;36m1\u001b[0m\u001b[1;33m:\u001b[0m\u001b[1;33m\u001b[0m\u001b[1;33m\u001b[0m\u001b[0m\n",
      "\u001b[1;31mKeyError\u001b[0m: 0    8.5\n1    8.5\n2    8.5\nName: imdbRating, dtype: object"
     ]
    }
   ],
   "source": [
    "# once we have a ton of titles to sort through or find a way to search for title or has an 'X' variable, this will give us the top 50\n",
    "# to sort by ratings Or groupby? 'BoxOffice' and 'imdbRating'?\n",
    "\n",
    "movies_df.sort_values(by=movies_df[\"imdbRating\"], ascending=False)\n",
    "\n",
    "top_50 = movies_df.head(50)\n",
    "pprint(top_50)"
   ]
  },
  {
   "cell_type": "code",
   "execution_count": 31,
   "metadata": {},
   "outputs": [
    {
     "data": {
      "text/plain": [
       "Title         object\n",
       "Year          object\n",
       "Rated         object\n",
       "Released      object\n",
       "Runtime       object\n",
       "Genre         object\n",
       "Director      object\n",
       "Writer        object\n",
       "Actors        object\n",
       "Plot          object\n",
       "Language      object\n",
       "Country       object\n",
       "Awards        object\n",
       "Poster        object\n",
       "Ratings       object\n",
       "Metascore     object\n",
       "imdbRating    object\n",
       "imdbVotes     object\n",
       "imdbID        object\n",
       "Type          object\n",
       "DVD           object\n",
       "BoxOffice     object\n",
       "Production    object\n",
       "Website       object\n",
       "Response      object\n",
       "dtype: object"
      ]
     },
     "execution_count": 31,
     "metadata": {},
     "output_type": "execute_result"
    }
   ],
   "source": [
    "movies_df.dtypes\n"
   ]
  },
  {
   "cell_type": "markdown",
   "metadata": {
    "jp-MarkdownHeadingCollapsed": true
   },
   "source": [
    "### Below here is scrap code for building"
   ]
  },
  {
   "cell_type": "code",
   "execution_count": null,
   "metadata": {},
   "outputs": [],
   "source": []
  },
  {
   "cell_type": "code",
   "execution_count": null,
   "metadata": {},
   "outputs": [],
   "source": [
    "# # list of TV show titles to query\n",
    "# tv_shows = [\"Altered Carbon\", \"Grey's Anatomy\", \"This is Us\", \"The Flash\",\n",
    "#             \"Vikings\", \"Shameless\", \"Arrow\", \"Peaky Blinders\", \"Dirk Gently\"]\n",
    "\n",
    "# # TV Maze show search base URL\n",
    "# base_url = \"http://api.tvmaze.com/search/shows?q=\"\n",
    "\n",
    "# # set up lists to hold response data for name and rating\n",
    "# titles = []\n",
    "# ratings = []\n",
    "\n",
    "# # loop through TV show titles, make requests and parse\n",
    "# for show in tv_shows:\n",
    "#     target_url = base_url + show\n",
    "#     response = requests.get(target_url).json()\n",
    "#     titles.append(response[0]['show']['name'])\n",
    "#     ratings.append(response[0]['show']['rating']['average'])"
   ]
  },
  {
   "cell_type": "code",
   "execution_count": null,
   "metadata": {},
   "outputs": [],
   "source": [
    "# # create DataFrame\n",
    "# shows_df = pd.DataFrame({\n",
    "#     \"title\": titles,\n",
    "#     \"rating\": ratings\n",
    "# })\n",
    "\n",
    "# shows_df"
   ]
  }
 ],
 "metadata": {
  "kernelspec": {
   "display_name": "Python 3 (ipykernel)",
   "language": "python",
   "name": "python3"
  },
  "language_info": {
   "codemirror_mode": {
    "name": "ipython",
    "version": 3
   },
   "file_extension": ".py",
   "mimetype": "text/x-python",
   "name": "python",
   "nbconvert_exporter": "python",
   "pygments_lexer": "ipython3",
   "version": "3.10.14"
  },
  "varInspector": {
   "cols": {
    "lenName": 16,
    "lenType": 16,
    "lenVar": 40
   },
   "kernels_config": {
    "python": {
     "delete_cmd_postfix": "",
     "delete_cmd_prefix": "del ",
     "library": "var_list.py",
     "varRefreshCmd": "print(var_dic_list())"
    },
    "r": {
     "delete_cmd_postfix": ") ",
     "delete_cmd_prefix": "rm(",
     "library": "var_list.r",
     "varRefreshCmd": "cat(var_dic_list()) "
    }
   },
   "types_to_exclude": [
    "module",
    "function",
    "builtin_function_or_method",
    "instance",
    "_Feature"
   ],
   "window_display": false
  }
 },
 "nbformat": 4,
 "nbformat_minor": 4
}
